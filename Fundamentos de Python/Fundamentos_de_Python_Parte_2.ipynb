{
 "cells": [
  {
   "cell_type": "markdown",
   "metadata": {
    "id": "raRnA7oiupLV"
   },
   "source": [
    "# Operadores Booleanos\n",
    "\n",
    "Un booleano es $1$ o $0$, verdadero o falso.  Con operadores como **and**, **or** o **not**, se pueden realizar consultas nuevas combinando estos operadores."
   ]
  },
  {
   "cell_type": "code",
   "execution_count": 1,
   "metadata": {
    "colab": {
     "base_uri": "https://localhost:8080/",
     "height": 34
    },
    "id": "ayMjSm2h2qDH",
    "outputId": "3e84c427-c9ce-484c-d0ac-48f6101551eb"
   },
   "outputs": [
    {
     "name": "stdout",
     "output_type": "stream",
     "text": [
      "False\n"
     ]
    }
   ],
   "source": [
    "# Define Variables\n",
    "my_house = 120.0 # mts^2\n",
    "your_apartment = 72.0 # mts^2\n",
    "\n",
    "# my_house is bigger than 100 and smaller than 120?\n",
    "print(my_house>100 and my_house<120)"
   ]
  },
  {
   "cell_type": "code",
   "execution_count": 2,
   "metadata": {
    "colab": {
     "base_uri": "https://localhost:8080/",
     "height": 34
    },
    "id": "vaRKPto7XDD6",
    "outputId": "416f3498-6105-481c-ac6e-b1b99803a552"
   },
   "outputs": [
    {
     "name": "stdout",
     "output_type": "stream",
     "text": [
      "True\n"
     ]
    }
   ],
   "source": [
    "# my_house smaller than 72 or bigger than 110?\n",
    "print(my_house<72 or my_house>110)"
   ]
  },
  {
   "cell_type": "code",
   "execution_count": 3,
   "metadata": {
    "colab": {
     "base_uri": "https://localhost:8080/",
     "height": 34
    },
    "id": "J7bxXvqmXF3i",
    "outputId": "54bb5c57-aa61-457a-d7af-907aad11c2a3"
   },
   "outputs": [
    {
     "name": "stdout",
     "output_type": "stream",
     "text": [
      "False\n"
     ]
    }
   ],
   "source": [
    "# Double my_house smaller than triple your_apartment?\n",
    "print(2*my_house < 3*your_apartment)"
   ]
  },
  {
   "cell_type": "code",
   "execution_count": 4,
   "metadata": {
    "colab": {
     "base_uri": "https://localhost:8080/",
     "height": 34
    },
    "id": "n2xBttjBXF6N",
    "outputId": "1b2d5ce0-1ae8-490d-b060-343bc5cd9373"
   },
   "outputs": [
    {
     "name": "stdout",
     "output_type": "stream",
     "text": [
      "False\n"
     ]
    }
   ],
   "source": [
    "# Using not\n",
    "print(not my_house > 100)"
   ]
  },
  {
   "cell_type": "markdown",
   "metadata": {
    "id": "2WJcmvsq4-6K"
   },
   "source": [
    "## Ejercicio 1\n",
    "\n",
    "Para el siguiente codigo de python:\n",
    "\n",
    "```python \n",
    "x = 9\n",
    "y = 10\n",
    "not(not(x < 4) and not(y > 15 or y > 10))\n",
    "````\n",
    "\n",
    "Cuál sería el resultado si ejecutamos este código?\n",
    "\n",
    "a. True\n",
    "\n",
    "b. False\n",
    "\n",
    "c. Correr este comando genera un error"
   ]
  },
  {
   "cell_type": "code",
   "execution_count": 5,
   "metadata": {
    "colab": {
     "base_uri": "https://localhost:8080/",
     "height": 34
    },
    "id": "3Ftnq-QjSmMe",
    "outputId": "71f1bb36-77c3-43ad-e798-6ec9452ed131"
   },
   "outputs": [
    {
     "data": {
      "text/plain": [
       "False"
      ]
     },
     "execution_count": 5,
     "metadata": {},
     "output_type": "execute_result"
    }
   ],
   "source": [
    "x = 9\n",
    "y = 10\n",
    "not(not(x < 4) and not(y > 15 or y > 10))"
   ]
  },
  {
   "cell_type": "markdown",
   "metadata": {
    "id": "Ath2U-5gChXX"
   },
   "source": [
    "# Estructuras de Control"
   ]
  },
  {
   "cell_type": "markdown",
   "metadata": {
    "id": "HiYG9LosZZJ4"
   },
   "source": [
    "## IF\n",
    "\n",
    "Condición es de tipo booleano, y cuando ésta se cumple se ejecuta el bloque.\n",
    "\n",
    "```python\n",
    "if condicion1:\n",
    "  bloque1\n",
    "elif condicion2:\n",
    "  bloque2\n",
    "else:\n",
    "  bloque3\n",
    "```"
   ]
  },
  {
   "cell_type": "markdown",
   "metadata": {
    "id": "ChxNNAw8Ca5f"
   },
   "source": [
    "### Ejercicio 2\n",
    "\n",
    "Teniendo este código en Python:\n",
    "\n",
    "```python\n",
    "area = 10.0\n",
    "if(area < 9) :\n",
    "    print(\"small\")\n",
    "elif(area < 12) :\n",
    "    print(\"medium\")\n",
    "else :\n",
    "    print(\"large\")\n",
    "````\n",
    "\n",
    "Cuál sera la salida si se ejecuta?\n",
    "\n",
    "a. small\n",
    "\n",
    "b. medium\n",
    "\n",
    "c. large\n",
    "\n",
    "d. Error de sintaxis\n"
   ]
  },
  {
   "cell_type": "code",
   "execution_count": 6,
   "metadata": {
    "colab": {
     "base_uri": "https://localhost:8080/",
     "height": 50
    },
    "id": "4Renzlf5rrYP",
    "outputId": "0cc654ce-2290-4d6d-c636-cf8271abfc6d"
   },
   "outputs": [
    {
     "name": "stdout",
     "output_type": "stream",
     "text": [
      "looking around in the bedroom.\n",
      "medium size, nice!\n"
     ]
    }
   ],
   "source": [
    "# Define variables\n",
    "room = \"bed\"\n",
    "size = 180.0\n",
    "\n",
    "# f-elif-else construct for room\n",
    "if room == \"bed\" :\n",
    "    print(\"looking around in the bedroom.\")\n",
    "elif room == \"kit\" :\n",
    "    print(\"looking around in the kitchen.\")\n",
    "else :\n",
    "    print(\"looking around elsewhere.\")\n",
    "\n",
    "# if statement for area\n",
    "if size > 180 :\n",
    "  print(\"big place!\")\n",
    "elif size > 100 :\n",
    "    print(\"medium size, nice!\")\n",
    "else: \n",
    "    print(\"pretty small.\")"
   ]
  },
  {
   "cell_type": "markdown",
   "metadata": {
    "id": "mT4OXWlDM_cC"
   },
   "source": [
    "### Ejercicio 3\n",
    "\n",
    "Dado un número entero $n$, realice las siguientes acciones condicionales:\n",
    "\n",
    "1. Si es impar imprima 'Extraño'\n",
    "2. Si es par y esta en el rango inclusive de 2 a 5, imprima 'No Extraño'\n",
    "3. Si es par y esta en el rango inclusive de 6 a 20, imprima 'Extraño' \n",
    "4. Si es par y es más grande que 20, imprima 'No Extraño'\n",
    "\n",
    "***Ejemplos:***\n",
    "$$n = 3$$\n",
    "$n$ es impar y los números impares son de tipo 'Extraño', así que debe de imprimir 'Extraño'.\n",
    "$$n = 24$$\n",
    "$n$ es par y es mayor que 20, los números pares mayores que 20 son de tipo ' No Extraño', así que debe de imprimir 'No Extraño'.\n"
   ]
  },
  {
   "cell_type": "code",
   "execution_count": null,
   "metadata": {
    "colab": {
     "base_uri": "https://localhost:8080/",
     "height": 50
    },
    "id": "Ut_f2X0cPh9F",
    "outputId": "b423d222-fed5-4217-de3f-d7ec8fb38c13"
   },
   "outputs": [],
   "source": [
    "# Your code\n",
    "\n",
    "n = int(input(\"n: \"))\n",
    "if n % 2 != 0:\n",
    "  print(\"Extraño\")\n",
    "elif n>=2 and n<=5:\n",
    "  print(\"No Extraño\")\n",
    "elif n>=6 and n<=20:\n",
    "  print(\"Extraño\")\n",
    "elif n>20:\n",
    "  print(\"No Extraño\")\n",
    "\n"
   ]
  },
  {
   "cell_type": "markdown",
   "metadata": {
    "id": "u9wCsKUL7lnC"
   },
   "source": [
    "## WHILE\n",
    "\n",
    "El ciclo while se ejecuta mientras la condición sea cierta, si la condición es falsa al inicio, el bloque no se ejecuta y se pasan a ejecutar las sentencias que le siguen. En Python, cualquier valor entero distinto de cero es verdadero y 0 es falso. La condición también puede ser una lista o cualquier secuencia, siendo la secuencia vacía falsa. El cuerpo del bucle debe estar identado, ya que de este modo Python agrupa las sentencias.\n",
    "\n",
    "```python\n",
    "while condicion:\n",
    "  bloque\n",
    "```"
   ]
  },
  {
   "cell_type": "markdown",
   "metadata": {
    "id": "nHpYr3xiCrPP"
   },
   "source": [
    "### Ejercicio 4\n",
    "\n",
    "Cuántos impresiones hará este ciclo de while?\n",
    "\n",
    "```python\n",
    "x = 1\n",
    "while x < 4 :\n",
    "    print(x)\n",
    "    x = x + 1\n",
    "```\n",
    "\n",
    "a. 0\n",
    "\n",
    "b. 1\n",
    "\n",
    "c. 2\n",
    "\n",
    "d. 3"
   ]
  },
  {
   "cell_type": "code",
   "execution_count": null,
   "metadata": {
    "colab": {
     "base_uri": "https://localhost:8080/",
     "height": 286
    },
    "id": "UAGONT6fEDnT",
    "outputId": "5b303348-72a5-4fe4-9ba4-f45174e55764"
   },
   "outputs": [],
   "source": [
    "# Initialize offset\n",
    "offset = 8\n",
    "\n",
    "# Code the while loop\n",
    "while offset != 0:\n",
    "    print(\"correcting...\")\n",
    "    offset = offset - 1 # You can use too: offset -= 1  \n",
    "    print(offset)"
   ]
  },
  {
   "cell_type": "code",
   "execution_count": null,
   "metadata": {
    "colab": {
     "base_uri": "https://localhost:8080/",
     "height": 101
    },
    "id": "WjVii7mOBtBE",
    "outputId": "6ac01472-91ac-4476-8bd8-c6dd22fe1c75"
   },
   "outputs": [],
   "source": [
    "# Iterate Lists\n",
    "lista = ['a','e','i','o','u']\n",
    "while lista:\n",
    "  print(lista.pop())"
   ]
  },
  {
   "cell_type": "code",
   "execution_count": null,
   "metadata": {
    "colab": {
     "base_uri": "https://localhost:8080/",
     "height": 134
    },
    "id": "7A_z2TBiiCdh",
    "outputId": "e46d40b4-87ce-49a8-ffc2-b387ea7a6324"
   },
   "outputs": [],
   "source": [
    "z = 3\n",
    "\n",
    "while z !=  1  :  # any boolean condition could be placed here. Also, notice the : at the end!\n",
    "    print( f\"z = {z}\" )\n",
    "    if z % 2 == 0 : # if z is even, divide by 2\n",
    "        z = z // 2 \n",
    "    else : \n",
    "        z = 3 * z + 1 # if z is odd, multiply by 3 add 1"
   ]
  },
  {
   "cell_type": "markdown",
   "metadata": {
    "id": "YF_Wp9tT7jmp"
   },
   "source": [
    "## FOR\n",
    "\n",
    "Ejecuta un bloque $n$ cantidad de veces, inicia desde $0$ hasta $n-1$. Python permite iterar no solo sobre progresiones aritméticas, sino que recorre los elementos de una secuencia, ya sea lista o cadena, en el orden en que estos aparecen en la misma.\n",
    "\n",
    "```python\n",
    "for idx in range(0,n):\n",
    "  bloque\n",
    "\n",
    "for elem in lista:\n",
    "  bloque\n",
    "```\n",
    "\n",
    "El uso del ciclo para iterar la lista solo da acceso a todos los elementos de la lista, si también se desea acceder a la información del índice se puede usar el método `enumerate()`\n",
    "\n",
    "```python\n",
    "for indice,elemento in enumerate(lista):\n",
    "  print(\"Indice\" + str(indice) + \":\" + str(elemento)\n",
    "````"
   ]
  },
  {
   "cell_type": "markdown",
   "metadata": {
    "id": "j3gPFScbQzyI"
   },
   "source": [
    "### FOR sobre Listas"
   ]
  },
  {
   "cell_type": "code",
   "execution_count": null,
   "metadata": {
    "colab": {
     "base_uri": "https://localhost:8080/",
     "height": 101
    },
    "id": "6vMm9zK7L2cN",
    "outputId": "20ea19fa-6e65-48ba-fde2-3286172e7fa5"
   },
   "outputs": [],
   "source": [
    "# areas list\n",
    "areas = [11.25, 18.0, 20.0, 10.75, 9.50]\n",
    "\n",
    "# for loop using enumerate()\n",
    "for idx,a in enumerate(areas) :\n",
    "    print(\"room\" + str(idx) + \":\" + str(a))"
   ]
  },
  {
   "cell_type": "code",
   "execution_count": null,
   "metadata": {
    "colab": {
     "base_uri": "https://localhost:8080/",
     "height": 101
    },
    "id": "WfXGkaHrPy34",
    "outputId": "5c33d8d1-971e-48eb-dc34-3b2d9025bdc8"
   },
   "outputs": [],
   "source": [
    "# house list of lists\n",
    "house = [[\"hallway\", 11.25], \n",
    "         [\"kitchen\", 18.0], \n",
    "         [\"living room\", 20.0], \n",
    "         [\"bedroom\", 10.75], \n",
    "         [\"bathroom\", 9.50]]\n",
    "# For structure\n",
    "for elem in house:\n",
    "    print(\"the \"+str(elem[0]) + \" is \"+ str(elem[1]) + \"sqm\")"
   ]
  },
  {
   "cell_type": "markdown",
   "metadata": {
    "id": "DrALR41gQ7hH"
   },
   "source": [
    "### FOR sobre Diccionarios"
   ]
  },
  {
   "cell_type": "code",
   "execution_count": null,
   "metadata": {
    "colab": {
     "base_uri": "https://localhost:8080/",
     "height": 134
    },
    "id": "e_D7OgndQ_Jr",
    "outputId": "e6691c94-d072-421f-b9d7-696952c67e49"
   },
   "outputs": [],
   "source": [
    "# Definition of dictionary\n",
    "europe = {'spain':'madrid', 'france':'paris', 'germany':'berlin',\n",
    "          'norway':'oslo', 'italy':'rome', 'poland':'warsaw', 'austria':'vienna' }\n",
    "          \n",
    "# Iterate over europe\n",
    "for key in europe:\n",
    "  print(\"the capital of \"+key+ \" is \"+europe[key]) "
   ]
  },
  {
   "cell_type": "code",
   "execution_count": null,
   "metadata": {
    "colab": {
     "base_uri": "https://localhost:8080/",
     "height": 134
    },
    "id": "TvVYhoEsWnEc",
    "outputId": "e64332b6-150a-446d-f95d-aab3a8631752"
   },
   "outputs": [],
   "source": [
    "# Iterate over europe.items()\n",
    "for key, value in europe.items() :\n",
    "  print(\"the capital of \"+key+ \" is \"+value)"
   ]
  },
  {
   "cell_type": "code",
   "execution_count": null,
   "metadata": {
    "colab": {
     "base_uri": "https://localhost:8080/",
     "height": 134
    },
    "id": "91hP-_W0WnMZ",
    "outputId": "c4e13f0a-fa41-4e8e-e760-0a887aa47347"
   },
   "outputs": [],
   "source": [
    "# Iterate over europe.keys()\n",
    "for key in europe.keys() :\n",
    "  print(\"the capital of \"+key+ \" is \"+europe[key])"
   ]
  },
  {
   "cell_type": "code",
   "execution_count": null,
   "metadata": {
    "colab": {
     "base_uri": "https://localhost:8080/",
     "height": 134
    },
    "id": "tyI_hcEqWnW_",
    "outputId": "05a49f82-252a-4cf1-c684-e036539b8e1b"
   },
   "outputs": [],
   "source": [
    "# Iterate over europe.values()\n",
    "for value in europe.values() :\n",
    "  print(\"the capitals is \"+value) "
   ]
  },
  {
   "cell_type": "markdown",
   "metadata": {
    "id": "xE02aKq5b8y-"
   },
   "source": [
    "### Ejercicio 5\n",
    "\n",
    "Escriba una función que genere un diccionario donde las claves son los numeros del 1 al 15 (ambos incluidos) y los valores son el cuadrado de las claves.\n",
    "\n",
    "Ejemplo:\n",
    "```python\n",
    "{\n",
    "  1 : 1,\n",
    "  2 : 4,\n",
    "  3 : 9,\n",
    "  ...\n",
    "}\n",
    "```"
   ]
  },
  {
   "cell_type": "code",
   "execution_count": null,
   "metadata": {
    "colab": {
     "base_uri": "https://localhost:8080/",
     "height": 54
    },
    "id": "CzHOkVQGco_h",
    "outputId": "2577218e-8e57-4131-c2bd-c34e62c012df"
   },
   "outputs": [],
   "source": [
    "# Your code\n",
    "dic = {}\n",
    "\n",
    "for i in range(1,16):\n",
    "  dic[i] = i**2\n",
    "\n",
    "print(dic)"
   ]
  },
  {
   "cell_type": "markdown",
   "metadata": {
    "id": "12QDJu3enKog"
   },
   "source": [
    "## Control de ciclos"
   ]
  },
  {
   "cell_type": "markdown",
   "metadata": {
    "id": "c4t54cBbVZ8a"
   },
   "source": [
    "### Break\n",
    "\n",
    "Esta función se puede usar en ciclos FOR y WHILE y simplemente termina el ciclo actual y continua con la ejecución de la siguiente instrucción."
   ]
  },
  {
   "cell_type": "code",
   "execution_count": null,
   "metadata": {
    "colab": {
     "base_uri": "https://localhost:8080/",
     "height": 67
    },
    "id": "2PRJOnYfVoCQ",
    "outputId": "c9857098-bf20-46ed-90e6-9502dc875b32"
   },
   "outputs": [],
   "source": [
    "# Break in FOR\n",
    "for char in \"Python\":\n",
    "    if char == \"h\":\n",
    "        break\n",
    "    print (\"char : \" + char)"
   ]
  },
  {
   "cell_type": "code",
   "execution_count": null,
   "metadata": {
    "colab": {
     "base_uri": "https://localhost:8080/",
     "height": 151
    },
    "id": "FnivC54iXUgl",
    "outputId": "1cb7e9df-e4e9-4629-8a34-5599e63c823d"
   },
   "outputs": [],
   "source": [
    "# Break in FOR\n",
    "for i in range(1, 12) : \n",
    "    print( f\"i = {i}\" )\n",
    "    if i == 7 :  \n",
    "        print( \"Found 7, everybody's favorite number! No need to keep working!\")\n",
    "        break"
   ]
  },
  {
   "cell_type": "code",
   "execution_count": null,
   "metadata": {
    "colab": {
     "base_uri": "https://localhost:8080/",
     "height": 101
    },
    "id": "gVzuCMC8XU84",
    "outputId": "8f2260bc-43f3-48e1-ef4f-fd7ec2e392ef"
   },
   "outputs": [],
   "source": [
    "# Break in WHILE\n",
    "value = 10\n",
    "while value > 0:\n",
    "    value = value -1\n",
    "    if value == 5:\n",
    "        break\n",
    "    print (\"value : \" + str(value))\n",
    "\n",
    "print (\"End Script\")"
   ]
  },
  {
   "cell_type": "markdown",
   "metadata": {
    "id": "ycArVMfTXgh6"
   },
   "source": [
    "### Continue\n",
    "\n",
    "Esta función regresa al comienzo del ciclo, ignorando las siguientes lineas de código del ciclo actual e inicia la siguiente iteración.  Se puede usar en ciclos FOR y WHILE."
   ]
  },
  {
   "cell_type": "code",
   "execution_count": null,
   "metadata": {
    "colab": {
     "base_uri": "https://localhost:8080/",
     "height": 101
    },
    "id": "RvLdr5TqXf3T",
    "outputId": "c013037b-0339-43ef-b8c1-3faa72676726"
   },
   "outputs": [],
   "source": [
    "# Continue in FOR\n",
    "for char in \"Python\":\n",
    "    if char == \"h\":\n",
    "        continue\n",
    "    print (\"char : \" + char)"
   ]
  },
  {
   "cell_type": "code",
   "execution_count": null,
   "metadata": {
    "colab": {
     "base_uri": "https://localhost:8080/",
     "height": 202
    },
    "id": "fJUTbwQUXVAu",
    "outputId": "aeaca53f-22fe-4e98-b2be-67285a406712"
   },
   "outputs": [],
   "source": [
    "# Continue in FOR\n",
    "for i in range(1, 12):      \n",
    "    if i % 5 == 0 : # if i is a multiple of 5 \n",
    "        print( \"I don't like multiples of 5, skipping this one\")\n",
    "        continue  # this jumps directly to the beginning of the loop, skipping the rest of _this_ iteration!  \n",
    "        \n",
    "    print( f\"i = {i}\")"
   ]
  },
  {
   "cell_type": "code",
   "execution_count": null,
   "metadata": {
    "colab": {
     "base_uri": "https://localhost:8080/",
     "height": 185
    },
    "id": "5W4Mgaf8nQ10",
    "outputId": "a2c7bf04-f402-4c07-b20f-eecf14e0567b"
   },
   "outputs": [],
   "source": [
    "# Continue in WHILE\n",
    "value = 10\n",
    "while value > 0:\n",
    "    value = value -1\n",
    "    if value == 5:\n",
    "        continue\n",
    "    print (\"value : \" + str(value))\n",
    "\n",
    "print (\"End Script\")"
   ]
  },
  {
   "cell_type": "markdown",
   "metadata": {
    "id": "0oaZnvTbgV_g"
   },
   "source": [
    "### Pass\n",
    "\n",
    "Es una operación no sucede nada cuando se ejecuta.  Se utiliza cuando se requiere por sintaxis una declaración pero no se quiere ejecutar ningún código.  También se usa como un código temporal, hasta que se escriba el código final."
   ]
  },
  {
   "cell_type": "code",
   "execution_count": null,
   "metadata": {
    "colab": {
     "base_uri": "https://localhost:8080/",
     "height": 118
    },
    "id": "Fnr629lInSoc",
    "outputId": "a99fd4cd-6b63-436d-b724-6717d40ab7b2"
   },
   "outputs": [],
   "source": [
    "# Pass in FOR\n",
    "for char in \"Python\":\n",
    "    if char == \"h\":\n",
    "        pass\n",
    "    print (\"char : \" + char)"
   ]
  },
  {
   "cell_type": "code",
   "execution_count": null,
   "metadata": {
    "colab": {
     "base_uri": "https://localhost:8080/",
     "height": 202
    },
    "id": "rGauJmLFg4t-",
    "outputId": "6e41da62-d58b-4b9c-d6ba-f14db6443573"
   },
   "outputs": [],
   "source": [
    "# Pass in WHILE\n",
    "value = 10\n",
    "while value > 0:\n",
    "    value = value -1\n",
    "    if value == 5:\n",
    "        pass\n",
    "    print (\"value : \" + str(value))\n",
    "\n",
    "print (\"End Script\")"
   ]
  },
  {
   "cell_type": "markdown",
   "metadata": {
    "id": "FJB3Y6Y8nXfV"
   },
   "source": [
    "# Errores y Excepciones\n",
    "\n",
    "Hay dos tipos de errores diferentes: *errores de sintaxis* y *excepciones*."
   ]
  },
  {
   "cell_type": "markdown",
   "metadata": {
    "id": "eDcBwZ8niL3v"
   },
   "source": [
    "## Errores de sintaxis\n",
    "\n",
    "En los errores de sintaxis, el interprete repite la línea culpable del error.\n",
    "\n",
    "```python\n",
    "while True print('Hola mundo')\n",
    "```\n",
    "```python\n",
    "File \"<stdin>\", line 1\n",
    "  while True print('Hola mundo')\n",
    "                  ^\n",
    "SyntaxError: invalid syntax\n",
    "```"
   ]
  },
  {
   "cell_type": "markdown",
   "metadata": {
    "id": "603Zf-rLkGT4"
   },
   "source": [
    "## Excepciones\n",
    "\n",
    "Sin importar que la declaración este sintácticamente correcta, puede generar un error cuando se intenta ejecutarla. Los errores detectados durante la ejecución se llaman excepciones pueden ser manejados por los programas en Python. \n",
    "\n",
    "La declaración `try` nos permite manejar las excepciones y trabaja de la siguiente manera:\n",
    "\n",
    "1. Se ejecuta el *bloque try* (el código entre la declaración `try`y `except`)\n",
    "2. Si no ocurre una excepción el `boque except` se omite y termina la ejecución de la declaración `try`.\n",
    "3. Si ocurre una excepción durante la ejecución del *bloque try*, el resto del bloque se omite.  Si el tipo de excepción coincide con la excepción nombreada luevo de la palabra reservada `except`, se ejecuta el *bloque except*, y la ejecución continúa luego de la declaración `try`.\n",
    "4. Si ocurre una excepción que no coincida con la excepción nombrada en el `except`, esta es una excepción no manejada y la ejecución se frena con un mensaje de error indicando lo que sucedió, por ejemplo: **ZeroDivisionError**, **NameError**, **TypeError** y **ValueError**."
   ]
  },
  {
   "cell_type": "code",
   "execution_count": null,
   "metadata": {
    "colab": {
     "base_uri": "https://localhost:8080/",
     "height": 162
    },
    "id": "JJ2i5QUriLS3",
    "outputId": "2c1a0b42-6f49-4b0d-b344-3ddacd4687e7"
   },
   "outputs": [],
   "source": [
    "# ZeroDivisionError\n",
    "10 * (1/0)"
   ]
  },
  {
   "cell_type": "code",
   "execution_count": null,
   "metadata": {
    "colab": {
     "base_uri": "https://localhost:8080/",
     "height": 162
    },
    "id": "KQPEvVfepUyF",
    "outputId": "29b89c7f-617c-4979-c518-3ed6e096ca55"
   },
   "outputs": [],
   "source": [
    "# NameError\n",
    "4 + spam*3"
   ]
  },
  {
   "cell_type": "code",
   "execution_count": null,
   "metadata": {
    "colab": {
     "base_uri": "https://localhost:8080/",
     "height": 162
    },
    "id": "8_jfDp-GpZdw",
    "outputId": "0c3454ba-4ee1-42f9-d528-58821280e6b0"
   },
   "outputs": [],
   "source": [
    "# TypeError\n",
    "'2' + 2"
   ]
  },
  {
   "cell_type": "code",
   "execution_count": null,
   "metadata": {
    "colab": {
     "base_uri": "https://localhost:8080/",
     "height": 162
    },
    "id": "-xO-r4s6ncvC",
    "outputId": "b4a0fce0-2ec6-4daf-c389-53a73b36197e"
   },
   "outputs": [],
   "source": [
    "#ValueError\n",
    "float(\"juan\")"
   ]
  },
  {
   "cell_type": "code",
   "execution_count": null,
   "metadata": {
    "colab": {
     "base_uri": "https://localhost:8080/",
     "height": 50
    },
    "id": "rJnu_9LonY6L",
    "outputId": "f7a3147b-940c-45a6-8fcf-e5008273d196"
   },
   "outputs": [],
   "source": [
    "# try-except structure with particular type of exception defined\n",
    "my_string = \"asdad\"\n",
    "try : \n",
    "    my_string_as_float = float( my_string ) \n",
    "    print( \"the entered value could be converted directly to a number\")\n",
    "except ValueError as err :  \n",
    "    # capture this particular type of exception and bind it to the name 'err'\n",
    "    print( \"an exception was thrown: defaulting to special float value = nan\")\n",
    "    a_as_float = float( \"nan\")\n",
    "print( f\"a_as_float = {a_as_float}\")"
   ]
  },
  {
   "cell_type": "code",
   "execution_count": null,
   "metadata": {
    "colab": {
     "base_uri": "https://localhost:8080/",
     "height": 50
    },
    "id": "s6c254MRp8Aa",
    "outputId": "424de7dd-ab18-44c7-b96c-852e202166af"
   },
   "outputs": [],
   "source": [
    "# try-except structure with general type of exception\n",
    "my_string = \"asdad\"\n",
    "try : \n",
    "    my_string_as_float = float( my_string ) \n",
    "    print( \"the entered value could be converted directly to a number\")\n",
    "except:  \n",
    "    # capture this particular type of exception and bind it to the name 'err'\n",
    "    print( \"an exception was thrown: defaulting to special float value = nan\")\n",
    "    a_as_float = float( \"nan\")\n",
    "print( f\"a_as_float = {a_as_float}\")"
   ]
  },
  {
   "cell_type": "code",
   "execution_count": null,
   "metadata": {
    "colab": {
     "base_uri": "https://localhost:8080/",
     "height": 50
    },
    "id": "CMfgOS7kq7I_",
    "outputId": "67fc17de-9b46-46f1-f09e-438abf9913a9"
   },
   "outputs": [],
   "source": [
    "# try-except structure with general type of exception and print error\n",
    "my_string = \"asdad\"\n",
    "try : \n",
    "    my_string_as_float = float( my_string ) \n",
    "    print( \"the entered value could be converted directly to a number\")\n",
    "except Exception as inst:  \n",
    "    # capture this particular type of exception and bind it to the name 'err'\n",
    "    print( f\"an exception was thrown: {inst}\")\n",
    "    a_as_float = float( \"nan\")\n",
    "print( f\"a_as_float = {a_as_float}\")"
   ]
  },
  {
   "cell_type": "code",
   "execution_count": null,
   "metadata": {
    "colab": {
     "base_uri": "https://localhost:8080/",
     "height": 50
    },
    "id": "1EN353bOqZ4k",
    "outputId": "54975ce8-d14d-4fe5-d245-204a0550d836"
   },
   "outputs": [],
   "source": [
    "# try-except structure with general type of exception\n",
    "my_string = \"asdad\"\n",
    "try : \n",
    "    my_string_as_float = float( my_string ) \n",
    "    print( \"the entered value could be converted directly to a number\")\n",
    "except:\n",
    "    # capture this particular type of exception and bind it to the name 'err'\n",
    "    print( \"an exception was thrown: defaulting to special float value = nan\")\n",
    "    a_as_float = float( \"nan\")\n",
    "print( f\"a_as_float = {a_as_float}\")"
   ]
  },
  {
   "cell_type": "markdown",
   "metadata": {
    "id": "EKnsKemowY9X"
   },
   "source": [
    "La declaración `try` tiene otra clausula opcional `finally` que intenta definir acciones de limpieza que deben ser ejecutadas bajo ciertas circustancias. La cláusula `finally` siempre es ejecutada antes de salir de la declaración `try`, ya sea que una excepción haya ocurrido o no."
   ]
  },
  {
   "cell_type": "code",
   "execution_count": null,
   "metadata": {
    "colab": {
     "base_uri": "https://localhost:8080/",
     "height": 50
    },
    "id": "S9NyzEOwtOV-",
    "outputId": "db1b12d5-431f-41cb-a1ab-1f5a65a7c602"
   },
   "outputs": [],
   "source": [
    "# structure try-except-finally\n",
    "try:\n",
    "  result = x / 0\n",
    "  #result = 4/2\n",
    "except ZeroDivisionError:\n",
    "  print(\"¡división por cero!\")\n",
    "else:\n",
    "  print(\"el resultado es\", result)\n",
    "finally:\n",
    "  print(\"ejecutando la clausula finally\")"
   ]
  },
  {
   "cell_type": "markdown",
   "metadata": {
    "id": "Za6SV4IV3jrR"
   },
   "source": [
    "# Clases\n",
    "\n",
    "Las clases proveen una forma de empaquetar datos y funcionalidad juntos. Al crear una nueva clase, se crea un nuevo *tipo* de objeto, permitiendo crear nuevas *instancias* de este tipo.  Cada instancia de clase puede tener atributos adjuntos para mantener su estado.  Las instancias de clase también pueden tener métodos (definidos por su clase) para modificar su estado.\n",
    "\n",
    "La variable *self* es una instancia de la clase y no es ua palabra reservada de Python, cualquier etiqueta utilizada como primer parámetro tendría el mismo valor (no se aconseja usar otro valor por convención).  Cada vez que declaremos un método en Python, vamos a tener uqe agregarle la variable *self* para que cuando sea invocado el método, Python pase el objeto instanciado y opere con los valores actuales de esa instancia.  \n",
    "  \n",
    "  \n"
   ]
  },
  {
   "cell_type": "code",
   "execution_count": null,
   "metadata": {
    "id": "JbJ31lPrCGwg"
   },
   "outputs": [],
   "source": [
    "# Definimos la clase con nombre Mascota\n",
    "class Mascota:\n",
    "  # Atributos\n",
    "  especie = 'Gato'\n",
    "\n",
    "  \n",
    "  def __init__(self,nombre,especie=especie):\n",
    "    \"\"\"\n",
    "      El método __init__ es una función para inicializar la clase, si no se especifica la especie toma el valor por defecto definido en el atributo.\n",
    "    \"\"\"\n",
    "    self.nombre = nombre\n",
    "    self.especie = especie\n",
    "    self._private=None\n",
    "  \n",
    "  def __str__(self):\n",
    "    \"\"\"\n",
    "      El método __str__ es una función que proporciona una cadena informal de la representación del objeto.\n",
    "    \"\"\"\n",
    "    return \"%s es un %s\" % (self.nombre, self.especie)\n",
    "\n",
    "  def darNombre(self):\n",
    "    \"\"\"\n",
    "      Retorna el nombre de la mascota.\n",
    "    \"\"\"\n",
    "    return self.nombre\n",
    "  \n",
    "  def darEspecie(self):\n",
    "    \"\"\"\n",
    "      Retorna la especie de la mascota.\n",
    "    \"\"\"\n",
    "    return self.especie"
   ]
  },
  {
   "cell_type": "code",
   "execution_count": null,
   "metadata": {
    "id": "nQfkVQdnCM9v"
   },
   "outputs": [],
   "source": [
    "Teo = Mascota(\"Teo\",\"Perro\")"
   ]
  },
  {
   "cell_type": "code",
   "execution_count": null,
   "metadata": {
    "colab": {
     "base_uri": "https://localhost:8080/",
     "height": 34
    },
    "id": "XJ4AQjxzES9Z",
    "outputId": "c36468f0-100c-4d4e-886f-5c8b5572b0a9"
   },
   "outputs": [],
   "source": [
    "print(Teo)"
   ]
  },
  {
   "cell_type": "code",
   "execution_count": null,
   "metadata": {
    "id": "8hKCuS8QFx4k"
   },
   "outputs": [],
   "source": [
    "Teo.especie='Gato'"
   ]
  },
  {
   "cell_type": "code",
   "execution_count": null,
   "metadata": {
    "colab": {
     "base_uri": "https://localhost:8080/",
     "height": 34
    },
    "id": "L1mbbGJbF2qM",
    "outputId": "9c898843-8fb2-4afd-e1de-c71110995328"
   },
   "outputs": [],
   "source": [
    "print(Teo)"
   ]
  },
  {
   "cell_type": "code",
   "execution_count": null,
   "metadata": {
    "id": "gzdIUB-PCY-Q"
   },
   "outputs": [],
   "source": [
    "?Teo.darEspecie"
   ]
  },
  {
   "cell_type": "code",
   "execution_count": null,
   "metadata": {
    "id": "j0C13ThyjgtU"
   },
   "outputs": [],
   "source": []
  },
  {
   "cell_type": "markdown",
   "metadata": {
    "id": "vG1rGnfUyAw_"
   },
   "source": [
    "# Funciones lambda\n",
    "\n",
    "Lambdas es la forma de Python de definir funciones anónimas muy simples cuyo valor de retorno es el resultado de evaluar una sola expresión.\n",
    "\n",
    "```python\n",
    "lambda argumentos: resultado\n",
    "```\n",
    "\n",
    "Una de las razones por las que desees utilizar este tipo de funciones es por rapidez y en ciertos casos claridad del código."
   ]
  },
  {
   "cell_type": "code",
   "execution_count": null,
   "metadata": {
    "colab": {
     "base_uri": "https://localhost:8080/",
     "height": 34
    },
    "id": "L-9Zzcf-xV9M",
    "outputId": "b6194205-615f-4d35-e437-eb7325c1ebec"
   },
   "outputs": [],
   "source": [
    "# Define function\n",
    "def function_sum(x,y):\n",
    "  return x + y\n",
    "function_sum(2,3)"
   ]
  },
  {
   "cell_type": "code",
   "execution_count": null,
   "metadata": {
    "colab": {
     "base_uri": "https://localhost:8080/",
     "height": 34
    },
    "id": "F2cBw1UCzXxu",
    "outputId": "72a884e6-8664-42b2-b653-35ce3cf04290"
   },
   "outputs": [],
   "source": [
    "# Define lambda\n",
    "lambda_function = lambda x,y: x + y\n",
    "lambda_function(2,3)"
   ]
  },
  {
   "cell_type": "markdown",
   "metadata": {
    "id": "CCrgLw9kInl6"
   },
   "source": [
    "## Usando Lambda con Sorted"
   ]
  },
  {
   "cell_type": "code",
   "execution_count": null,
   "metadata": {
    "id": "tubNIOE1IlNX"
   },
   "outputs": [],
   "source": [
    "data_recs = [\n",
    "  [ \"Maria\",  7.0, 8.0, 3.0 ],\n",
    "  [ \"Juan\" ,  5.0, 2.0, 2.0 ],\n",
    "  [ \"Mateo\",  1.0, 4.0, 4.0 ],     \n",
    "]"
   ]
  },
  {
   "cell_type": "markdown",
   "metadata": {
    "id": "I0gMsYRKI0vS"
   },
   "source": [
    "Se quiere ordenar estos registros por el valor del primer componente numérico (índice 1 en la lista)"
   ]
  },
  {
   "cell_type": "code",
   "execution_count": null,
   "metadata": {
    "colab": {
     "base_uri": "https://localhost:8080/",
     "height": 34
    },
    "id": "cnnxmx34GLCP",
    "outputId": "083fc6bf-30ec-4b78-d764-9abff9582261"
   },
   "outputs": [],
   "source": [
    "data_recs[:][1]"
   ]
  },
  {
   "cell_type": "code",
   "execution_count": null,
   "metadata": {
    "colab": {
     "base_uri": "https://localhost:8080/",
     "height": 34
    },
    "id": "OzS9mRMOI12A",
    "outputId": "5d12935f-7cc2-435f-c43b-9168eaf5d541"
   },
   "outputs": [],
   "source": [
    "records_sorted = sorted(data_recs, key = lambda rec : rec[1])\n",
    "records_sorted"
   ]
  },
  {
   "cell_type": "markdown",
   "metadata": {
    "id": "u5yJ_cd0caZ3"
   },
   "source": [
    "## Ejercicio 6\n",
    "\n",
    "Modifique el anterior ejemplo y ordene los registros en order descendiente por el ultimo record. Ayuda ( reverse = True )"
   ]
  },
  {
   "cell_type": "code",
   "execution_count": null,
   "metadata": {
    "colab": {
     "base_uri": "https://localhost:8080/",
     "height": 151
    },
    "id": "PSAOrEaoqRWM",
    "outputId": "48d8a89a-92e2-4db9-b946-26f19ec4a660"
   },
   "outputs": [],
   "source": [
    "help(sorted)"
   ]
  },
  {
   "cell_type": "code",
   "execution_count": null,
   "metadata": {
    "colab": {
     "base_uri": "https://localhost:8080/",
     "height": 34
    },
    "id": "sGLTLVN8cg-Z",
    "outputId": "b353bfc5-531c-462f-9ebf-f823975900ca"
   },
   "outputs": [],
   "source": [
    "# Your Code\n",
    "records_sorted = sorted(data_recs, key = lambda rec : rec[-1],reverse=True)\n",
    "records_sorted"
   ]
  },
  {
   "cell_type": "markdown",
   "metadata": {
    "id": "B4ldG2-h1zj5"
   },
   "source": [
    "# Función filter()\n",
    "\n",
    "Es una función que permite filtrar, a partir de una lista o iterador y una función condicional, es capaz de devolver una nueva colección con los elementos filtrados que cumplan la condición.  En este tipo de función las funciones `lambda` son muy utiles.\n",
    "\n",
    "La función `filter(funcion,iterable)` construye una lista con aquellos elementos en los cuales `funcion(iterable[i])` retorna `True`.\n"
   ]
  },
  {
   "cell_type": "code",
   "execution_count": null,
   "metadata": {
    "colab": {
     "base_uri": "https://localhost:8080/",
     "height": 34
    },
    "id": "UVIJlDDm5ZKj",
    "outputId": "5b61d3e2-16bf-419b-8f5c-4703bb1439fb"
   },
   "outputs": [],
   "source": [
    "a = [0, 1, -1, -2, 3, -4, 5, 6, 7]\n",
    "list(filter(lambda x: x > 0, a))"
   ]
  },
  {
   "cell_type": "code",
   "execution_count": null,
   "metadata": {
    "colab": {
     "base_uri": "https://localhost:8080/",
     "height": 34
    },
    "id": "yhhtTZNJzi3E",
    "outputId": "a236a1ed-89a2-4512-d0ab-090fd73aef9d"
   },
   "outputs": [],
   "source": [
    "def multiple(numero):    # Primero declaramos una función condicional\n",
    "    if numero % 5 == 0:  # Comprobamos si un numero es múltiple de cinco\n",
    "        return True      # Sólo devolvemos True si lo es\n",
    "\n",
    "numeros = [2, 5, 10, 23, 50, 33]\n",
    "\n",
    "list(filter(multiple, numeros))"
   ]
  },
  {
   "cell_type": "code",
   "execution_count": null,
   "metadata": {
    "colab": {
     "base_uri": "https://localhost:8080/",
     "height": 34
    },
    "id": "S3Wh1MMf2jy7",
    "outputId": "e9eb8253-2f88-4b56-812b-e5c16f592b97"
   },
   "outputs": [],
   "source": [
    "list( filter(lambda numero: numero%5 == 0, numeros) )"
   ]
  },
  {
   "cell_type": "markdown",
   "metadata": {
    "id": "ea0V1PIz2_k3"
   },
   "source": [
    "## Filtrando objetos"
   ]
  },
  {
   "cell_type": "code",
   "execution_count": null,
   "metadata": {
    "colab": {
     "base_uri": "https://localhost:8080/",
     "height": 84
    },
    "id": "6vyVk4GE2-sB",
    "outputId": "56da1a9d-feb3-45da-cfdb-03c49d1e6e5f"
   },
   "outputs": [],
   "source": [
    "# Definimos una clase persona\n",
    "class Persona:\n",
    "\n",
    "    def __init__(self, nombre, edad):\n",
    "        self.nombre = nombre\n",
    "        self.edad = edad\n",
    "\n",
    "    def __str__(self):\n",
    "        return \"{} de {} años\".format(self.nombre, self.edad)\n",
    "\n",
    "# Se crea una lista con 4 personas\n",
    "personas = [\n",
    "    Persona(\"Juan\", 35),\n",
    "    Persona(\"Marta\", 16),\n",
    "    Persona(\"Manuel\", 78),\n",
    "    Persona(\"Eduardo\", 12)\n",
    "]\n",
    "\n",
    "# Visualizamos la lista\n",
    "for p in personas:\n",
    "    print(p)"
   ]
  },
  {
   "cell_type": "code",
   "execution_count": null,
   "metadata": {
    "colab": {
     "base_uri": "https://localhost:8080/",
     "height": 50
    },
    "id": "1aZrKfZ723vB",
    "outputId": "df2b5fec-bbc4-4ff3-e584-003a7814e2a3"
   },
   "outputs": [],
   "source": [
    "# Se desea filtrar los menores de 18\n",
    "menores = filter(lambda persona: persona.edad < 18, personas)\n",
    "\n",
    "# Visualizamos los objetos de la lista filtrada\n",
    "for menor in menores:\n",
    "    print(menor)"
   ]
  },
  {
   "cell_type": "markdown",
   "metadata": {
    "id": "jvwFgni-G21s"
   },
   "source": [
    "# Función map()\n",
    "\n",
    "Funciona similar a `filter()`, con la diferencia que en lugar de aplicar una condición a un elemento de una lista o secuencia, aplica una función sobre todos los elementos y como resultado se devuelve un iterable de tipo map."
   ]
  },
  {
   "cell_type": "code",
   "execution_count": null,
   "metadata": {
    "colab": {
     "base_uri": "https://localhost:8080/",
     "height": 34
    },
    "id": "Lh2S_KoBGEYo",
    "outputId": "0cfb060b-60cb-415b-be67-a6adf28cbd4c"
   },
   "outputs": [],
   "source": [
    "numeros = [2, 5, 10, 23, 50, 33]\n",
    "list( map(lambda x: x*2, numeros) )"
   ]
  },
  {
   "cell_type": "markdown",
   "metadata": {
    "id": "9YusI2PeH23G"
   },
   "source": [
    "La función `map()` se utiliza mucho junto a expresiones lambda ya que permite ahorrar esfuerzo creando ciclos FOR.  Adicional se puede utilizar sobre más de un iterable con la condición que tengan la misma longitud."
   ]
  },
  {
   "cell_type": "code",
   "execution_count": null,
   "metadata": {
    "colab": {
     "base_uri": "https://localhost:8080/",
     "height": 34
    },
    "id": "PEzzQDI9HiTn",
    "outputId": "45c782bd-aa35-411b-c68d-c3be1e40b9ef"
   },
   "outputs": [],
   "source": [
    "a = [1, 2, 3, 4, 5]\n",
    "b = [6, 7, 8, 9, 10]\n",
    "\n",
    "list( map(lambda x,y : x*y, a,b) )"
   ]
  },
  {
   "cell_type": "code",
   "execution_count": null,
   "metadata": {
    "colab": {
     "base_uri": "https://localhost:8080/",
     "height": 34
    },
    "id": "uKmVqAWxH8Fy",
    "outputId": "27a0525b-67af-4cd3-cc07-7b9d2596ba7d"
   },
   "outputs": [],
   "source": [
    "c = [11, 12, 13, 14, 15]\n",
    "\n",
    "list( map(lambda x,y,z : x*y*z, a,b,c) )"
   ]
  },
  {
   "cell_type": "markdown",
   "metadata": {
    "id": "1NbNO5ATIDOn"
   },
   "source": [
    "## Mapeando objetos"
   ]
  },
  {
   "cell_type": "code",
   "execution_count": null,
   "metadata": {
    "colab": {
     "base_uri": "https://localhost:8080/",
     "height": 84
    },
    "id": "Wglb4CfPH83A",
    "outputId": "7df299a0-bd0b-4e3f-a07e-bb7865e3b1de"
   },
   "outputs": [],
   "source": [
    "personas = map(lambda p: Persona(p.nombre, p.edad+1), personas)\n",
    "\n",
    "for persona in personas:\n",
    "    print(persona)"
   ]
  },
  {
   "cell_type": "markdown",
   "metadata": {
    "id": "J9_oR2G3JC2y"
   },
   "source": [
    "# List comprehensions\n",
    "\n",
    "Es una funcionalidad que nos permite crear listas en una misma linea de codigo.  "
   ]
  },
  {
   "cell_type": "markdown",
   "metadata": {
    "id": "X9i2_7F4MUlV"
   },
   "source": [
    "## Ciclos y List Comprenhensions\n",
    "\n",
    "Supongamos que nos dan: \n",
    "\n",
    "* Una lista de entrada input_arr = [elem1, elem2, elem3, ...]\n",
    "* Una función fun\n",
    "\n",
    "Queremos producir el array output_arr = [fun (elem1), fun (elem2), fun (elem3)], es decir, con aplicar fun a cada elemento de la matriz y devolver los resultados.\n",
    "\n",
    "Aquí es cómo la mayoría de los programadores abordarían este problema:"
   ]
  },
  {
   "cell_type": "code",
   "execution_count": null,
   "metadata": {
    "colab": {
     "base_uri": "https://localhost:8080/",
     "height": 34
    },
    "id": "t2B-RQvMILkw",
    "outputId": "933cf233-207e-4293-f25a-554dfdd92968"
   },
   "outputs": [],
   "source": [
    "input_arr = [\"maria\", \"ana\", \"sara\"]\n",
    "capitalize = lambda a_str :  a_str[0].upper() + a_str[1:]\n",
    "\n",
    "# NON-Idiomatic Python code follows: \n",
    "output_arr = []\n",
    "for elem in input_arr : \n",
    "    output_arr.append( capitalize( elem ) )\n",
    "    \n",
    "output_arr"
   ]
  },
  {
   "cell_type": "markdown",
   "metadata": {
    "id": "kI86sjG2J18y"
   },
   "source": [
    "Eso es aproximadamente 3 líneas. No está mal, pero podría ser mucho mejor.\n",
    "La solución idiomática de Python se llama **List (or for) comprehension**.\n",
    "\n",
    "```python\n",
    "[funcion(x) for item in list1]\n",
    "```"
   ]
  },
  {
   "cell_type": "code",
   "execution_count": null,
   "metadata": {
    "colab": {
     "base_uri": "https://localhost:8080/",
     "height": 34
    },
    "id": "VN4k_PnqJrRL",
    "outputId": "67b5bdf3-c341-47ec-b3ab-b1e9c1c98ad1"
   },
   "outputs": [],
   "source": [
    "output_arr2 = [ capitalize(elem)  for elem in input_arr ]\n",
    "print(output_arr2)"
   ]
  },
  {
   "cell_type": "markdown",
   "metadata": {
    "id": "IBgBFzGGMvAq"
   },
   "source": [
    "## Condicionales en List Comprehensions\n",
    "\n",
    "En este caso se desea realizar un condicional para definir el valor, se tienen dos estructuras, si la condición solo tiene IF, o si se tiene la estructura IF-ELSE\n",
    "\n",
    "```python\n",
    "[result1 if conditional else result2 for item in list1 ]\n",
    "[result for item in list1 if conditional]\n",
    "```"
   ]
  },
  {
   "cell_type": "code",
   "execution_count": null,
   "metadata": {
    "colab": {
     "base_uri": "https://localhost:8080/",
     "height": 34
    },
    "id": "TmY6FybfJ8l3",
    "outputId": "747d4b40-0fda-410c-85b1-d97422603641"
   },
   "outputs": [],
   "source": [
    "squares_cubes = [n**2 if n%2 == 0 else n**3 for n in range(1,16)]\n",
    "print(squares_cubes)"
   ]
  },
  {
   "cell_type": "code",
   "execution_count": null,
   "metadata": {
    "colab": {
     "base_uri": "https://localhost:8080/",
     "height": 34
    },
    "id": "_1c0EeWNLmHi",
    "outputId": "b202a19f-9e82-46c4-9e90-d88094ea28b9"
   },
   "outputs": [],
   "source": [
    "evens = [n for n in range(1,21) if n%2 == 0] \n",
    "print(evens)"
   ]
  },
  {
   "cell_type": "markdown",
   "metadata": {
    "id": "x5BXGCvtL1xX"
   },
   "source": [
    "## List Comprehensions para ciclos anidados\n",
    "\n",
    "También puede usarse para realizar operaciones en ciclos anidados como recorrer una lista de listas.\n",
    "\n",
    "```python\n",
    "[ <the_expression> for <element_a> in <iterable_a> (optional if <condition_a>)\n",
    "                   for <element_b> in <iterable_b> (optional if <condition_b>)\n",
    "                   for <element_c> in <iterable_c> (optional if <condition_c>)\n",
    "                   ... and so on ...]\n",
    "```"
   ]
  },
  {
   "cell_type": "code",
   "execution_count": null,
   "metadata": {
    "colab": {
     "base_uri": "https://localhost:8080/",
     "height": 34
    },
    "id": "WpW-Pn3DLo7F",
    "outputId": "b1607fb2-74aa-4fc6-ce5b-3d22ad2d5399"
   },
   "outputs": [],
   "source": [
    "matrix = [\n",
    "    [1, 2, 3, 4],\n",
    "    [5, 6, 7, 8],\n",
    "    [9, 10, 11, 12],\n",
    "]\n",
    " \n",
    "flatten = [n for row in matrix if sum(row)>11 for n in row if n%2==0]\n",
    " \n",
    "print(flatten)"
   ]
  },
  {
   "cell_type": "markdown",
   "metadata": {
    "id": "9kAz9Pw9NrKn"
   },
   "source": [
    "## List Comprehensions anidados"
   ]
  },
  {
   "cell_type": "code",
   "execution_count": null,
   "metadata": {
    "colab": {
     "base_uri": "https://localhost:8080/",
     "height": 34
    },
    "id": "yZcbroKdMI9X",
    "outputId": "008b2a92-086f-4dcf-8a2e-0c4a990fce58"
   },
   "outputs": [],
   "source": [
    "matrix = [\n",
    "    [1, 2, 3, 4],\n",
    "    [5, 6, 7, 8],\n",
    "    [9, 10, 11, 12],\n",
    "]\n",
    " \n",
    "transpose = [[row[n] for row in matrix] for n in range(4)]\n",
    " \n",
    "print(transpose)"
   ]
  },
  {
   "cell_type": "markdown",
   "metadata": {
    "id": "RqXeK4cKdHyx"
   },
   "source": [
    "## Ejercicio 7\n",
    "\n",
    "Defina una función avg1 que tome una lista que conste del nombre de una persona (str) y luego solo números y calcula y devuelve el promedio de esos números.\n",
    "\n",
    "Por ejemplo: \n",
    "```python\n",
    "avg1 (['Mateo', 5.0, 2.0, 2.0])\n",
    "``` \n",
    "debe devolver 3, es el resultado de realizar la siguiente operación: `((5 + 2 + 2) / 3))`"
   ]
  },
  {
   "cell_type": "code",
   "execution_count": null,
   "metadata": {
    "colab": {
     "base_uri": "https://localhost:8080/",
     "height": 34
    },
    "id": "hRdoA366dpAg",
    "outputId": "33cab969-b825-40a0-d54b-fdd732debc66"
   },
   "outputs": [],
   "source": [
    "# Your code\n",
    "def avg1(lista):\n",
    "  return sum(lista[1:])/3\n",
    "  \n",
    "avg1 (['Mateo', 5.0, 2.0, 2.0])"
   ]
  },
  {
   "cell_type": "markdown",
   "metadata": {
    "id": "0u78C5UsdxP_"
   },
   "source": [
    "## Ejercicio 8\n",
    "\n",
    "Use list-comprehension para aplicar la función avg1 definida anteriormente a cada registro en data_recs.\n",
    "\n",
    "```python\n",
    "data_recs = [\n",
    "  [ \"Juan\" ,  5.0, 2.0, 2.0 ],\n",
    "  [ \"Maria\",  7.0, 8.0, 3.0 ], \n",
    "  [ \"Mateo\",  1.0, 4.0, 4.0 ],     \n",
    "]\n",
    "````"
   ]
  },
  {
   "cell_type": "code",
   "execution_count": null,
   "metadata": {
    "colab": {
     "base_uri": "https://localhost:8080/",
     "height": 50
    },
    "id": "WR9gxkcOdwC1",
    "outputId": "5c09752b-d763-4ce8-85d9-f0765105f1dd"
   },
   "outputs": [],
   "source": [
    "# Your Code\n",
    "print(data_recs)\n",
    "[avg1(elem) for elem in data_recs]"
   ]
  },
  {
   "cell_type": "code",
   "execution_count": null,
   "metadata": {
    "colab": {
     "base_uri": "https://localhost:8080/",
     "height": 67
    },
    "id": "xkGRKQoqz_HZ",
    "outputId": "4a19fe65-046e-4ed2-db5f-049aaae64453"
   },
   "outputs": [],
   "source": [
    "temp = [[1, 5, 9], [2, 6, 10], [3, 7, 11], [4, 8, 12]]\n",
    "[[str(row)+str(i) for row in temp] for i in range(3)]"
   ]
  },
  {
   "cell_type": "markdown",
   "metadata": {
    "id": "V64E5XkRPEK-"
   },
   "source": [
    "# Módulos y Paquetes\n",
    "\n",
    "Los módulos son ficheros que contienen definiciones que se pueden importar en otros scripts para reutilizar funcionalidades.  Se pueden organizar en paquetes y subpaquetes, adicional se importarian sólo cuando es necesario.\n",
    "\n",
    "Nosotros podemos crear nuestros propios módulos o paquetes, o utilizar ya algunos creados por otras personas y que estan disponibles para su uso.  \n",
    "\n",
    "Para instalar un paquete en Python se realiza de la siguiente manera:\n",
    "\n",
    "```python\n",
    "pip install pandas\n",
    "````\n",
    "\n",
    "Si se desea desinstalar:\n",
    "```python\n",
    "pip uninstall pandas\n",
    "````\n",
    "\n",
    "\n"
   ]
  },
  {
   "cell_type": "code",
   "execution_count": null,
   "metadata": {
    "colab": {
     "base_uri": "https://localhost:8080/",
     "height": 121
    },
    "id": "uM4IjrYB4-I2",
    "outputId": "08e7d6a5-1a24-4675-ff0b-031ac5118596"
   },
   "outputs": [],
   "source": [
    "!pip install pandas"
   ]
  },
  {
   "cell_type": "code",
   "execution_count": null,
   "metadata": {
    "colab": {
     "base_uri": "https://localhost:8080/",
     "height": 34
    },
    "id": "-B9kluio5Okd",
    "outputId": "90c9f4c3-7483-4d55-9c1b-1d5a62bd2fa7"
   },
   "outputs": [],
   "source": [
    "!ls"
   ]
  },
  {
   "cell_type": "code",
   "execution_count": null,
   "metadata": {
    "id": "QU89EhF-5pqA"
   },
   "outputs": [],
   "source": [
    "!mkdir temp"
   ]
  },
  {
   "cell_type": "markdown",
   "metadata": {
    "id": "IOVKRhDzQ-YV"
   },
   "source": [
    "## Módulos estándar\n",
    "\n",
    "Estos son algunos módulos esenciales de Python:\n"
   ]
  },
  {
   "cell_type": "markdown",
   "metadata": {
    "id": "Hj0RjhH3ZNud"
   },
   "source": [
    "###**collections**\n",
    "\n",
    "Añade funcionalidades especificas a las listas."
   ]
  },
  {
   "cell_type": "code",
   "execution_count": null,
   "metadata": {
    "colab": {
     "base_uri": "https://localhost:8080/",
     "height": 34
    },
    "id": "ruIp3K95NxpY",
    "outputId": "dd642ad3-8ebf-4c23-ec55-06f7f8813103"
   },
   "outputs": [],
   "source": [
    "from collections import Counter\n",
    "\n",
    "l = [1,2,3,4,1,2,3,1,2,1]\n",
    "Counter(l)"
   ]
  },
  {
   "cell_type": "code",
   "execution_count": null,
   "metadata": {
    "id": "Ox_LPFQcQHK3"
   },
   "outputs": [],
   "source": [
    "animales = \"gato perro canario perro canario perro\"\n",
    "c = Counter(animales.split())\n",
    "print(c)"
   ]
  },
  {
   "cell_type": "markdown",
   "metadata": {
    "id": "O1jt3F0HVTHT"
   },
   "source": [
    "\n",
    "###**datetime**\n",
    "\n",
    "Utilizado para manejar las fechas y las horas. \n"
   ]
  },
  {
   "cell_type": "code",
   "execution_count": null,
   "metadata": {
    "colab": {
     "base_uri": "https://localhost:8080/",
     "height": 185
    },
    "id": "fbQfzFwMUzpL",
    "outputId": "b0516ab0-c27c-4697-abf3-eba582b906b2"
   },
   "outputs": [],
   "source": [
    "from datetime import datetime\n",
    "\n",
    "dt = datetime.now()    # Fecha y hora actual\n",
    "\n",
    "print(dt)\n",
    "print(dt.year)         # año\n",
    "print(dt.month)        # mes\n",
    "print(dt.day)          # día\n",
    "\n",
    "print(dt.hour)         # hora\n",
    "print(dt.minute)       # minutos\n",
    "print(dt.second)       # segundos\n",
    "print(dt.microsecond)  # microsegundos\n",
    "\n",
    "print(\"{}:{}:{}\".format(dt.hour, dt.minute, dt.second))\n",
    "print(\"{}/{}/{}\".format(dt.day, dt.month, dt.year))"
   ]
  },
  {
   "cell_type": "code",
   "execution_count": null,
   "metadata": {
    "colab": {
     "base_uri": "https://localhost:8080/",
     "height": 34
    },
    "id": "TjH6nk3cV0Ok",
    "outputId": "988ae6c2-d912-4604-f9a2-cd59deb8ec87"
   },
   "outputs": [],
   "source": [
    "from datetime import datetime, timedelta\n",
    "\n",
    "dt = datetime.now()\n",
    "print(dt.strftime(\"%A %d de %b del %y - %H:%M\"))\n",
    "\n"
   ]
  },
  {
   "cell_type": "code",
   "execution_count": null,
   "metadata": {
    "colab": {
     "base_uri": "https://localhost:8080/",
     "height": 50
    },
    "id": "dvPDZUI48B-0",
    "outputId": "e8993d9a-070d-4e57-8661-2cc1171ff450"
   },
   "outputs": [],
   "source": [
    "# Generamos 14 días con 4 horas y 1000 segundos de tiempo\n",
    "t = timedelta(days=14, hours=4, seconds=1000)\n",
    "\n",
    "# Lo operamos con el datetime de la fecha y hora actual\n",
    "dentro_de_dos_semanas = dt + t\n",
    "print(dentro_de_dos_semanas.strftime(\"%A %d de %B del %Y - %H:%M\"))\n",
    "hace_dos_semanas = dt - t\n",
    "print(hace_dos_semanas.strftime(\"%A %d de %B del %Y - %H:%M\"))\n"
   ]
  },
  {
   "cell_type": "markdown",
   "metadata": {
    "id": "ipNj14XIVX3b"
   },
   "source": [
    "###**math**\n",
    "\n",
    "Incluye funciones matematicas."
   ]
  },
  {
   "cell_type": "code",
   "execution_count": null,
   "metadata": {
    "colab": {
     "base_uri": "https://localhost:8080/",
     "height": 50
    },
    "id": "JtXisqlxWNkY",
    "outputId": "24d8352d-6889-4f56-c203-606fc99f7f6e"
   },
   "outputs": [],
   "source": [
    "import math\n",
    "\n",
    "print(math.floor(3.99))  # Redondeo a la baja (suelo)\n",
    "print(math.ceil(3.01))   # Redondeo al alta (techo)"
   ]
  },
  {
   "cell_type": "code",
   "execution_count": null,
   "metadata": {
    "colab": {
     "base_uri": "https://localhost:8080/",
     "height": 50
    },
    "id": "j9j31YJlWVaB",
    "outputId": "86a058e2-c791-4c62-e0ae-d4d3903cebb2"
   },
   "outputs": [],
   "source": [
    "print(math.pi)  # Constante pi\n",
    "print(math.e)   # Constante e"
   ]
  },
  {
   "cell_type": "markdown",
   "metadata": {
    "id": "05h-L9L0WioU"
   },
   "source": [
    "###**random**\n",
    "\n",
    "Sirve para generar contenidos aleatorios, escoger aleatoriamente valores y este tipo de cosas que hacen que un programa tenga comportamientos al azar. "
   ]
  },
  {
   "cell_type": "code",
   "execution_count": null,
   "metadata": {
    "colab": {
     "base_uri": "https://localhost:8080/",
     "height": 118
    },
    "id": "HcYYb7QLWohZ",
    "outputId": "151f1afb-6e62-4d3e-9c30-f90dfb6a7110"
   },
   "outputs": [],
   "source": [
    "import random\n",
    "\n",
    "# Flotante aleatorio >= 0 y < 1.0\n",
    "print(random.random())      \n",
    "\n",
    "# Flotante aleatorio >= 1 y <10.0       \n",
    "print(random.uniform(1,10))\n",
    "\n",
    "# Entero aleatorio de 0 a 9, 10 excluído\n",
    "print(random.randrange(10))\n",
    "\n",
    "# Entero aleatorio de 0 a 100\n",
    "print(random.randrange(0,101))\n",
    "\n",
    "# Entero aleatorio de 0 a 100 cada 2 números, múltiples de 2\n",
    "print(random.randrange(0,101,2))\n",
    "\n",
    "# Entero aleatorio de 0 a 100 cada 5 números, múltiples de 5\n",
    "print(random.randrange(0,101,5))"
   ]
  },
  {
   "cell_type": "code",
   "execution_count": null,
   "metadata": {
    "colab": {
     "base_uri": "https://localhost:8080/",
     "height": 1000
    },
    "id": "_g2zGNjV-Fu9",
    "outputId": "52ea703f-545a-4c41-ecba-38bb328f93e4"
   },
   "outputs": [],
   "source": [
    "help(random)"
   ]
  },
  {
   "cell_type": "code",
   "execution_count": null,
   "metadata": {
    "colab": {
     "base_uri": "https://localhost:8080/",
     "height": 67
    },
    "id": "OTXQLEAxW7En",
    "outputId": "0b18d44e-1769-4e77-bff5-3caf42264f3e"
   },
   "outputs": [],
   "source": [
    "# Letra aleatoria\n",
    "print(random.choice('Hola mundo'))\n",
    "\n",
    "# Elemento aleatorio\n",
    "print(random.choice([1,2,3,4,5]))\n",
    "\n",
    "# Dos elementos aleatorios\n",
    "print(random.sample([1,2,3,4,5], 2))"
   ]
  },
  {
   "cell_type": "code",
   "execution_count": null,
   "metadata": {
    "colab": {
     "base_uri": "https://localhost:8080/",
     "height": 34
    },
    "id": "6H0nRvkSXACC",
    "outputId": "40a6c164-7411-403e-a13c-07a3be562337"
   },
   "outputs": [],
   "source": [
    "# Barajar una lista, queda guardado\n",
    "lista = [1,2,3,4,5]\n",
    "random.shuffle(lista)\n",
    "print(lista)"
   ]
  },
  {
   "cell_type": "markdown",
   "metadata": {
    "id": "buALHjIGWHGY"
   },
   "source": [
    "###**re**\n",
    "\n",
    "Es el módulo de las expresiones regulares (Regular Expressions). Utilizando una sintaxis especial, sirven para hacer comprobaciones y búsquedas. Son especialmente útiles trabajando con cadenas de caracteres, pero incluye muchos métodos alternativos.\n"
   ]
  },
  {
   "cell_type": "code",
   "execution_count": null,
   "metadata": {
    "colab": {
     "base_uri": "https://localhost:8080/",
     "height": 50
    },
    "id": "bu3r2ILAVG1T",
    "outputId": "f371c838-6967-421b-f7e7-e976905aaeee"
   },
   "outputs": [],
   "source": [
    "import re\n",
    "patron1 = '[^A-Za-z0-9 ]+'\n",
    "patron2 = '[^A-Za-z ]+'\n",
    "cadena = 'Juan4 $Perez5%'\n",
    "print(re.sub(patron1, '_', cadena))\n",
    "print(re.sub(patron2, '_', cadena))"
   ]
  },
  {
   "cell_type": "markdown",
   "metadata": {
    "id": "Z9BE1kOEWJAV"
   },
   "source": [
    "###**os** \n",
    "\n",
    "Funcionalidades dependientes del sistema Operativo."
   ]
  },
  {
   "cell_type": "code",
   "execution_count": null,
   "metadata": {
    "colab": {
     "base_uri": "https://localhost:8080/",
     "height": 50
    },
    "id": "1UzzhRnVYNZe",
    "outputId": "ab126635-5393-481b-bea3-bf2d0ca9a94a"
   },
   "outputs": [],
   "source": [
    "import os \n",
    "# Conocer el Directorio Actual\n",
    "print(os.getcwd())\n",
    "# Saber si el directorio Existe\n",
    "print(os.path.exists('/content'))"
   ]
  },
  {
   "cell_type": "markdown",
   "metadata": {
    "id": "7VCJrhsGYGzB"
   },
   "source": [
    "###**sys**\n",
    "\n",
    "Nos permite conseguir información del entorno del sistema."
   ]
  },
  {
   "cell_type": "code",
   "execution_count": null,
   "metadata": {
    "colab": {
     "base_uri": "https://localhost:8080/",
     "height": 67
    },
    "id": "XVYQsUh-WKeQ",
    "outputId": "bbd2e484-9cdb-4505-d17e-8f75582fb7b9"
   },
   "outputs": [],
   "source": [
    "import sys\n",
    "#Retorna el número de versión de Python \n",
    "print(sys.version)\n",
    "#Retorna la plataforma sobre la cuál se está ejecutando el intérprete\n",
    "print(sys.platform)"
   ]
  },
  {
   "cell_type": "markdown",
   "metadata": {
    "id": "vXI_AylSl_2B"
   },
   "source": [
    "###**csv**\n",
    "\n",
    "El módulo CSV tiene varias funciones y clases disponibles para leer y escribir CSVs."
   ]
  },
  {
   "cell_type": "markdown",
   "metadata": {
    "id": "xTGmQ-1clD60"
   },
   "source": [
    "#### Integrando Google Drive con Colab"
   ]
  },
  {
   "cell_type": "code",
   "execution_count": null,
   "metadata": {
    "colab": {
     "base_uri": "https://localhost:8080/",
     "height": 121
    },
    "id": "SsCjihWRlIZ-",
    "outputId": "b0dc4f86-d899-430f-b66b-613960bc7cde"
   },
   "outputs": [],
   "source": [
    "from google.colab import drive \n",
    "drive.mount('/content/gdrive')"
   ]
  },
  {
   "cell_type": "markdown",
   "metadata": {
    "id": "jR_ID239mWDe"
   },
   "source": [
    "#### Leyendo un archivo CSV\n",
    "\n",
    "El archivo que se va a cargar fue tomado de los datos abiertos de Accidentes de tránsito registrados por la Secretaría de Movilidad de la Alcaldía de Medellin, desde el año 2014 al año en curso.  [Fuente](http://medata.gov.co/dataset/accidentalidad)"
   ]
  },
  {
   "cell_type": "code",
   "execution_count": null,
   "metadata": {
    "id": "vRctOD8YlL5S"
   },
   "outputs": [],
   "source": [
    "from csv import reader\n",
    "opened_file = open('/content/gdrive/My Drive/ML_COURSES_CEC/Ciencia de Datos con Python/Estudiantes/Notebooks/Datasets/accidentalidad.csv', encoding='utf-8')\n",
    "read_file = reader(opened_file,delimiter=';')"
   ]
  },
  {
   "cell_type": "code",
   "execution_count": null,
   "metadata": {
    "colab": {
     "base_uri": "https://localhost:8080/",
     "height": 34
    },
    "id": "WiT_0uo6B6Oz",
    "outputId": "ce3dddb3-298e-4a93-a2fe-d6983f3d4043"
   },
   "outputs": [],
   "source": [
    "read_file"
   ]
  },
  {
   "cell_type": "code",
   "execution_count": null,
   "metadata": {
    "colab": {
     "base_uri": "https://localhost:8080/",
     "height": 823
    },
    "id": "eUtY2qiOmfnu",
    "outputId": "43f0e061-33cd-4f51-870b-e351d4a7dbf8"
   },
   "outputs": [],
   "source": [
    "# Visualizando la información\n",
    "apps_data = list(read_file)\n",
    "apps_data[:2]"
   ]
  },
  {
   "cell_type": "code",
   "execution_count": null,
   "metadata": {
    "id": "KsV9PzlLleOj"
   },
   "outputs": [],
   "source": [
    "# Funcion que genera diccionario de frecuencias\n",
    "def freq_table(data_set, index):\n",
    "    frequency_table = {}\n",
    "    \n",
    "    for row in data_set[1:]:\n",
    "        value = row[index]\n",
    "        if value in frequency_table:\n",
    "            frequency_table[value] += 1\n",
    "        else:\n",
    "            frequency_table[value] = 1\n",
    "        \n",
    "    return frequency_table"
   ]
  },
  {
   "cell_type": "code",
   "execution_count": null,
   "metadata": {
    "colab": {
     "base_uri": "https://localhost:8080/",
     "height": 168
    },
    "id": "0ZHfByoymdrD",
    "outputId": "a1c54943-bf24-4d64-d10d-936aee23c155"
   },
   "outputs": [],
   "source": [
    "# Clases de Accidentes\n",
    "freq_table(apps_data,5)"
   ]
  },
  {
   "cell_type": "code",
   "execution_count": null,
   "metadata": {
    "colab": {
     "base_uri": "https://localhost:8080/",
     "height": 437
    },
    "id": "riq6kehPnE6W",
    "outputId": "b1fedb7e-b03b-49ec-9560-a5220efa942b"
   },
   "outputs": [],
   "source": [
    "# Localizacion de Accidentes\n",
    "freq_table(apps_data,9)"
   ]
  },
  {
   "cell_type": "code",
   "execution_count": null,
   "metadata": {
    "colab": {
     "base_uri": "https://localhost:8080/",
     "height": 34
    },
    "id": "OfjEHkZknP2K",
    "outputId": "307702b3-c82e-4905-9f19-ea2ce7d20ae0"
   },
   "outputs": [],
   "source": [
    "# Gravedad de los Accidentes\n",
    "freq_table(apps_data,17)"
   ]
  },
  {
   "cell_type": "code",
   "execution_count": null,
   "metadata": {
    "id": "VsB1KVblEXW7"
   },
   "outputs": [],
   "source": []
  }
 ],
 "metadata": {
  "colab": {
   "collapsed_sections": [],
   "name": "Fundamentos de Python Parte 2.ipynb",
   "provenance": []
  },
  "kernelspec": {
   "display_name": "Python 3",
   "language": "python",
   "name": "python3"
  },
  "language_info": {
   "codemirror_mode": {
    "name": "ipython",
    "version": 3
   },
   "file_extension": ".py",
   "mimetype": "text/x-python",
   "name": "python",
   "nbconvert_exporter": "python",
   "pygments_lexer": "ipython3",
   "version": "3.8.5"
  }
 },
 "nbformat": 4,
 "nbformat_minor": 1
}
