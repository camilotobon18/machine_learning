{
 "cells": [
  {
   "cell_type": "markdown",
   "metadata": {
    "id": "raRnA7oiupLV"
   },
   "source": [
    "# Operadores Booleanos\n",
    "\n",
    "Un booleano es $1$ o $0$, verdadero o falso.  Con operadores como **and**, **or** o **not**, se pueden realizar consultas nuevas combinando estos operadores."
   ]
  },
  {
   "cell_type": "code",
   "execution_count": null,
   "metadata": {
    "colab": {
     "base_uri": "https://localhost:8080/",
     "height": 34
    },
    "id": "ayMjSm2h2qDH",
    "outputId": "3e84c427-c9ce-484c-d0ac-48f6101551eb"
   },
   "outputs": [
    {
     "name": "stdout",
     "output_type": "stream",
     "text": [
      "False\n"
     ]
    }
   ],
   "source": [
    "# Define Variables\n",
    "my_house = 120.0 # mts^2\n",
    "your_apartment = 72.0 # mts^2\n",
    "\n",
    "# my_house is bigger than 100 and smaller than 120?\n",
    "print(my_house>100 and my_house<120)"
   ]
  },
  {
   "cell_type": "code",
   "execution_count": null,
   "metadata": {
    "colab": {
     "base_uri": "https://localhost:8080/",
     "height": 34
    },
    "id": "vaRKPto7XDD6",
    "outputId": "416f3498-6105-481c-ac6e-b1b99803a552"
   },
   "outputs": [
    {
     "name": "stdout",
     "output_type": "stream",
     "text": [
      "True\n"
     ]
    }
   ],
   "source": [
    "# my_house smaller than 72 or bigger than 110?\n",
    "print(my_house<72 or my_house>110)"
   ]
  },
  {
   "cell_type": "code",
   "execution_count": null,
   "metadata": {
    "colab": {
     "base_uri": "https://localhost:8080/",
     "height": 34
    },
    "id": "J7bxXvqmXF3i",
    "outputId": "54bb5c57-aa61-457a-d7af-907aad11c2a3"
   },
   "outputs": [
    {
     "name": "stdout",
     "output_type": "stream",
     "text": [
      "False\n"
     ]
    }
   ],
   "source": [
    "# Double my_house smaller than triple your_apartment?\n",
    "print(2*my_house < 3*your_apartment)"
   ]
  },
  {
   "cell_type": "code",
   "execution_count": null,
   "metadata": {
    "colab": {
     "base_uri": "https://localhost:8080/",
     "height": 34
    },
    "id": "n2xBttjBXF6N",
    "outputId": "1b2d5ce0-1ae8-490d-b060-343bc5cd9373"
   },
   "outputs": [
    {
     "name": "stdout",
     "output_type": "stream",
     "text": [
      "False\n"
     ]
    }
   ],
   "source": [
    "# Using not\n",
    "print(not my_house > 100)"
   ]
  },
  {
   "cell_type": "markdown",
   "metadata": {
    "id": "2WJcmvsq4-6K"
   },
   "source": [
    "## Ejercicio 1\n",
    "\n",
    "Para el siguiente codigo de python:\n",
    "\n",
    "```python \n",
    "x = 9\n",
    "y = 10\n",
    "not(not(x < 4) and not(y > 15 or y > 10))\n",
    "````\n",
    "\n",
    "Cuál sería el resultado si ejecutamos este código?\n",
    "\n",
    "a. True\n",
    "\n",
    "b. False\n",
    "\n",
    "c. Correr este comando genera un error"
   ]
  },
  {
   "cell_type": "code",
   "execution_count": null,
   "metadata": {
    "colab": {
     "base_uri": "https://localhost:8080/",
     "height": 34
    },
    "id": "3Ftnq-QjSmMe",
    "outputId": "71f1bb36-77c3-43ad-e798-6ec9452ed131"
   },
   "outputs": [
    {
     "data": {
      "text/plain": [
       "False"
      ]
     },
     "execution_count": 6,
     "metadata": {
      "tags": []
     },
     "output_type": "execute_result"
    }
   ],
   "source": [
    "x = 9\n",
    "y = 10\n",
    "not(not(x < 4) and not(y > 15 or y > 10))"
   ]
  },
  {
   "cell_type": "markdown",
   "metadata": {
    "id": "Ath2U-5gChXX"
   },
   "source": [
    "# Estructuras de Control"
   ]
  },
  {
   "cell_type": "markdown",
   "metadata": {
    "id": "HiYG9LosZZJ4"
   },
   "source": [
    "## IF\n",
    "\n",
    "Condición es de tipo booleano, y cuando ésta se cumple se ejecuta el bloque.\n",
    "\n",
    "```python\n",
    "if condicion1:\n",
    "  bloque1\n",
    "elif condicion2:\n",
    "  bloque2\n",
    "else:\n",
    "  bloque3\n",
    "```"
   ]
  },
  {
   "cell_type": "markdown",
   "metadata": {
    "id": "ChxNNAw8Ca5f"
   },
   "source": [
    "### Ejercicio 2\n",
    "\n",
    "Teniendo este código en Python:\n",
    "\n",
    "```python\n",
    "area = 10.0\n",
    "if(area < 9) :\n",
    "    print(\"small\")\n",
    "elif(area < 12) :\n",
    "    print(\"medium\")\n",
    "else :\n",
    "    print(\"large\")\n",
    "````\n",
    "\n",
    "Cuál sera la salida si se ejecuta?\n",
    "\n",
    "a. small\n",
    "\n",
    "b. medium\n",
    "\n",
    "c. large\n",
    "\n",
    "d. Error de sintaxis\n"
   ]
  },
  {
   "cell_type": "code",
   "execution_count": null,
   "metadata": {
    "colab": {
     "base_uri": "https://localhost:8080/",
     "height": 50
    },
    "id": "4Renzlf5rrYP",
    "outputId": "0cc654ce-2290-4d6d-c636-cf8271abfc6d"
   },
   "outputs": [
    {
     "name": "stdout",
     "output_type": "stream",
     "text": [
      "looking around in the bedroom.\n",
      "medium size, nice!\n"
     ]
    }
   ],
   "source": [
    "# Define variables\n",
    "room = \"bed\"\n",
    "size = 180.0\n",
    "\n",
    "# f-elif-else construct for room\n",
    "if room == \"bed\" :\n",
    "    print(\"looking around in the bedroom.\")\n",
    "elif room == \"kit\" :\n",
    "    print(\"looking around in the kitchen.\")\n",
    "else :\n",
    "    print(\"looking around elsewhere.\")\n",
    "\n",
    "# if statement for area\n",
    "if size > 180 :\n",
    "  print(\"big place!\")\n",
    "elif size > 100 :\n",
    "    print(\"medium size, nice!\")\n",
    "else: \n",
    "    print(\"pretty small.\")"
   ]
  },
  {
   "cell_type": "markdown",
   "metadata": {
    "id": "mT4OXWlDM_cC"
   },
   "source": [
    "### Ejercicio 3\n",
    "\n",
    "Dado un número entero $n$, realice las siguientes acciones condicionales:\n",
    "\n",
    "1. Si es impar imprima 'Extraño'\n",
    "2. Si es par y esta en el rango inclusive de 2 a 5, imprima 'No Extraño'\n",
    "3. Si es par y esta en el rango inclusive de 6 a 20, imprima 'Extraño' \n",
    "4. Si es par y es más grande que 20, imprima 'No Extraño'\n",
    "\n",
    "***Ejemplos:***\n",
    "$$n = 3$$\n",
    "$n$ es impar y los números impares son de tipo 'Extraño', así que debe de imprimir 'Extraño'.\n",
    "$$n = 24$$\n",
    "$n$ es par y es mayor que 20, los números pares mayores que 20 son de tipo ' No Extraño', así que debe de imprimir 'No Extraño'.\n"
   ]
  },
  {
   "cell_type": "code",
   "execution_count": null,
   "metadata": {
    "colab": {
     "base_uri": "https://localhost:8080/",
     "height": 50
    },
    "id": "Ut_f2X0cPh9F",
    "outputId": "b423d222-fed5-4217-de3f-d7ec8fb38c13"
   },
   "outputs": [
    {
     "name": "stdout",
     "output_type": "stream",
     "text": [
      "n: 25\n",
      "Extraño\n"
     ]
    }
   ],
   "source": [
    "# Your code\n",
    "\n",
    "n = int(input(\"n: \"))\n",
    "if n % 2 != 0:\n",
    "  print(\"Extraño\")\n",
    "elif n>=2 and n<=5:\n",
    "  print(\"No Extraño\")\n",
    "elif n>=6 and n<=20:\n",
    "  print(\"Extraño\")\n",
    "elif n>20:\n",
    "  print(\"No Extraño\")\n",
    "\n"
   ]
  },
  {
   "cell_type": "markdown",
   "metadata": {
    "id": "u9wCsKUL7lnC"
   },
   "source": [
    "## WHILE\n",
    "\n",
    "El ciclo while se ejecuta mientras la condición sea cierta, si la condición es falsa al inicio, el bloque no se ejecuta y se pasan a ejecutar las sentencias que le siguen. En Python, cualquier valor entero distinto de cero es verdadero y 0 es falso. La condición también puede ser una lista o cualquier secuencia, siendo la secuencia vacía falsa. El cuerpo del bucle debe estar identado, ya que de este modo Python agrupa las sentencias.\n",
    "\n",
    "```python\n",
    "while condicion:\n",
    "  bloque\n",
    "```"
   ]
  },
  {
   "cell_type": "markdown",
   "metadata": {
    "id": "nHpYr3xiCrPP"
   },
   "source": [
    "### Ejercicio 4\n",
    "\n",
    "Cuántos impresiones hará este ciclo de while?\n",
    "\n",
    "```python\n",
    "x = 1\n",
    "while x < 4 :\n",
    "    print(x)\n",
    "    x = x + 1\n",
    "```\n",
    "\n",
    "a. 0\n",
    "\n",
    "b. 1\n",
    "\n",
    "c. 2\n",
    "\n",
    "d. 3"
   ]
  },
  {
   "cell_type": "code",
   "execution_count": null,
   "metadata": {
    "colab": {
     "base_uri": "https://localhost:8080/",
     "height": 286
    },
    "id": "UAGONT6fEDnT",
    "outputId": "5b303348-72a5-4fe4-9ba4-f45174e55764"
   },
   "outputs": [
    {
     "name": "stdout",
     "output_type": "stream",
     "text": [
      "correcting...\n",
      "7\n",
      "correcting...\n",
      "6\n",
      "correcting...\n",
      "5\n",
      "correcting...\n",
      "4\n",
      "correcting...\n",
      "3\n",
      "correcting...\n",
      "2\n",
      "correcting...\n",
      "1\n",
      "correcting...\n",
      "0\n"
     ]
    }
   ],
   "source": [
    "# Initialize offset\n",
    "offset = 8\n",
    "\n",
    "# Code the while loop\n",
    "while offset != 0:\n",
    "    print(\"correcting...\")\n",
    "    offset = offset - 1 # You can use too: offset -= 1  \n",
    "    print(offset)"
   ]
  },
  {
   "cell_type": "code",
   "execution_count": null,
   "metadata": {
    "colab": {
     "base_uri": "https://localhost:8080/",
     "height": 101
    },
    "id": "WjVii7mOBtBE",
    "outputId": "6ac01472-91ac-4476-8bd8-c6dd22fe1c75"
   },
   "outputs": [
    {
     "name": "stdout",
     "output_type": "stream",
     "text": [
      "u\n",
      "o\n",
      "i\n",
      "e\n",
      "a\n"
     ]
    }
   ],
   "source": [
    "# Iterate Lists\n",
    "lista = ['a','e','i','o','u']\n",
    "while lista:\n",
    "  print(lista.pop())"
   ]
  },
  {
   "cell_type": "code",
   "execution_count": null,
   "metadata": {
    "colab": {
     "base_uri": "https://localhost:8080/",
     "height": 134
    },
    "id": "7A_z2TBiiCdh",
    "outputId": "e46d40b4-87ce-49a8-ffc2-b387ea7a6324"
   },
   "outputs": [
    {
     "name": "stdout",
     "output_type": "stream",
     "text": [
      "z = 3\n",
      "z = 10\n",
      "z = 5\n",
      "z = 16\n",
      "z = 8\n",
      "z = 4\n",
      "z = 2\n"
     ]
    }
   ],
   "source": [
    "z = 3\n",
    "\n",
    "while z !=  1  :  # any boolean condition could be placed here. Also, notice the : at the end!\n",
    "    print( f\"z = {z}\" )\n",
    "    if z % 2 == 0 : # if z is even, divide by 2\n",
    "        z = z // 2 \n",
    "    else : \n",
    "        z = 3 * z + 1 # if z is odd, multiply by 3 add 1"
   ]
  },
  {
   "cell_type": "markdown",
   "metadata": {
    "id": "YF_Wp9tT7jmp"
   },
   "source": [
    "## FOR\n",
    "\n",
    "Ejecuta un bloque $n$ cantidad de veces, inicia desde $0$ hasta $n-1$. Python permite iterar no solo sobre progresiones aritméticas, sino que recorre los elementos de una secuencia, ya sea lista o cadena, en el orden en que estos aparecen en la misma.\n",
    "\n",
    "```python\n",
    "for idx in range(0,n):\n",
    "  bloque\n",
    "\n",
    "for elem in lista:\n",
    "  bloque\n",
    "```\n",
    "\n",
    "El uso del ciclo para iterar la lista solo da acceso a todos los elementos de la lista, si también se desea acceder a la información del índice se puede usar el método `enumerate()`\n",
    "\n",
    "```python\n",
    "for indice,elemento in enumerate(lista):\n",
    "  print(\"Indice\" + str(indice) + \":\" + str(elemento)\n",
    "````"
   ]
  },
  {
   "cell_type": "markdown",
   "metadata": {
    "id": "j3gPFScbQzyI"
   },
   "source": [
    "### FOR sobre Listas"
   ]
  },
  {
   "cell_type": "code",
   "execution_count": null,
   "metadata": {
    "colab": {
     "base_uri": "https://localhost:8080/",
     "height": 101
    },
    "id": "6vMm9zK7L2cN",
    "outputId": "20ea19fa-6e65-48ba-fde2-3286172e7fa5"
   },
   "outputs": [
    {
     "name": "stdout",
     "output_type": "stream",
     "text": [
      "room0:11.25\n",
      "room1:18.0\n",
      "room2:20.0\n",
      "room3:10.75\n",
      "room4:9.5\n"
     ]
    }
   ],
   "source": [
    "# areas list\n",
    "areas = [11.25, 18.0, 20.0, 10.75, 9.50]\n",
    "\n",
    "# for loop using enumerate()\n",
    "for idx,a in enumerate(areas) :\n",
    "    print(\"room\" + str(idx) + \":\" + str(a))"
   ]
  },
  {
   "cell_type": "code",
   "execution_count": null,
   "metadata": {
    "colab": {
     "base_uri": "https://localhost:8080/",
     "height": 101
    },
    "id": "WfXGkaHrPy34",
    "outputId": "5c33d8d1-971e-48eb-dc34-3b2d9025bdc8"
   },
   "outputs": [
    {
     "name": "stdout",
     "output_type": "stream",
     "text": [
      "the hallway is 11.25sqm\n",
      "the kitchen is 18.0sqm\n",
      "the living room is 20.0sqm\n",
      "the bedroom is 10.75sqm\n",
      "the bathroom is 9.5sqm\n"
     ]
    }
   ],
   "source": [
    "# house list of lists\n",
    "house = [[\"hallway\", 11.25], \n",
    "         [\"kitchen\", 18.0], \n",
    "         [\"living room\", 20.0], \n",
    "         [\"bedroom\", 10.75], \n",
    "         [\"bathroom\", 9.50]]\n",
    "# For structure\n",
    "for elem in house:\n",
    "    print(\"the \"+str(elem[0]) + \" is \"+ str(elem[1]) + \"sqm\")"
   ]
  },
  {
   "cell_type": "markdown",
   "metadata": {
    "id": "DrALR41gQ7hH"
   },
   "source": [
    "### FOR sobre Diccionarios"
   ]
  },
  {
   "cell_type": "code",
   "execution_count": null,
   "metadata": {
    "colab": {
     "base_uri": "https://localhost:8080/",
     "height": 134
    },
    "id": "e_D7OgndQ_Jr",
    "outputId": "e6691c94-d072-421f-b9d7-696952c67e49"
   },
   "outputs": [
    {
     "name": "stdout",
     "output_type": "stream",
     "text": [
      "the capital of spain is madrid\n",
      "the capital of france is paris\n",
      "the capital of germany is berlin\n",
      "the capital of norway is oslo\n",
      "the capital of italy is rome\n",
      "the capital of poland is warsaw\n",
      "the capital of austria is vienna\n"
     ]
    }
   ],
   "source": [
    "# Definition of dictionary\n",
    "europe = {'spain':'madrid', 'france':'paris', 'germany':'berlin',\n",
    "          'norway':'oslo', 'italy':'rome', 'poland':'warsaw', 'austria':'vienna' }\n",
    "          \n",
    "# Iterate over europe\n",
    "for key in europe:\n",
    "  print(\"the capital of \"+key+ \" is \"+europe[key]) "
   ]
  },
  {
   "cell_type": "code",
   "execution_count": null,
   "metadata": {
    "colab": {
     "base_uri": "https://localhost:8080/",
     "height": 134
    },
    "id": "TvVYhoEsWnEc",
    "outputId": "e64332b6-150a-446d-f95d-aab3a8631752"
   },
   "outputs": [
    {
     "name": "stdout",
     "output_type": "stream",
     "text": [
      "the capital of spain is madrid\n",
      "the capital of france is paris\n",
      "the capital of germany is berlin\n",
      "the capital of norway is oslo\n",
      "the capital of italy is rome\n",
      "the capital of poland is warsaw\n",
      "the capital of austria is vienna\n"
     ]
    }
   ],
   "source": [
    "# Iterate over europe.items()\n",
    "for key, value in europe.items() :\n",
    "  print(\"the capital of \"+key+ \" is \"+value)"
   ]
  },
  {
   "cell_type": "code",
   "execution_count": null,
   "metadata": {
    "colab": {
     "base_uri": "https://localhost:8080/",
     "height": 134
    },
    "id": "91hP-_W0WnMZ",
    "outputId": "c4e13f0a-fa41-4e8e-e760-0a887aa47347"
   },
   "outputs": [
    {
     "name": "stdout",
     "output_type": "stream",
     "text": [
      "the capital of spain is madrid\n",
      "the capital of france is paris\n",
      "the capital of germany is berlin\n",
      "the capital of norway is oslo\n",
      "the capital of italy is rome\n",
      "the capital of poland is warsaw\n",
      "the capital of austria is vienna\n"
     ]
    }
   ],
   "source": [
    "# Iterate over europe.keys()\n",
    "for key in europe.keys() :\n",
    "  print(\"the capital of \"+key+ \" is \"+europe[key])"
   ]
  },
  {
   "cell_type": "code",
   "execution_count": null,
   "metadata": {
    "colab": {
     "base_uri": "https://localhost:8080/",
     "height": 134
    },
    "id": "tyI_hcEqWnW_",
    "outputId": "05a49f82-252a-4cf1-c684-e036539b8e1b"
   },
   "outputs": [
    {
     "name": "stdout",
     "output_type": "stream",
     "text": [
      "the capitals is madrid\n",
      "the capitals is paris\n",
      "the capitals is berlin\n",
      "the capitals is oslo\n",
      "the capitals is rome\n",
      "the capitals is warsaw\n",
      "the capitals is vienna\n"
     ]
    }
   ],
   "source": [
    "# Iterate over europe.values()\n",
    "for value in europe.values() :\n",
    "  print(\"the capitals is \"+value) "
   ]
  },
  {
   "cell_type": "markdown",
   "metadata": {
    "id": "xE02aKq5b8y-"
   },
   "source": [
    "### Ejercicio 5\n",
    "\n",
    "Escriba una función que genere un diccionario donde las claves son los numeros del 1 al 15 (ambos incluidos) y los valores son el cuadrado de las claves.\n",
    "\n",
    "Ejemplo:\n",
    "```python\n",
    "{\n",
    "  1 : 1,\n",
    "  2 : 4,\n",
    "  3 : 9,\n",
    "  ...\n",
    "}\n",
    "```"
   ]
  },
  {
   "cell_type": "code",
   "execution_count": null,
   "metadata": {
    "colab": {
     "base_uri": "https://localhost:8080/",
     "height": 54
    },
    "id": "CzHOkVQGco_h",
    "outputId": "2577218e-8e57-4131-c2bd-c34e62c012df"
   },
   "outputs": [
    {
     "name": "stdout",
     "output_type": "stream",
     "text": [
      "{1: 1, 2: 4, 3: 9, 4: 16, 5: 25, 6: 36, 7: 49, 8: 64, 9: 81, 10: 100, 11: 121, 12: 144, 13: 169, 14: 196, 15: 225}\n"
     ]
    }
   ],
   "source": [
    "# Your code\n",
    "dic = {}\n",
    "\n",
    "for i in range(1,16):\n",
    "  dic[i] = i**2\n",
    "\n",
    "print(dic)"
   ]
  },
  {
   "cell_type": "markdown",
   "metadata": {
    "id": "12QDJu3enKog"
   },
   "source": [
    "## Control de ciclos"
   ]
  },
  {
   "cell_type": "markdown",
   "metadata": {
    "id": "c4t54cBbVZ8a"
   },
   "source": [
    "### Break\n",
    "\n",
    "Esta función se puede usar en ciclos FOR y WHILE y simplemente termina el ciclo actual y continua con la ejecución de la siguiente instrucción."
   ]
  },
  {
   "cell_type": "code",
   "execution_count": null,
   "metadata": {
    "colab": {
     "base_uri": "https://localhost:8080/",
     "height": 67
    },
    "id": "2PRJOnYfVoCQ",
    "outputId": "c9857098-bf20-46ed-90e6-9502dc875b32"
   },
   "outputs": [
    {
     "name": "stdout",
     "output_type": "stream",
     "text": [
      "char : P\n",
      "char : y\n",
      "char : t\n"
     ]
    }
   ],
   "source": [
    "# Break in FOR\n",
    "for char in \"Python\":\n",
    "    if char == \"h\":\n",
    "        break\n",
    "    print (\"char : \" + char)"
   ]
  },
  {
   "cell_type": "code",
   "execution_count": null,
   "metadata": {
    "colab": {
     "base_uri": "https://localhost:8080/",
     "height": 151
    },
    "id": "FnivC54iXUgl",
    "outputId": "1cb7e9df-e4e9-4629-8a34-5599e63c823d"
   },
   "outputs": [
    {
     "name": "stdout",
     "output_type": "stream",
     "text": [
      "i = 1\n",
      "i = 2\n",
      "i = 3\n",
      "i = 4\n",
      "i = 5\n",
      "i = 6\n",
      "i = 7\n",
      "Found 7, everybody's favorite number! No need to keep working!\n"
     ]
    }
   ],
   "source": [
    "# Break in FOR\n",
    "for i in range(1, 12) : \n",
    "    print( f\"i = {i}\" )\n",
    "    if i == 7 :  \n",
    "        print( \"Found 7, everybody's favorite number! No need to keep working!\")\n",
    "        break"
   ]
  },
  {
   "cell_type": "code",
   "execution_count": null,
   "metadata": {
    "colab": {
     "base_uri": "https://localhost:8080/",
     "height": 101
    },
    "id": "gVzuCMC8XU84",
    "outputId": "8f2260bc-43f3-48e1-ef4f-fd7ec2e392ef"
   },
   "outputs": [
    {
     "name": "stdout",
     "output_type": "stream",
     "text": [
      "value : 9\n",
      "value : 8\n",
      "value : 7\n",
      "value : 6\n",
      "End Script\n"
     ]
    }
   ],
   "source": [
    "# Break in WHILE\n",
    "value = 10\n",
    "while value > 0:\n",
    "    value = value -1\n",
    "    if value == 5:\n",
    "        break\n",
    "    print (\"value : \" + str(value))\n",
    "\n",
    "print (\"End Script\")"
   ]
  },
  {
   "cell_type": "markdown",
   "metadata": {
    "id": "ycArVMfTXgh6"
   },
   "source": [
    "### Continue\n",
    "\n",
    "Esta función regresa al comienzo del ciclo, ignorando las siguientes lineas de código del ciclo actual e inicia la siguiente iteración.  Se puede usar en ciclos FOR y WHILE."
   ]
  },
  {
   "cell_type": "code",
   "execution_count": null,
   "metadata": {
    "colab": {
     "base_uri": "https://localhost:8080/",
     "height": 101
    },
    "id": "RvLdr5TqXf3T",
    "outputId": "c013037b-0339-43ef-b8c1-3faa72676726"
   },
   "outputs": [
    {
     "name": "stdout",
     "output_type": "stream",
     "text": [
      "char : P\n",
      "char : y\n",
      "char : t\n",
      "char : o\n",
      "char : n\n"
     ]
    }
   ],
   "source": [
    "# Continue in FOR\n",
    "for char in \"Python\":\n",
    "    if char == \"h\":\n",
    "        continue\n",
    "    print (\"char : \" + char)"
   ]
  },
  {
   "cell_type": "code",
   "execution_count": null,
   "metadata": {
    "colab": {
     "base_uri": "https://localhost:8080/",
     "height": 202
    },
    "id": "fJUTbwQUXVAu",
    "outputId": "aeaca53f-22fe-4e98-b2be-67285a406712"
   },
   "outputs": [
    {
     "name": "stdout",
     "output_type": "stream",
     "text": [
      "i = 1\n",
      "i = 2\n",
      "i = 3\n",
      "i = 4\n",
      "I don't like multiples of 5, skipping this one\n",
      "i = 6\n",
      "i = 7\n",
      "i = 8\n",
      "i = 9\n",
      "I don't like multiples of 5, skipping this one\n",
      "i = 11\n"
     ]
    }
   ],
   "source": [
    "# Continue in FOR\n",
    "for i in range(1, 12):      \n",
    "    if i % 5 == 0 : # if i is a multiple of 5 \n",
    "        print( \"I don't like multiples of 5, skipping this one\")\n",
    "        continue  # this jumps directly to the beginning of the loop, skipping the rest of _this_ iteration!  \n",
    "        \n",
    "    print( f\"i = {i}\")"
   ]
  },
  {
   "cell_type": "code",
   "execution_count": null,
   "metadata": {
    "colab": {
     "base_uri": "https://localhost:8080/",
     "height": 185
    },
    "id": "5W4Mgaf8nQ10",
    "outputId": "a2c7bf04-f402-4c07-b20f-eecf14e0567b"
   },
   "outputs": [
    {
     "name": "stdout",
     "output_type": "stream",
     "text": [
      "value : 9\n",
      "value : 8\n",
      "value : 7\n",
      "value : 6\n",
      "value : 4\n",
      "value : 3\n",
      "value : 2\n",
      "value : 1\n",
      "value : 0\n",
      "End Script\n"
     ]
    }
   ],
   "source": [
    "# Continue in WHILE\n",
    "value = 10\n",
    "while value > 0:\n",
    "    value = value -1\n",
    "    if value == 5:\n",
    "        continue\n",
    "    print (\"value : \" + str(value))\n",
    "\n",
    "print (\"End Script\")"
   ]
  },
  {
   "cell_type": "markdown",
   "metadata": {
    "id": "0oaZnvTbgV_g"
   },
   "source": [
    "### Pass\n",
    "\n",
    "Es una operación no sucede nada cuando se ejecuta.  Se utiliza cuando se requiere por sintaxis una declaración pero no se quiere ejecutar ningún código.  También se usa como un código temporal, hasta que se escriba el código final."
   ]
  },
  {
   "cell_type": "code",
   "execution_count": null,
   "metadata": {
    "colab": {
     "base_uri": "https://localhost:8080/",
     "height": 118
    },
    "id": "Fnr629lInSoc",
    "outputId": "a99fd4cd-6b63-436d-b724-6717d40ab7b2"
   },
   "outputs": [
    {
     "name": "stdout",
     "output_type": "stream",
     "text": [
      "char : P\n",
      "char : y\n",
      "char : t\n",
      "char : h\n",
      "char : o\n",
      "char : n\n"
     ]
    }
   ],
   "source": [
    "# Pass in FOR\n",
    "for char in \"Python\":\n",
    "    if char == \"h\":\n",
    "        pass\n",
    "    print (\"char : \" + char)"
   ]
  },
  {
   "cell_type": "code",
   "execution_count": null,
   "metadata": {
    "colab": {
     "base_uri": "https://localhost:8080/",
     "height": 202
    },
    "id": "rGauJmLFg4t-",
    "outputId": "6e41da62-d58b-4b9c-d6ba-f14db6443573"
   },
   "outputs": [
    {
     "name": "stdout",
     "output_type": "stream",
     "text": [
      "value : 9\n",
      "value : 8\n",
      "value : 7\n",
      "value : 6\n",
      "value : 5\n",
      "value : 4\n",
      "value : 3\n",
      "value : 2\n",
      "value : 1\n",
      "value : 0\n",
      "End Script\n"
     ]
    }
   ],
   "source": [
    "# Pass in WHILE\n",
    "value = 10\n",
    "while value > 0:\n",
    "    value = value -1\n",
    "    if value == 5:\n",
    "        pass\n",
    "    print (\"value : \" + str(value))\n",
    "\n",
    "print (\"End Script\")"
   ]
  },
  {
   "cell_type": "markdown",
   "metadata": {
    "id": "FJB3Y6Y8nXfV"
   },
   "source": [
    "# Errores y Excepciones\n",
    "\n",
    "Hay dos tipos de errores diferentes: *errores de sintaxis* y *excepciones*."
   ]
  },
  {
   "cell_type": "markdown",
   "metadata": {
    "id": "eDcBwZ8niL3v"
   },
   "source": [
    "## Errores de sintaxis\n",
    "\n",
    "En los errores de sintaxis, el interprete repite la línea culpable del error.\n",
    "\n",
    "```python\n",
    "while True print('Hola mundo')\n",
    "```\n",
    "```python\n",
    "File \"<stdin>\", line 1\n",
    "  while True print('Hola mundo')\n",
    "                  ^\n",
    "SyntaxError: invalid syntax\n",
    "```"
   ]
  },
  {
   "cell_type": "markdown",
   "metadata": {
    "id": "603Zf-rLkGT4"
   },
   "source": [
    "## Excepciones\n",
    "\n",
    "Sin importar que la declaración este sintácticamente correcta, puede generar un error cuando se intenta ejecutarla. Los errores detectados durante la ejecución se llaman excepciones pueden ser manejados por los programas en Python. \n",
    "\n",
    "La declaración `try` nos permite manejar las excepciones y trabaja de la siguiente manera:\n",
    "\n",
    "1. Se ejecuta el *bloque try* (el código entre la declaración `try`y `except`)\n",
    "2. Si no ocurre una excepción el `boque except` se omite y termina la ejecución de la declaración `try`.\n",
    "3. Si ocurre una excepción durante la ejecución del *bloque try*, el resto del bloque se omite.  Si el tipo de excepción coincide con la excepción nombreada luevo de la palabra reservada `except`, se ejecuta el *bloque except*, y la ejecución continúa luego de la declaración `try`.\n",
    "4. Si ocurre una excepción que no coincida con la excepción nombrada en el `except`, esta es una excepción no manejada y la ejecución se frena con un mensaje de error indicando lo que sucedió, por ejemplo: **ZeroDivisionError**, **NameError**, **TypeError** y **ValueError**."
   ]
  },
  {
   "cell_type": "code",
   "execution_count": null,
   "metadata": {
    "colab": {
     "base_uri": "https://localhost:8080/",
     "height": 162
    },
    "id": "JJ2i5QUriLS3",
    "outputId": "2c1a0b42-6f49-4b0d-b344-3ddacd4687e7"
   },
   "outputs": [
    {
     "ename": "ZeroDivisionError",
     "evalue": "ignored",
     "output_type": "error",
     "traceback": [
      "\u001b[0;31m---------------------------------------------------------------------------\u001b[0m",
      "\u001b[0;31mZeroDivisionError\u001b[0m                         Traceback (most recent call last)",
      "\u001b[0;32m<ipython-input-34-0b280f36835c>\u001b[0m in \u001b[0;36m<module>\u001b[0;34m()\u001b[0m\n\u001b[0;32m----> 1\u001b[0;31m \u001b[0;36m10\u001b[0m \u001b[0;34m*\u001b[0m \u001b[0;34m(\u001b[0m\u001b[0;36m1\u001b[0m\u001b[0;34m/\u001b[0m\u001b[0;36m0\u001b[0m\u001b[0;34m)\u001b[0m\u001b[0;34m\u001b[0m\u001b[0;34m\u001b[0m\u001b[0m\n\u001b[0m",
      "\u001b[0;31mZeroDivisionError\u001b[0m: division by zero"
     ]
    }
   ],
   "source": [
    "# ZeroDivisionError\n",
    "10 * (1/0)"
   ]
  },
  {
   "cell_type": "code",
   "execution_count": null,
   "metadata": {
    "colab": {
     "base_uri": "https://localhost:8080/",
     "height": 162
    },
    "id": "KQPEvVfepUyF",
    "outputId": "29b89c7f-617c-4979-c518-3ed6e096ca55"
   },
   "outputs": [
    {
     "ename": "NameError",
     "evalue": "ignored",
     "output_type": "error",
     "traceback": [
      "\u001b[0;31m---------------------------------------------------------------------------\u001b[0m",
      "\u001b[0;31mNameError\u001b[0m                                 Traceback (most recent call last)",
      "\u001b[0;32m<ipython-input-35-c98bb92cdcac>\u001b[0m in \u001b[0;36m<module>\u001b[0;34m()\u001b[0m\n\u001b[0;32m----> 1\u001b[0;31m \u001b[0;36m4\u001b[0m \u001b[0;34m+\u001b[0m \u001b[0mspam\u001b[0m\u001b[0;34m*\u001b[0m\u001b[0;36m3\u001b[0m\u001b[0;34m\u001b[0m\u001b[0;34m\u001b[0m\u001b[0m\n\u001b[0m",
      "\u001b[0;31mNameError\u001b[0m: name 'spam' is not defined"
     ]
    }
   ],
   "source": [
    "# NameError\n",
    "4 + spam*3"
   ]
  },
  {
   "cell_type": "code",
   "execution_count": null,
   "metadata": {
    "colab": {
     "base_uri": "https://localhost:8080/",
     "height": 162
    },
    "id": "8_jfDp-GpZdw",
    "outputId": "0c3454ba-4ee1-42f9-d528-58821280e6b0"
   },
   "outputs": [
    {
     "ename": "TypeError",
     "evalue": "ignored",
     "output_type": "error",
     "traceback": [
      "\u001b[0;31m---------------------------------------------------------------------------\u001b[0m",
      "\u001b[0;31mTypeError\u001b[0m                                 Traceback (most recent call last)",
      "\u001b[0;32m<ipython-input-36-d2b23a1db757>\u001b[0m in \u001b[0;36m<module>\u001b[0;34m()\u001b[0m\n\u001b[0;32m----> 1\u001b[0;31m \u001b[0;34m'2'\u001b[0m \u001b[0;34m+\u001b[0m \u001b[0;36m2\u001b[0m\u001b[0;34m\u001b[0m\u001b[0;34m\u001b[0m\u001b[0m\n\u001b[0m",
      "\u001b[0;31mTypeError\u001b[0m: must be str, not int"
     ]
    }
   ],
   "source": [
    "# TypeError\n",
    "'2' + 2"
   ]
  },
  {
   "cell_type": "code",
   "execution_count": null,
   "metadata": {
    "colab": {
     "base_uri": "https://localhost:8080/",
     "height": 162
    },
    "id": "-xO-r4s6ncvC",
    "outputId": "b4a0fce0-2ec6-4daf-c389-53a73b36197e"
   },
   "outputs": [
    {
     "ename": "ValueError",
     "evalue": "ignored",
     "output_type": "error",
     "traceback": [
      "\u001b[0;31m---------------------------------------------------------------------------\u001b[0m",
      "\u001b[0;31mValueError\u001b[0m                                Traceback (most recent call last)",
      "\u001b[0;32m<ipython-input-37-6fcc815e1807>\u001b[0m in \u001b[0;36m<module>\u001b[0;34m()\u001b[0m\n\u001b[0;32m----> 1\u001b[0;31m \u001b[0mfloat\u001b[0m\u001b[0;34m(\u001b[0m\u001b[0;34m\"juan\"\u001b[0m\u001b[0;34m)\u001b[0m\u001b[0;34m\u001b[0m\u001b[0;34m\u001b[0m\u001b[0m\n\u001b[0m",
      "\u001b[0;31mValueError\u001b[0m: could not convert string to float: 'juan'"
     ]
    }
   ],
   "source": [
    "#ValueError\n",
    "float(\"juan\")"
   ]
  },
  {
   "cell_type": "code",
   "execution_count": null,
   "metadata": {
    "colab": {
     "base_uri": "https://localhost:8080/",
     "height": 50
    },
    "id": "rJnu_9LonY6L",
    "outputId": "f7a3147b-940c-45a6-8fcf-e5008273d196"
   },
   "outputs": [
    {
     "name": "stdout",
     "output_type": "stream",
     "text": [
      "an exception was thrown: defaulting to special float value = nan\n",
      "a_as_float = nan\n"
     ]
    }
   ],
   "source": [
    "# try-except structure with particular type of exception defined\n",
    "my_string = \"asdad\"\n",
    "try : \n",
    "    my_string_as_float = float( my_string ) \n",
    "    print( \"the entered value could be converted directly to a number\")\n",
    "except ValueError as err :  \n",
    "    # capture this particular type of exception and bind it to the name 'err'\n",
    "    print( \"an exception was thrown: defaulting to special float value = nan\")\n",
    "    a_as_float = float( \"nan\")\n",
    "print( f\"a_as_float = {a_as_float}\")"
   ]
  },
  {
   "cell_type": "code",
   "execution_count": null,
   "metadata": {
    "colab": {
     "base_uri": "https://localhost:8080/",
     "height": 50
    },
    "id": "s6c254MRp8Aa",
    "outputId": "424de7dd-ab18-44c7-b96c-852e202166af"
   },
   "outputs": [
    {
     "name": "stdout",
     "output_type": "stream",
     "text": [
      "an exception was thrown: defaulting to special float value = nan\n",
      "a_as_float = nan\n"
     ]
    }
   ],
   "source": [
    "# try-except structure with general type of exception\n",
    "my_string = \"asdad\"\n",
    "try : \n",
    "    my_string_as_float = float( my_string ) \n",
    "    print( \"the entered value could be converted directly to a number\")\n",
    "except:  \n",
    "    # capture this particular type of exception and bind it to the name 'err'\n",
    "    print( \"an exception was thrown: defaulting to special float value = nan\")\n",
    "    a_as_float = float( \"nan\")\n",
    "print( f\"a_as_float = {a_as_float}\")"
   ]
  },
  {
   "cell_type": "code",
   "execution_count": null,
   "metadata": {
    "colab": {
     "base_uri": "https://localhost:8080/",
     "height": 50
    },
    "id": "CMfgOS7kq7I_",
    "outputId": "67fc17de-9b46-46f1-f09e-438abf9913a9"
   },
   "outputs": [
    {
     "name": "stdout",
     "output_type": "stream",
     "text": [
      "an exception was thrown: could not convert string to float: 'asdad'\n",
      "a_as_float = nan\n"
     ]
    }
   ],
   "source": [
    "# try-except structure with general type of exception and print error\n",
    "my_string = \"asdad\"\n",
    "try : \n",
    "    my_string_as_float = float( my_string ) \n",
    "    print( \"the entered value could be converted directly to a number\")\n",
    "except Exception as inst:  \n",
    "    # capture this particular type of exception and bind it to the name 'err'\n",
    "    print( f\"an exception was thrown: {inst}\")\n",
    "    a_as_float = float( \"nan\")\n",
    "print( f\"a_as_float = {a_as_float}\")"
   ]
  },
  {
   "cell_type": "code",
   "execution_count": null,
   "metadata": {
    "colab": {
     "base_uri": "https://localhost:8080/",
     "height": 50
    },
    "id": "1EN353bOqZ4k",
    "outputId": "54975ce8-d14d-4fe5-d245-204a0550d836"
   },
   "outputs": [
    {
     "name": "stdout",
     "output_type": "stream",
     "text": [
      "an exception was thrown: defaulting to special float value = nan\n",
      "a_as_float = nan\n"
     ]
    }
   ],
   "source": [
    "# try-except structure with general type of exception\n",
    "my_string = \"asdad\"\n",
    "try : \n",
    "    my_string_as_float = float( my_string ) \n",
    "    print( \"the entered value could be converted directly to a number\")\n",
    "except:\n",
    "    # capture this particular type of exception and bind it to the name 'err'\n",
    "    print( \"an exception was thrown: defaulting to special float value = nan\")\n",
    "    a_as_float = float( \"nan\")\n",
    "print( f\"a_as_float = {a_as_float}\")"
   ]
  },
  {
   "cell_type": "markdown",
   "metadata": {
    "id": "EKnsKemowY9X"
   },
   "source": [
    "La declaración `try` tiene otra clausula opcional `finally` que intenta definir acciones de limpieza que deben ser ejecutadas bajo ciertas circustancias. La cláusula `finally` siempre es ejecutada antes de salir de la declaración `try`, ya sea que una excepción haya ocurrido o no."
   ]
  },
  {
   "cell_type": "code",
   "execution_count": null,
   "metadata": {
    "colab": {
     "base_uri": "https://localhost:8080/",
     "height": 50
    },
    "id": "S9NyzEOwtOV-",
    "outputId": "db1b12d5-431f-41cb-a1ab-1f5a65a7c602"
   },
   "outputs": [
    {
     "name": "stdout",
     "output_type": "stream",
     "text": [
      "¡división por cero!\n",
      "ejecutando la clausula finally\n"
     ]
    }
   ],
   "source": [
    "# structure try-except-finally\n",
    "try:\n",
    "  result = x / 0\n",
    "  #result = 4/2\n",
    "except ZeroDivisionError:\n",
    "  print(\"¡división por cero!\")\n",
    "else:\n",
    "  print(\"el resultado es\", result)\n",
    "finally:\n",
    "  print(\"ejecutando la clausula finally\")"
   ]
  },
  {
   "cell_type": "markdown",
   "metadata": {
    "id": "Za6SV4IV3jrR"
   },
   "source": [
    "# Clases\n",
    "\n",
    "Las clases proveen una forma de empaquetar datos y funcionalidad juntos. Al crear una nueva clase, se crea un nuevo *tipo* de objeto, permitiendo crear nuevas *instancias* de este tipo.  Cada instancia de clase puede tener atributos adjuntos para mantener su estado.  Las instancias de clase también pueden tener métodos (definidos por su clase) para modificar su estado.\n",
    "\n",
    "La variable *self* es una instancia de la clase y no es ua palabra reservada de Python, cualquier etiqueta utilizada como primer parámetro tendría el mismo valor (no se aconseja usar otro valor por convención).  Cada vez que declaremos un método en Python, vamos a tener uqe agregarle la variable *self* para que cuando sea invocado el método, Python pase el objeto instanciado y opere con los valores actuales de esa instancia.  \n",
    "  \n",
    "  \n"
   ]
  },
  {
   "cell_type": "code",
   "execution_count": null,
   "metadata": {
    "id": "JbJ31lPrCGwg"
   },
   "outputs": [],
   "source": [
    "# Definimos la clase con nombre Mascota\n",
    "class Mascota:\n",
    "  # Atributos\n",
    "  especie = 'Gato'\n",
    "\n",
    "  \n",
    "  def __init__(self,nombre,especie=especie):\n",
    "    \"\"\"\n",
    "      El método __init__ es una función para inicializar la clase, si no se especifica la especie toma el valor por defecto definido en el atributo.\n",
    "    \"\"\"\n",
    "    self.nombre = nombre\n",
    "    self.especie = especie\n",
    "    self._private=None\n",
    "  \n",
    "  def __str__(self):\n",
    "    \"\"\"\n",
    "      El método __str__ es una función que proporciona una cadena informal de la representación del objeto.\n",
    "    \"\"\"\n",
    "    return \"%s es un %s\" % (self.nombre, self.especie)\n",
    "\n",
    "  def darNombre(self):\n",
    "    \"\"\"\n",
    "      Retorna el nombre de la mascota.\n",
    "    \"\"\"\n",
    "    return self.nombre\n",
    "  \n",
    "  def darEspecie(self):\n",
    "    \"\"\"\n",
    "      Retorna la especie de la mascota.\n",
    "    \"\"\"\n",
    "    return self.especie"
   ]
  },
  {
   "cell_type": "code",
   "execution_count": null,
   "metadata": {
    "id": "nQfkVQdnCM9v"
   },
   "outputs": [],
   "source": [
    "Teo = Mascota(\"Teo\",\"Perro\")"
   ]
  },
  {
   "cell_type": "code",
   "execution_count": null,
   "metadata": {
    "colab": {
     "base_uri": "https://localhost:8080/",
     "height": 34
    },
    "id": "XJ4AQjxzES9Z",
    "outputId": "c36468f0-100c-4d4e-886f-5c8b5572b0a9"
   },
   "outputs": [
    {
     "name": "stdout",
     "output_type": "stream",
     "text": [
      "Teo es un Gato\n"
     ]
    }
   ],
   "source": [
    "print(Teo)"
   ]
  },
  {
   "cell_type": "code",
   "execution_count": null,
   "metadata": {
    "id": "8hKCuS8QFx4k"
   },
   "outputs": [],
   "source": [
    "Teo.especie='Gato'"
   ]
  },
  {
   "cell_type": "code",
   "execution_count": null,
   "metadata": {
    "colab": {
     "base_uri": "https://localhost:8080/",
     "height": 34
    },
    "id": "L1mbbGJbF2qM",
    "outputId": "9c898843-8fb2-4afd-e1de-c71110995328"
   },
   "outputs": [
    {
     "name": "stdout",
     "output_type": "stream",
     "text": [
      "Teo es un Gato\n"
     ]
    }
   ],
   "source": [
    "print(Teo)"
   ]
  },
  {
   "cell_type": "code",
   "execution_count": null,
   "metadata": {
    "id": "gzdIUB-PCY-Q"
   },
   "outputs": [],
   "source": [
    "?Teo.darEspecie"
   ]
  },
  {
   "cell_type": "code",
   "execution_count": null,
   "metadata": {
    "id": "j0C13ThyjgtU"
   },
   "outputs": [],
   "source": []
  },
  {
   "cell_type": "markdown",
   "metadata": {
    "id": "vG1rGnfUyAw_"
   },
   "source": [
    "# Funciones lambda\n",
    "\n",
    "Lambdas es la forma de Python de definir funciones anónimas muy simples cuyo valor de retorno es el resultado de evaluar una sola expresión.\n",
    "\n",
    "```python\n",
    "lambda argumentos: resultado\n",
    "```\n",
    "\n",
    "Una de las razones por las que desees utilizar este tipo de funciones es por rapidez y en ciertos casos claridad del código."
   ]
  },
  {
   "cell_type": "code",
   "execution_count": null,
   "metadata": {
    "colab": {
     "base_uri": "https://localhost:8080/",
     "height": 34
    },
    "id": "L-9Zzcf-xV9M",
    "outputId": "b6194205-615f-4d35-e437-eb7325c1ebec"
   },
   "outputs": [
    {
     "data": {
      "text/plain": [
       "5"
      ]
     },
     "execution_count": 63,
     "metadata": {
      "tags": []
     },
     "output_type": "execute_result"
    }
   ],
   "source": [
    "# Define function\n",
    "def function_sum(x,y):\n",
    "  return x + y\n",
    "function_sum(2,3)"
   ]
  },
  {
   "cell_type": "code",
   "execution_count": null,
   "metadata": {
    "colab": {
     "base_uri": "https://localhost:8080/",
     "height": 34
    },
    "id": "F2cBw1UCzXxu",
    "outputId": "72a884e6-8664-42b2-b653-35ce3cf04290"
   },
   "outputs": [
    {
     "data": {
      "text/plain": [
       "5"
      ]
     },
     "execution_count": 64,
     "metadata": {
      "tags": []
     },
     "output_type": "execute_result"
    }
   ],
   "source": [
    "# Define lambda\n",
    "lambda_function = lambda x,y: x + y\n",
    "lambda_function(2,3)"
   ]
  },
  {
   "cell_type": "markdown",
   "metadata": {
    "id": "CCrgLw9kInl6"
   },
   "source": [
    "## Usando Lambda con Sorted"
   ]
  },
  {
   "cell_type": "code",
   "execution_count": null,
   "metadata": {
    "id": "tubNIOE1IlNX"
   },
   "outputs": [],
   "source": [
    "data_recs = [\n",
    "  [ \"Maria\",  7.0, 8.0, 3.0 ],\n",
    "  [ \"Juan\" ,  5.0, 2.0, 2.0 ],\n",
    "  [ \"Mateo\",  1.0, 4.0, 4.0 ],     \n",
    "]"
   ]
  },
  {
   "cell_type": "markdown",
   "metadata": {
    "id": "I0gMsYRKI0vS"
   },
   "source": [
    "Se quiere ordenar estos registros por el valor del primer componente numérico (índice 1 en la lista)"
   ]
  },
  {
   "cell_type": "code",
   "execution_count": null,
   "metadata": {
    "colab": {
     "base_uri": "https://localhost:8080/",
     "height": 34
    },
    "id": "cnnxmx34GLCP",
    "outputId": "083fc6bf-30ec-4b78-d764-9abff9582261"
   },
   "outputs": [
    {
     "data": {
      "text/plain": [
       "['Juan', 5.0, 2.0, 2.0]"
      ]
     },
     "execution_count": 149,
     "metadata": {
      "tags": []
     },
     "output_type": "execute_result"
    }
   ],
   "source": [
    "data_recs[:][1]"
   ]
  },
  {
   "cell_type": "code",
   "execution_count": null,
   "metadata": {
    "colab": {
     "base_uri": "https://localhost:8080/",
     "height": 34
    },
    "id": "OzS9mRMOI12A",
    "outputId": "5d12935f-7cc2-435f-c43b-9168eaf5d541"
   },
   "outputs": [
    {
     "data": {
      "text/plain": [
       "[['Mateo', 1.0, 4.0, 4.0], ['Juan', 5.0, 2.0, 2.0], ['Maria', 7.0, 8.0, 3.0]]"
      ]
     },
     "execution_count": 71,
     "metadata": {
      "tags": []
     },
     "output_type": "execute_result"
    }
   ],
   "source": [
    "records_sorted = sorted(data_recs, key = lambda rec : rec[1])\n",
    "records_sorted"
   ]
  },
  {
   "cell_type": "markdown",
   "metadata": {
    "id": "u5yJ_cd0caZ3"
   },
   "source": [
    "## Ejercicio 6\n",
    "\n",
    "Modifique el anterior ejemplo y ordene los registros en order descendiente por el ultimo record. Ayuda ( reverse = True )"
   ]
  },
  {
   "cell_type": "code",
   "execution_count": null,
   "metadata": {
    "colab": {
     "base_uri": "https://localhost:8080/",
     "height": 151
    },
    "id": "PSAOrEaoqRWM",
    "outputId": "48d8a89a-92e2-4db9-b946-26f19ec4a660"
   },
   "outputs": [
    {
     "name": "stdout",
     "output_type": "stream",
     "text": [
      "Help on built-in function sorted in module builtins:\n",
      "\n",
      "sorted(iterable, /, *, key=None, reverse=False)\n",
      "    Return a new list containing all items from the iterable in ascending order.\n",
      "    \n",
      "    A custom key function can be supplied to customize the sort order, and the\n",
      "    reverse flag can be set to request the result in descending order.\n",
      "\n"
     ]
    }
   ],
   "source": [
    "help(sorted)"
   ]
  },
  {
   "cell_type": "code",
   "execution_count": null,
   "metadata": {
    "colab": {
     "base_uri": "https://localhost:8080/",
     "height": 34
    },
    "id": "sGLTLVN8cg-Z",
    "outputId": "b353bfc5-531c-462f-9ebf-f823975900ca"
   },
   "outputs": [
    {
     "data": {
      "text/plain": [
       "[['Mateo', 1.0, 4.0, 4.0], ['Maria', 7.0, 8.0, 3.0], ['Juan', 5.0, 2.0, 2.0]]"
      ]
     },
     "execution_count": 75,
     "metadata": {
      "tags": []
     },
     "output_type": "execute_result"
    }
   ],
   "source": [
    "# Your Code\n",
    "records_sorted = sorted(data_recs, key = lambda rec : rec[-1],reverse=True)\n",
    "records_sorted"
   ]
  },
  {
   "cell_type": "markdown",
   "metadata": {
    "id": "B4ldG2-h1zj5"
   },
   "source": [
    "# Función filter()\n",
    "\n",
    "Es una función que permite filtrar, a partir de una lista o iterador y una función condicional, es capaz de devolver una nueva colección con los elementos filtrados que cumplan la condición.  En este tipo de función las funciones `lambda` son muy utiles.\n",
    "\n",
    "La función `filter(funcion,iterable)` construye una lista con aquellos elementos en los cuales `funcion(iterable[i])` retorna `True`.\n"
   ]
  },
  {
   "cell_type": "code",
   "execution_count": null,
   "metadata": {
    "colab": {
     "base_uri": "https://localhost:8080/",
     "height": 34
    },
    "id": "UVIJlDDm5ZKj",
    "outputId": "5b61d3e2-16bf-419b-8f5c-4703bb1439fb"
   },
   "outputs": [
    {
     "data": {
      "text/plain": [
       "[1, 3, 5, 6, 7]"
      ]
     },
     "execution_count": 79,
     "metadata": {
      "tags": []
     },
     "output_type": "execute_result"
    }
   ],
   "source": [
    "a = [0, 1, -1, -2, 3, -4, 5, 6, 7]\n",
    "list(filter(lambda x: x > 0, a))"
   ]
  },
  {
   "cell_type": "code",
   "execution_count": null,
   "metadata": {
    "colab": {
     "base_uri": "https://localhost:8080/",
     "height": 34
    },
    "id": "yhhtTZNJzi3E",
    "outputId": "a236a1ed-89a2-4512-d0ab-090fd73aef9d"
   },
   "outputs": [
    {
     "data": {
      "text/plain": [
       "[5, 10, 50]"
      ]
     },
     "execution_count": 80,
     "metadata": {
      "tags": []
     },
     "output_type": "execute_result"
    }
   ],
   "source": [
    "def multiple(numero):    # Primero declaramos una función condicional\n",
    "    if numero % 5 == 0:  # Comprobamos si un numero es múltiple de cinco\n",
    "        return True      # Sólo devolvemos True si lo es\n",
    "\n",
    "numeros = [2, 5, 10, 23, 50, 33]\n",
    "\n",
    "list(filter(multiple, numeros))"
   ]
  },
  {
   "cell_type": "code",
   "execution_count": null,
   "metadata": {
    "colab": {
     "base_uri": "https://localhost:8080/",
     "height": 34
    },
    "id": "S3Wh1MMf2jy7",
    "outputId": "e9eb8253-2f88-4b56-812b-e5c16f592b97"
   },
   "outputs": [
    {
     "data": {
      "text/plain": [
       "[5, 10, 50]"
      ]
     },
     "execution_count": 81,
     "metadata": {
      "tags": []
     },
     "output_type": "execute_result"
    }
   ],
   "source": [
    "list( filter(lambda numero: numero%5 == 0, numeros) )"
   ]
  },
  {
   "cell_type": "markdown",
   "metadata": {
    "id": "ea0V1PIz2_k3"
   },
   "source": [
    "## Filtrando objetos"
   ]
  },
  {
   "cell_type": "code",
   "execution_count": null,
   "metadata": {
    "colab": {
     "base_uri": "https://localhost:8080/",
     "height": 84
    },
    "id": "6vyVk4GE2-sB",
    "outputId": "56da1a9d-feb3-45da-cfdb-03c49d1e6e5f"
   },
   "outputs": [
    {
     "name": "stdout",
     "output_type": "stream",
     "text": [
      "Juan de 35 años\n",
      "Marta de 16 años\n",
      "Manuel de 78 años\n",
      "Eduardo de 12 años\n"
     ]
    }
   ],
   "source": [
    "# Definimos una clase persona\n",
    "class Persona:\n",
    "\n",
    "    def __init__(self, nombre, edad):\n",
    "        self.nombre = nombre\n",
    "        self.edad = edad\n",
    "\n",
    "    def __str__(self):\n",
    "        return \"{} de {} años\".format(self.nombre, self.edad)\n",
    "\n",
    "# Se crea una lista con 4 personas\n",
    "personas = [\n",
    "    Persona(\"Juan\", 35),\n",
    "    Persona(\"Marta\", 16),\n",
    "    Persona(\"Manuel\", 78),\n",
    "    Persona(\"Eduardo\", 12)\n",
    "]\n",
    "\n",
    "# Visualizamos la lista\n",
    "for p in personas:\n",
    "    print(p)"
   ]
  },
  {
   "cell_type": "code",
   "execution_count": null,
   "metadata": {
    "colab": {
     "base_uri": "https://localhost:8080/",
     "height": 50
    },
    "id": "1aZrKfZ723vB",
    "outputId": "df2b5fec-bbc4-4ff3-e584-003a7814e2a3"
   },
   "outputs": [
    {
     "name": "stdout",
     "output_type": "stream",
     "text": [
      "Marta de 16 años\n",
      "Eduardo de 12 años\n"
     ]
    }
   ],
   "source": [
    "# Se desea filtrar los menores de 18\n",
    "menores = filter(lambda persona: persona.edad < 18, personas)\n",
    "\n",
    "# Visualizamos los objetos de la lista filtrada\n",
    "for menor in menores:\n",
    "    print(menor)"
   ]
  },
  {
   "cell_type": "markdown",
   "metadata": {
    "id": "jvwFgni-G21s"
   },
   "source": [
    "# Función map()\n",
    "\n",
    "Funciona similar a `filter()`, con la diferencia que en lugar de aplicar una condición a un elemento de una lista o secuencia, aplica una función sobre todos los elementos y como resultado se devuelve un iterable de tipo map."
   ]
  },
  {
   "cell_type": "code",
   "execution_count": null,
   "metadata": {
    "colab": {
     "base_uri": "https://localhost:8080/",
     "height": 34
    },
    "id": "Lh2S_KoBGEYo",
    "outputId": "0cfb060b-60cb-415b-be67-a6adf28cbd4c"
   },
   "outputs": [
    {
     "data": {
      "text/plain": [
       "[4, 10, 20, 46, 100, 66]"
      ]
     },
     "execution_count": 84,
     "metadata": {
      "tags": []
     },
     "output_type": "execute_result"
    }
   ],
   "source": [
    "numeros = [2, 5, 10, 23, 50, 33]\n",
    "list( map(lambda x: x*2, numeros) )"
   ]
  },
  {
   "cell_type": "markdown",
   "metadata": {
    "id": "9YusI2PeH23G"
   },
   "source": [
    "La función `map()` se utiliza mucho junto a expresiones lambda ya que permite ahorrar esfuerzo creando ciclos FOR.  Adicional se puede utilizar sobre más de un iterable con la condición que tengan la misma longitud."
   ]
  },
  {
   "cell_type": "code",
   "execution_count": null,
   "metadata": {
    "colab": {
     "base_uri": "https://localhost:8080/",
     "height": 34
    },
    "id": "PEzzQDI9HiTn",
    "outputId": "45c782bd-aa35-411b-c68d-c3be1e40b9ef"
   },
   "outputs": [
    {
     "data": {
      "text/plain": [
       "[6, 14, 24, 36, 50]"
      ]
     },
     "execution_count": 85,
     "metadata": {
      "tags": []
     },
     "output_type": "execute_result"
    }
   ],
   "source": [
    "a = [1, 2, 3, 4, 5]\n",
    "b = [6, 7, 8, 9, 10]\n",
    "\n",
    "list( map(lambda x,y : x*y, a,b) )"
   ]
  },
  {
   "cell_type": "code",
   "execution_count": null,
   "metadata": {
    "colab": {
     "base_uri": "https://localhost:8080/",
     "height": 34
    },
    "id": "uKmVqAWxH8Fy",
    "outputId": "27a0525b-67af-4cd3-cc07-7b9d2596ba7d"
   },
   "outputs": [
    {
     "data": {
      "text/plain": [
       "[66, 168, 312, 504, 750]"
      ]
     },
     "execution_count": 86,
     "metadata": {
      "tags": []
     },
     "output_type": "execute_result"
    }
   ],
   "source": [
    "c = [11, 12, 13, 14, 15]\n",
    "\n",
    "list( map(lambda x,y,z : x*y*z, a,b,c) )"
   ]
  },
  {
   "cell_type": "markdown",
   "metadata": {
    "id": "1NbNO5ATIDOn"
   },
   "source": [
    "## Mapeando objetos"
   ]
  },
  {
   "cell_type": "code",
   "execution_count": null,
   "metadata": {
    "colab": {
     "base_uri": "https://localhost:8080/",
     "height": 84
    },
    "id": "Wglb4CfPH83A",
    "outputId": "7df299a0-bd0b-4e3f-a07e-bb7865e3b1de"
   },
   "outputs": [
    {
     "name": "stdout",
     "output_type": "stream",
     "text": [
      "Juan de 36 años\n",
      "Marta de 17 años\n",
      "Manuel de 79 años\n",
      "Eduardo de 13 años\n"
     ]
    }
   ],
   "source": [
    "personas = map(lambda p: Persona(p.nombre, p.edad+1), personas)\n",
    "\n",
    "for persona in personas:\n",
    "    print(persona)"
   ]
  },
  {
   "cell_type": "markdown",
   "metadata": {
    "id": "J9_oR2G3JC2y"
   },
   "source": [
    "# List comprehensions\n",
    "\n",
    "Es una funcionalidad que nos permite crear listas en una misma linea de codigo.  "
   ]
  },
  {
   "cell_type": "markdown",
   "metadata": {
    "id": "X9i2_7F4MUlV"
   },
   "source": [
    "## Ciclos y List Comprenhensions\n",
    "\n",
    "Supongamos que nos dan: \n",
    "\n",
    "* Una lista de entrada input_arr = [elem1, elem2, elem3, ...]\n",
    "* Una función fun\n",
    "\n",
    "Queremos producir el array output_arr = [fun (elem1), fun (elem2), fun (elem3)], es decir, con aplicar fun a cada elemento de la matriz y devolver los resultados.\n",
    "\n",
    "Aquí es cómo la mayoría de los programadores abordarían este problema:"
   ]
  },
  {
   "cell_type": "code",
   "execution_count": null,
   "metadata": {
    "colab": {
     "base_uri": "https://localhost:8080/",
     "height": 34
    },
    "id": "t2B-RQvMILkw",
    "outputId": "933cf233-207e-4293-f25a-554dfdd92968"
   },
   "outputs": [
    {
     "data": {
      "text/plain": [
       "['Maria', 'Ana', 'Sara']"
      ]
     },
     "execution_count": 88,
     "metadata": {
      "tags": []
     },
     "output_type": "execute_result"
    }
   ],
   "source": [
    "input_arr = [\"maria\", \"ana\", \"sara\"]\n",
    "capitalize = lambda a_str :  a_str[0].upper() + a_str[1:]\n",
    "\n",
    "# NON-Idiomatic Python code follows: \n",
    "output_arr = []\n",
    "for elem in input_arr : \n",
    "    output_arr.append( capitalize( elem ) )\n",
    "    \n",
    "output_arr"
   ]
  },
  {
   "cell_type": "markdown",
   "metadata": {
    "id": "kI86sjG2J18y"
   },
   "source": [
    "Eso es aproximadamente 3 líneas. No está mal, pero podría ser mucho mejor.\n",
    "La solución idiomática de Python se llama **List (or for) comprehension**.\n",
    "\n",
    "```python\n",
    "[funcion(x) for item in list1]\n",
    "```"
   ]
  },
  {
   "cell_type": "code",
   "execution_count": null,
   "metadata": {
    "colab": {
     "base_uri": "https://localhost:8080/",
     "height": 34
    },
    "id": "VN4k_PnqJrRL",
    "outputId": "67b5bdf3-c341-47ec-b3ab-b1e9c1c98ad1"
   },
   "outputs": [
    {
     "name": "stdout",
     "output_type": "stream",
     "text": [
      "['Maria', 'Ana', 'Sara']\n"
     ]
    }
   ],
   "source": [
    "output_arr2 = [ capitalize(elem)  for elem in input_arr ]\n",
    "print(output_arr2)"
   ]
  },
  {
   "cell_type": "markdown",
   "metadata": {
    "id": "IBgBFzGGMvAq"
   },
   "source": [
    "## Condicionales en List Comprehensions\n",
    "\n",
    "En este caso se desea realizar un condicional para definir el valor, se tienen dos estructuras, si la condición solo tiene IF, o si se tiene la estructura IF-ELSE\n",
    "\n",
    "```python\n",
    "[result1 if conditional else result2 for item in list1 ]\n",
    "[result for item in list1 if conditional]\n",
    "```"
   ]
  },
  {
   "cell_type": "code",
   "execution_count": null,
   "metadata": {
    "colab": {
     "base_uri": "https://localhost:8080/",
     "height": 34
    },
    "id": "TmY6FybfJ8l3",
    "outputId": "747d4b40-0fda-410c-85b1-d97422603641"
   },
   "outputs": [
    {
     "name": "stdout",
     "output_type": "stream",
     "text": [
      "[1, 4, 27, 16, 125, 36, 343, 64, 729, 100, 1331, 144, 2197, 196, 3375]\n"
     ]
    }
   ],
   "source": [
    "squares_cubes = [n**2 if n%2 == 0 else n**3 for n in range(1,16)]\n",
    "print(squares_cubes)"
   ]
  },
  {
   "cell_type": "code",
   "execution_count": null,
   "metadata": {
    "colab": {
     "base_uri": "https://localhost:8080/",
     "height": 34
    },
    "id": "_1c0EeWNLmHi",
    "outputId": "b202a19f-9e82-46c4-9e90-d88094ea28b9"
   },
   "outputs": [
    {
     "name": "stdout",
     "output_type": "stream",
     "text": [
      "[2, 4, 6, 8, 10, 12, 14, 16, 18, 20]\n"
     ]
    }
   ],
   "source": [
    "evens = [n for n in range(1,21) if n%2 == 0] \n",
    "print(evens)"
   ]
  },
  {
   "cell_type": "markdown",
   "metadata": {
    "id": "x5BXGCvtL1xX"
   },
   "source": [
    "## List Comprehensions para ciclos anidados\n",
    "\n",
    "También puede usarse para realizar operaciones en ciclos anidados como recorrer una lista de listas.\n",
    "\n",
    "```python\n",
    "[ <the_expression> for <element_a> in <iterable_a> (optional if <condition_a>)\n",
    "                   for <element_b> in <iterable_b> (optional if <condition_b>)\n",
    "                   for <element_c> in <iterable_c> (optional if <condition_c>)\n",
    "                   ... and so on ...]\n",
    "```"
   ]
  },
  {
   "cell_type": "code",
   "execution_count": null,
   "metadata": {
    "colab": {
     "base_uri": "https://localhost:8080/",
     "height": 34
    },
    "id": "WpW-Pn3DLo7F",
    "outputId": "b1607fb2-74aa-4fc6-ce5b-3d22ad2d5399"
   },
   "outputs": [
    {
     "name": "stdout",
     "output_type": "stream",
     "text": [
      "[6, 8, 10, 12]\n"
     ]
    }
   ],
   "source": [
    "matrix = [\n",
    "    [1, 2, 3, 4],\n",
    "    [5, 6, 7, 8],\n",
    "    [9, 10, 11, 12],\n",
    "]\n",
    " \n",
    "flatten = [n for row in matrix if sum(row)>11 for n in row if n%2==0]\n",
    " \n",
    "print(flatten)"
   ]
  },
  {
   "cell_type": "markdown",
   "metadata": {
    "id": "9kAz9Pw9NrKn"
   },
   "source": [
    "## List Comprehensions anidados"
   ]
  },
  {
   "cell_type": "code",
   "execution_count": null,
   "metadata": {
    "colab": {
     "base_uri": "https://localhost:8080/",
     "height": 34
    },
    "id": "yZcbroKdMI9X",
    "outputId": "008b2a92-086f-4dcf-8a2e-0c4a990fce58"
   },
   "outputs": [
    {
     "name": "stdout",
     "output_type": "stream",
     "text": [
      "[[1, 5, 9], [2, 6, 10], [3, 7, 11], [4, 8, 12]]\n"
     ]
    }
   ],
   "source": [
    "matrix = [\n",
    "    [1, 2, 3, 4],\n",
    "    [5, 6, 7, 8],\n",
    "    [9, 10, 11, 12],\n",
    "]\n",
    " \n",
    "transpose = [[row[n] for row in matrix] for n in range(4)]\n",
    " \n",
    "print(transpose)"
   ]
  },
  {
   "cell_type": "markdown",
   "metadata": {
    "id": "RqXeK4cKdHyx"
   },
   "source": [
    "## Ejercicio 7\n",
    "\n",
    "Defina una función avg1 que tome una lista que conste del nombre de una persona (str) y luego solo números y calcula y devuelve el promedio de esos números.\n",
    "\n",
    "Por ejemplo: \n",
    "```python\n",
    "avg1 (['Mateo', 5.0, 2.0, 2.0])\n",
    "``` \n",
    "debe devolver 3, es el resultado de realizar la siguiente operación: `((5 + 2 + 2) / 3))`"
   ]
  },
  {
   "cell_type": "code",
   "execution_count": null,
   "metadata": {
    "colab": {
     "base_uri": "https://localhost:8080/",
     "height": 34
    },
    "id": "hRdoA366dpAg",
    "outputId": "33cab969-b825-40a0-d54b-fdd732debc66"
   },
   "outputs": [
    {
     "data": {
      "text/plain": [
       "3.0"
      ]
     },
     "execution_count": 104,
     "metadata": {
      "tags": []
     },
     "output_type": "execute_result"
    }
   ],
   "source": [
    "# Your code\n",
    "def avg1(lista):\n",
    "  return sum(lista[1:])/3\n",
    "  \n",
    "avg1 (['Mateo', 5.0, 2.0, 2.0])"
   ]
  },
  {
   "cell_type": "markdown",
   "metadata": {
    "id": "0u78C5UsdxP_"
   },
   "source": [
    "## Ejercicio 8\n",
    "\n",
    "Use list-comprehension para aplicar la función avg1 definida anteriormente a cada registro en data_recs.\n",
    "\n",
    "```python\n",
    "data_recs = [\n",
    "  [ \"Juan\" ,  5.0, 2.0, 2.0 ],\n",
    "  [ \"Maria\",  7.0, 8.0, 3.0 ], \n",
    "  [ \"Mateo\",  1.0, 4.0, 4.0 ],     \n",
    "]\n",
    "````"
   ]
  },
  {
   "cell_type": "code",
   "execution_count": null,
   "metadata": {
    "colab": {
     "base_uri": "https://localhost:8080/",
     "height": 50
    },
    "id": "WR9gxkcOdwC1",
    "outputId": "5c09752b-d763-4ce8-85d9-f0765105f1dd"
   },
   "outputs": [
    {
     "name": "stdout",
     "output_type": "stream",
     "text": [
      "[['Maria', 7.0, 8.0, 3.0], ['Juan', 5.0, 2.0, 2.0], ['Mateo', 1.0, 4.0, 4.0]]\n"
     ]
    },
    {
     "data": {
      "text/plain": [
       "[6.0, 3.0, 3.0]"
      ]
     },
     "execution_count": 100,
     "metadata": {
      "tags": []
     },
     "output_type": "execute_result"
    }
   ],
   "source": [
    "# Your Code\n",
    "print(data_recs)\n",
    "[avg1(elem) for elem in data_recs]"
   ]
  },
  {
   "cell_type": "code",
   "execution_count": null,
   "metadata": {
    "colab": {
     "base_uri": "https://localhost:8080/",
     "height": 67
    },
    "id": "xkGRKQoqz_HZ",
    "outputId": "4a19fe65-046e-4ed2-db5f-049aaae64453"
   },
   "outputs": [
    {
     "data": {
      "text/plain": [
       "[['[1, 5, 9]0', '[2, 6, 10]0', '[3, 7, 11]0', '[4, 8, 12]0'],\n",
       " ['[1, 5, 9]1', '[2, 6, 10]1', '[3, 7, 11]1', '[4, 8, 12]1'],\n",
       " ['[1, 5, 9]2', '[2, 6, 10]2', '[3, 7, 11]2', '[4, 8, 12]2']]"
      ]
     },
     "execution_count": 103,
     "metadata": {
      "tags": []
     },
     "output_type": "execute_result"
    }
   ],
   "source": [
    "temp = [[1, 5, 9], [2, 6, 10], [3, 7, 11], [4, 8, 12]]\n",
    "[[str(row)+str(i) for row in temp] for i in range(3)]"
   ]
  },
  {
   "cell_type": "markdown",
   "metadata": {
    "id": "V64E5XkRPEK-"
   },
   "source": [
    "# Módulos y Paquetes\n",
    "\n",
    "Los módulos son ficheros que contienen definiciones que se pueden importar en otros scripts para reutilizar funcionalidades.  Se pueden organizar en paquetes y subpaquetes, adicional se importarian sólo cuando es necesario.\n",
    "\n",
    "Nosotros podemos crear nuestros propios módulos o paquetes, o utilizar ya algunos creados por otras personas y que estan disponibles para su uso.  \n",
    "\n",
    "Para instalar un paquete en Python se realiza de la siguiente manera:\n",
    "\n",
    "```python\n",
    "pip install pandas\n",
    "````\n",
    "\n",
    "Si se desea desinstalar:\n",
    "```python\n",
    "pip uninstall pandas\n",
    "````\n",
    "\n",
    "\n"
   ]
  },
  {
   "cell_type": "code",
   "execution_count": null,
   "metadata": {
    "colab": {
     "base_uri": "https://localhost:8080/",
     "height": 121
    },
    "id": "uM4IjrYB4-I2",
    "outputId": "08e7d6a5-1a24-4675-ff0b-031ac5118596"
   },
   "outputs": [
    {
     "name": "stdout",
     "output_type": "stream",
     "text": [
      "Requirement already satisfied: pandas in /usr/local/lib/python3.6/dist-packages (0.25.3)\n",
      "Requirement already satisfied: pytz>=2017.2 in /usr/local/lib/python3.6/dist-packages (from pandas) (2018.9)\n",
      "Requirement already satisfied: numpy>=1.13.3 in /usr/local/lib/python3.6/dist-packages (from pandas) (1.17.3)\n",
      "Requirement already satisfied: python-dateutil>=2.6.1 in /usr/local/lib/python3.6/dist-packages (from pandas) (2.6.1)\n",
      "Requirement already satisfied: six>=1.5 in /usr/local/lib/python3.6/dist-packages (from python-dateutil>=2.6.1->pandas) (1.12.0)\n"
     ]
    }
   ],
   "source": [
    "!pip install pandas"
   ]
  },
  {
   "cell_type": "code",
   "execution_count": null,
   "metadata": {
    "colab": {
     "base_uri": "https://localhost:8080/",
     "height": 34
    },
    "id": "-B9kluio5Okd",
    "outputId": "90c9f4c3-7483-4d55-9c1b-1d5a62bd2fa7"
   },
   "outputs": [
    {
     "name": "stdout",
     "output_type": "stream",
     "text": [
      "sample_data\n"
     ]
    }
   ],
   "source": [
    "!ls"
   ]
  },
  {
   "cell_type": "code",
   "execution_count": null,
   "metadata": {
    "id": "QU89EhF-5pqA"
   },
   "outputs": [],
   "source": [
    "!mkdir temp"
   ]
  },
  {
   "cell_type": "markdown",
   "metadata": {
    "id": "IOVKRhDzQ-YV"
   },
   "source": [
    "## Módulos estándar\n",
    "\n",
    "Estos son algunos módulos esenciales de Python:\n"
   ]
  },
  {
   "cell_type": "markdown",
   "metadata": {
    "id": "Hj0RjhH3ZNud"
   },
   "source": [
    "###**collections**\n",
    "\n",
    "Añade funcionalidades especificas a las listas."
   ]
  },
  {
   "cell_type": "code",
   "execution_count": null,
   "metadata": {
    "colab": {
     "base_uri": "https://localhost:8080/",
     "height": 34
    },
    "id": "ruIp3K95NxpY",
    "outputId": "dd642ad3-8ebf-4c23-ec55-06f7f8813103"
   },
   "outputs": [
    {
     "data": {
      "text/plain": [
       "Counter({1: 4, 2: 3, 3: 2, 4: 1})"
      ]
     },
     "execution_count": 108,
     "metadata": {
      "tags": []
     },
     "output_type": "execute_result"
    }
   ],
   "source": [
    "from collections import Counter\n",
    "\n",
    "l = [1,2,3,4,1,2,3,1,2,1]\n",
    "Counter(l)"
   ]
  },
  {
   "cell_type": "code",
   "execution_count": null,
   "metadata": {
    "id": "Ox_LPFQcQHK3"
   },
   "outputs": [],
   "source": [
    "animales = \"gato perro canario perro canario perro\"\n",
    "c = Counter(animales.split())\n",
    "print(c)"
   ]
  },
  {
   "cell_type": "markdown",
   "metadata": {
    "id": "O1jt3F0HVTHT"
   },
   "source": [
    "\n",
    "###**datetime**\n",
    "\n",
    "Utilizado para manejar las fechas y las horas. \n"
   ]
  },
  {
   "cell_type": "code",
   "execution_count": null,
   "metadata": {
    "colab": {
     "base_uri": "https://localhost:8080/",
     "height": 185
    },
    "id": "fbQfzFwMUzpL",
    "outputId": "b0516ab0-c27c-4697-abf3-eba582b906b2"
   },
   "outputs": [
    {
     "name": "stdout",
     "output_type": "stream",
     "text": [
      "2019-11-09 02:10:04.310011\n",
      "2019\n",
      "11\n",
      "9\n",
      "2\n",
      "10\n",
      "4\n",
      "310011\n",
      "2:10:4\n",
      "9/11/2019\n"
     ]
    }
   ],
   "source": [
    "from datetime import datetime\n",
    "\n",
    "dt = datetime.now()    # Fecha y hora actual\n",
    "\n",
    "print(dt)\n",
    "print(dt.year)         # año\n",
    "print(dt.month)        # mes\n",
    "print(dt.day)          # día\n",
    "\n",
    "print(dt.hour)         # hora\n",
    "print(dt.minute)       # minutos\n",
    "print(dt.second)       # segundos\n",
    "print(dt.microsecond)  # microsegundos\n",
    "\n",
    "print(\"{}:{}:{}\".format(dt.hour, dt.minute, dt.second))\n",
    "print(\"{}/{}/{}\".format(dt.day, dt.month, dt.year))"
   ]
  },
  {
   "cell_type": "code",
   "execution_count": null,
   "metadata": {
    "colab": {
     "base_uri": "https://localhost:8080/",
     "height": 34
    },
    "id": "TjH6nk3cV0Ok",
    "outputId": "988ae6c2-d912-4604-f9a2-cd59deb8ec87"
   },
   "outputs": [
    {
     "name": "stdout",
     "output_type": "stream",
     "text": [
      "Saturday 09 de Nov del 19 - 02:15\n"
     ]
    }
   ],
   "source": [
    "from datetime import datetime, timedelta\n",
    "\n",
    "dt = datetime.now()\n",
    "print(dt.strftime(\"%A %d de %b del %y - %H:%M\"))\n",
    "\n"
   ]
  },
  {
   "cell_type": "code",
   "execution_count": null,
   "metadata": {
    "colab": {
     "base_uri": "https://localhost:8080/",
     "height": 50
    },
    "id": "dvPDZUI48B-0",
    "outputId": "e8993d9a-070d-4e57-8661-2cc1171ff450"
   },
   "outputs": [
    {
     "name": "stdout",
     "output_type": "stream",
     "text": [
      "Saturday 23 de November del 2019 - 06:32\n",
      "Friday 25 de October del 2019 - 21:58\n"
     ]
    }
   ],
   "source": [
    "# Generamos 14 días con 4 horas y 1000 segundos de tiempo\n",
    "t = timedelta(days=14, hours=4, seconds=1000)\n",
    "\n",
    "# Lo operamos con el datetime de la fecha y hora actual\n",
    "dentro_de_dos_semanas = dt + t\n",
    "print(dentro_de_dos_semanas.strftime(\"%A %d de %B del %Y - %H:%M\"))\n",
    "hace_dos_semanas = dt - t\n",
    "print(hace_dos_semanas.strftime(\"%A %d de %B del %Y - %H:%M\"))\n"
   ]
  },
  {
   "cell_type": "markdown",
   "metadata": {
    "id": "ipNj14XIVX3b"
   },
   "source": [
    "###**math**\n",
    "\n",
    "Incluye funciones matematicas."
   ]
  },
  {
   "cell_type": "code",
   "execution_count": null,
   "metadata": {
    "colab": {
     "base_uri": "https://localhost:8080/",
     "height": 50
    },
    "id": "JtXisqlxWNkY",
    "outputId": "24d8352d-6889-4f56-c203-606fc99f7f6e"
   },
   "outputs": [
    {
     "name": "stdout",
     "output_type": "stream",
     "text": [
      "3\n",
      "4\n"
     ]
    }
   ],
   "source": [
    "import math\n",
    "\n",
    "print(math.floor(3.99))  # Redondeo a la baja (suelo)\n",
    "print(math.ceil(3.01))   # Redondeo al alta (techo)"
   ]
  },
  {
   "cell_type": "code",
   "execution_count": null,
   "metadata": {
    "colab": {
     "base_uri": "https://localhost:8080/",
     "height": 50
    },
    "id": "j9j31YJlWVaB",
    "outputId": "86a058e2-c791-4c62-e0ae-d4d3903cebb2"
   },
   "outputs": [
    {
     "name": "stdout",
     "output_type": "stream",
     "text": [
      "3.141592653589793\n",
      "2.718281828459045\n"
     ]
    }
   ],
   "source": [
    "print(math.pi)  # Constante pi\n",
    "print(math.e)   # Constante e"
   ]
  },
  {
   "cell_type": "markdown",
   "metadata": {
    "id": "05h-L9L0WioU"
   },
   "source": [
    "###**random**\n",
    "\n",
    "Sirve para generar contenidos aleatorios, escoger aleatoriamente valores y este tipo de cosas que hacen que un programa tenga comportamientos al azar. "
   ]
  },
  {
   "cell_type": "code",
   "execution_count": null,
   "metadata": {
    "colab": {
     "base_uri": "https://localhost:8080/",
     "height": 118
    },
    "id": "HcYYb7QLWohZ",
    "outputId": "151f1afb-6e62-4d3e-9c30-f90dfb6a7110"
   },
   "outputs": [
    {
     "name": "stdout",
     "output_type": "stream",
     "text": [
      "0.8291460547546535\n",
      "2.3117246651086516\n",
      "0\n",
      "54\n",
      "90\n",
      "25\n"
     ]
    }
   ],
   "source": [
    "import random\n",
    "\n",
    "# Flotante aleatorio >= 0 y < 1.0\n",
    "print(random.random())      \n",
    "\n",
    "# Flotante aleatorio >= 1 y <10.0       \n",
    "print(random.uniform(1,10))\n",
    "\n",
    "# Entero aleatorio de 0 a 9, 10 excluído\n",
    "print(random.randrange(10))\n",
    "\n",
    "# Entero aleatorio de 0 a 100\n",
    "print(random.randrange(0,101))\n",
    "\n",
    "# Entero aleatorio de 0 a 100 cada 2 números, múltiples de 2\n",
    "print(random.randrange(0,101,2))\n",
    "\n",
    "# Entero aleatorio de 0 a 100 cada 5 números, múltiples de 5\n",
    "print(random.randrange(0,101,5))"
   ]
  },
  {
   "cell_type": "code",
   "execution_count": null,
   "metadata": {
    "colab": {
     "base_uri": "https://localhost:8080/",
     "height": 1000
    },
    "id": "_g2zGNjV-Fu9",
    "outputId": "52ea703f-545a-4c41-ecba-38bb328f93e4"
   },
   "outputs": [
    {
     "name": "stdout",
     "output_type": "stream",
     "text": [
      "Help on module random:\n",
      "\n",
      "NAME\n",
      "    random - Random variable generators.\n",
      "\n",
      "MODULE REFERENCE\n",
      "    https://docs.python.org/3.6/library/random\n",
      "    \n",
      "    The following documentation is automatically generated from the Python\n",
      "    source files.  It may be incomplete, incorrect or include features that\n",
      "    are considered implementation detail and may vary between Python\n",
      "    implementations.  When in doubt, consult the module reference at the\n",
      "    location listed above.\n",
      "\n",
      "DESCRIPTION\n",
      "        integers\n",
      "        --------\n",
      "               uniform within range\n",
      "    \n",
      "        sequences\n",
      "        ---------\n",
      "               pick random element\n",
      "               pick random sample\n",
      "               pick weighted random sample\n",
      "               generate random permutation\n",
      "    \n",
      "        distributions on the real line:\n",
      "        ------------------------------\n",
      "               uniform\n",
      "               triangular\n",
      "               normal (Gaussian)\n",
      "               lognormal\n",
      "               negative exponential\n",
      "               gamma\n",
      "               beta\n",
      "               pareto\n",
      "               Weibull\n",
      "    \n",
      "        distributions on the circle (angles 0 to 2pi)\n",
      "        ---------------------------------------------\n",
      "               circular uniform\n",
      "               von Mises\n",
      "    \n",
      "    General notes on the underlying Mersenne Twister core generator:\n",
      "    \n",
      "    * The period is 2**19937-1.\n",
      "    * It is one of the most extensively tested generators in existence.\n",
      "    * The random() method is implemented in C, executes in a single Python step,\n",
      "      and is, therefore, threadsafe.\n",
      "\n",
      "CLASSES\n",
      "    _random.Random(builtins.object)\n",
      "        Random\n",
      "            SystemRandom\n",
      "    \n",
      "    class Random(_random.Random)\n",
      "     |  Random number generator base class used by bound module functions.\n",
      "     |  \n",
      "     |  Used to instantiate instances of Random to get generators that don't\n",
      "     |  share state.\n",
      "     |  \n",
      "     |  Class Random can also be subclassed if you want to use a different basic\n",
      "     |  generator of your own devising: in that case, override the following\n",
      "     |  methods:  random(), seed(), getstate(), and setstate().\n",
      "     |  Optionally, implement a getrandbits() method so that randrange()\n",
      "     |  can cover arbitrarily large ranges.\n",
      "     |  \n",
      "     |  Method resolution order:\n",
      "     |      Random\n",
      "     |      _random.Random\n",
      "     |      builtins.object\n",
      "     |  \n",
      "     |  Methods defined here:\n",
      "     |  \n",
      "     |  __getstate__(self)\n",
      "     |      # Issue 17489: Since __reduce__ was defined to fix #759889 this is no\n",
      "     |      # longer called; we leave it here because it has been here since random was\n",
      "     |      # rewritten back in 2001 and why risk breaking something.\n",
      "     |  \n",
      "     |  __init__(self, x=None)\n",
      "     |      Initialize an instance.\n",
      "     |      \n",
      "     |      Optional argument x controls seeding, as for Random.seed().\n",
      "     |  \n",
      "     |  __reduce__(self)\n",
      "     |      helper for pickle\n",
      "     |  \n",
      "     |  __setstate__(self, state)\n",
      "     |  \n",
      "     |  betavariate(self, alpha, beta)\n",
      "     |      Beta distribution.\n",
      "     |      \n",
      "     |      Conditions on the parameters are alpha > 0 and beta > 0.\n",
      "     |      Returned values range between 0 and 1.\n",
      "     |  \n",
      "     |  choice(self, seq)\n",
      "     |      Choose a random element from a non-empty sequence.\n",
      "     |  \n",
      "     |  choices(self, population, weights=None, *, cum_weights=None, k=1)\n",
      "     |      Return a k sized list of population elements chosen with replacement.\n",
      "     |      \n",
      "     |      If the relative weights or cumulative weights are not specified,\n",
      "     |      the selections are made with equal probability.\n",
      "     |  \n",
      "     |  expovariate(self, lambd)\n",
      "     |      Exponential distribution.\n",
      "     |      \n",
      "     |      lambd is 1.0 divided by the desired mean.  It should be\n",
      "     |      nonzero.  (The parameter would be called \"lambda\", but that is\n",
      "     |      a reserved word in Python.)  Returned values range from 0 to\n",
      "     |      positive infinity if lambd is positive, and from negative\n",
      "     |      infinity to 0 if lambd is negative.\n",
      "     |  \n",
      "     |  gammavariate(self, alpha, beta)\n",
      "     |      Gamma distribution.  Not the gamma function!\n",
      "     |      \n",
      "     |      Conditions on the parameters are alpha > 0 and beta > 0.\n",
      "     |      \n",
      "     |      The probability distribution function is:\n",
      "     |      \n",
      "     |                  x ** (alpha - 1) * math.exp(-x / beta)\n",
      "     |        pdf(x) =  --------------------------------------\n",
      "     |                    math.gamma(alpha) * beta ** alpha\n",
      "     |  \n",
      "     |  gauss(self, mu, sigma)\n",
      "     |      Gaussian distribution.\n",
      "     |      \n",
      "     |      mu is the mean, and sigma is the standard deviation.  This is\n",
      "     |      slightly faster than the normalvariate() function.\n",
      "     |      \n",
      "     |      Not thread-safe without a lock around calls.\n",
      "     |  \n",
      "     |  getstate(self)\n",
      "     |      Return internal state; can be passed to setstate() later.\n",
      "     |  \n",
      "     |  lognormvariate(self, mu, sigma)\n",
      "     |      Log normal distribution.\n",
      "     |      \n",
      "     |      If you take the natural logarithm of this distribution, you'll get a\n",
      "     |      normal distribution with mean mu and standard deviation sigma.\n",
      "     |      mu can have any value, and sigma must be greater than zero.\n",
      "     |  \n",
      "     |  normalvariate(self, mu, sigma)\n",
      "     |      Normal distribution.\n",
      "     |      \n",
      "     |      mu is the mean, and sigma is the standard deviation.\n",
      "     |  \n",
      "     |  paretovariate(self, alpha)\n",
      "     |      Pareto distribution.  alpha is the shape parameter.\n",
      "     |  \n",
      "     |  randint(self, a, b)\n",
      "     |      Return random integer in range [a, b], including both end points.\n",
      "     |  \n",
      "     |  randrange(self, start, stop=None, step=1, _int=<class 'int'>)\n",
      "     |      Choose a random item from range(start, stop[, step]).\n",
      "     |      \n",
      "     |      This fixes the problem with randint() which includes the\n",
      "     |      endpoint; in Python this is usually not what you want.\n",
      "     |  \n",
      "     |  sample(self, population, k)\n",
      "     |      Chooses k unique random elements from a population sequence or set.\n",
      "     |      \n",
      "     |      Returns a new list containing elements from the population while\n",
      "     |      leaving the original population unchanged.  The resulting list is\n",
      "     |      in selection order so that all sub-slices will also be valid random\n",
      "     |      samples.  This allows raffle winners (the sample) to be partitioned\n",
      "     |      into grand prize and second place winners (the subslices).\n",
      "     |      \n",
      "     |      Members of the population need not be hashable or unique.  If the\n",
      "     |      population contains repeats, then each occurrence is a possible\n",
      "     |      selection in the sample.\n",
      "     |      \n",
      "     |      To choose a sample in a range of integers, use range as an argument.\n",
      "     |      This is especially fast and space efficient for sampling from a\n",
      "     |      large population:   sample(range(10000000), 60)\n",
      "     |  \n",
      "     |  seed(self, a=None, version=2)\n",
      "     |      Initialize internal state from hashable object.\n",
      "     |      \n",
      "     |      None or no argument seeds from current time or from an operating\n",
      "     |      system specific randomness source if available.\n",
      "     |      \n",
      "     |      If *a* is an int, all bits are used.\n",
      "     |      \n",
      "     |      For version 2 (the default), all of the bits are used if *a* is a str,\n",
      "     |      bytes, or bytearray.  For version 1 (provided for reproducing random\n",
      "     |      sequences from older versions of Python), the algorithm for str and\n",
      "     |      bytes generates a narrower range of seeds.\n",
      "     |  \n",
      "     |  setstate(self, state)\n",
      "     |      Restore internal state from object returned by getstate().\n",
      "     |  \n",
      "     |  shuffle(self, x, random=None)\n",
      "     |      Shuffle list x in place, and return None.\n",
      "     |      \n",
      "     |      Optional argument random is a 0-argument function returning a\n",
      "     |      random float in [0.0, 1.0); if it is the default None, the\n",
      "     |      standard random.random will be used.\n",
      "     |  \n",
      "     |  triangular(self, low=0.0, high=1.0, mode=None)\n",
      "     |      Triangular distribution.\n",
      "     |      \n",
      "     |      Continuous distribution bounded by given lower and upper limits,\n",
      "     |      and having a given mode value in-between.\n",
      "     |      \n",
      "     |      http://en.wikipedia.org/wiki/Triangular_distribution\n",
      "     |  \n",
      "     |  uniform(self, a, b)\n",
      "     |      Get a random number in the range [a, b) or [a, b] depending on rounding.\n",
      "     |  \n",
      "     |  vonmisesvariate(self, mu, kappa)\n",
      "     |      Circular data distribution.\n",
      "     |      \n",
      "     |      mu is the mean angle, expressed in radians between 0 and 2*pi, and\n",
      "     |      kappa is the concentration parameter, which must be greater than or\n",
      "     |      equal to zero.  If kappa is equal to zero, this distribution reduces\n",
      "     |      to a uniform random angle over the range 0 to 2*pi.\n",
      "     |  \n",
      "     |  weibullvariate(self, alpha, beta)\n",
      "     |      Weibull distribution.\n",
      "     |      \n",
      "     |      alpha is the scale parameter and beta is the shape parameter.\n",
      "     |  \n",
      "     |  ----------------------------------------------------------------------\n",
      "     |  Data descriptors defined here:\n",
      "     |  \n",
      "     |  __dict__\n",
      "     |      dictionary for instance variables (if defined)\n",
      "     |  \n",
      "     |  __weakref__\n",
      "     |      list of weak references to the object (if defined)\n",
      "     |  \n",
      "     |  ----------------------------------------------------------------------\n",
      "     |  Data and other attributes defined here:\n",
      "     |  \n",
      "     |  VERSION = 3\n",
      "     |  \n",
      "     |  ----------------------------------------------------------------------\n",
      "     |  Methods inherited from _random.Random:\n",
      "     |  \n",
      "     |  __getattribute__(self, name, /)\n",
      "     |      Return getattr(self, name).\n",
      "     |  \n",
      "     |  __new__(*args, **kwargs) from builtins.type\n",
      "     |      Create and return a new object.  See help(type) for accurate signature.\n",
      "     |  \n",
      "     |  getrandbits(...)\n",
      "     |      getrandbits(k) -> x.  Generates an int with k random bits.\n",
      "     |  \n",
      "     |  random(...)\n",
      "     |      random() -> x in the interval [0, 1).\n",
      "    \n",
      "    class SystemRandom(Random)\n",
      "     |  Alternate random number generator using sources provided\n",
      "     |  by the operating system (such as /dev/urandom on Unix or\n",
      "     |  CryptGenRandom on Windows).\n",
      "     |  \n",
      "     |   Not available on all systems (see os.urandom() for details).\n",
      "     |  \n",
      "     |  Method resolution order:\n",
      "     |      SystemRandom\n",
      "     |      Random\n",
      "     |      _random.Random\n",
      "     |      builtins.object\n",
      "     |  \n",
      "     |  Methods defined here:\n",
      "     |  \n",
      "     |  getrandbits(self, k)\n",
      "     |      getrandbits(k) -> x.  Generates an int with k random bits.\n",
      "     |  \n",
      "     |  getstate = _notimplemented(self, *args, **kwds)\n",
      "     |  \n",
      "     |  random(self)\n",
      "     |      Get the next random number in the range [0.0, 1.0).\n",
      "     |  \n",
      "     |  seed(self, *args, **kwds)\n",
      "     |      Stub method.  Not used for a system random number generator.\n",
      "     |  \n",
      "     |  setstate = _notimplemented(self, *args, **kwds)\n",
      "     |  \n",
      "     |  ----------------------------------------------------------------------\n",
      "     |  Methods inherited from Random:\n",
      "     |  \n",
      "     |  __getstate__(self)\n",
      "     |      # Issue 17489: Since __reduce__ was defined to fix #759889 this is no\n",
      "     |      # longer called; we leave it here because it has been here since random was\n",
      "     |      # rewritten back in 2001 and why risk breaking something.\n",
      "     |  \n",
      "     |  __init__(self, x=None)\n",
      "     |      Initialize an instance.\n",
      "     |      \n",
      "     |      Optional argument x controls seeding, as for Random.seed().\n",
      "     |  \n",
      "     |  __reduce__(self)\n",
      "     |      helper for pickle\n",
      "     |  \n",
      "     |  __setstate__(self, state)\n",
      "     |  \n",
      "     |  betavariate(self, alpha, beta)\n",
      "     |      Beta distribution.\n",
      "     |      \n",
      "     |      Conditions on the parameters are alpha > 0 and beta > 0.\n",
      "     |      Returned values range between 0 and 1.\n",
      "     |  \n",
      "     |  choice(self, seq)\n",
      "     |      Choose a random element from a non-empty sequence.\n",
      "     |  \n",
      "     |  choices(self, population, weights=None, *, cum_weights=None, k=1)\n",
      "     |      Return a k sized list of population elements chosen with replacement.\n",
      "     |      \n",
      "     |      If the relative weights or cumulative weights are not specified,\n",
      "     |      the selections are made with equal probability.\n",
      "     |  \n",
      "     |  expovariate(self, lambd)\n",
      "     |      Exponential distribution.\n",
      "     |      \n",
      "     |      lambd is 1.0 divided by the desired mean.  It should be\n",
      "     |      nonzero.  (The parameter would be called \"lambda\", but that is\n",
      "     |      a reserved word in Python.)  Returned values range from 0 to\n",
      "     |      positive infinity if lambd is positive, and from negative\n",
      "     |      infinity to 0 if lambd is negative.\n",
      "     |  \n",
      "     |  gammavariate(self, alpha, beta)\n",
      "     |      Gamma distribution.  Not the gamma function!\n",
      "     |      \n",
      "     |      Conditions on the parameters are alpha > 0 and beta > 0.\n",
      "     |      \n",
      "     |      The probability distribution function is:\n",
      "     |      \n",
      "     |                  x ** (alpha - 1) * math.exp(-x / beta)\n",
      "     |        pdf(x) =  --------------------------------------\n",
      "     |                    math.gamma(alpha) * beta ** alpha\n",
      "     |  \n",
      "     |  gauss(self, mu, sigma)\n",
      "     |      Gaussian distribution.\n",
      "     |      \n",
      "     |      mu is the mean, and sigma is the standard deviation.  This is\n",
      "     |      slightly faster than the normalvariate() function.\n",
      "     |      \n",
      "     |      Not thread-safe without a lock around calls.\n",
      "     |  \n",
      "     |  lognormvariate(self, mu, sigma)\n",
      "     |      Log normal distribution.\n",
      "     |      \n",
      "     |      If you take the natural logarithm of this distribution, you'll get a\n",
      "     |      normal distribution with mean mu and standard deviation sigma.\n",
      "     |      mu can have any value, and sigma must be greater than zero.\n",
      "     |  \n",
      "     |  normalvariate(self, mu, sigma)\n",
      "     |      Normal distribution.\n",
      "     |      \n",
      "     |      mu is the mean, and sigma is the standard deviation.\n",
      "     |  \n",
      "     |  paretovariate(self, alpha)\n",
      "     |      Pareto distribution.  alpha is the shape parameter.\n",
      "     |  \n",
      "     |  randint(self, a, b)\n",
      "     |      Return random integer in range [a, b], including both end points.\n",
      "     |  \n",
      "     |  randrange(self, start, stop=None, step=1, _int=<class 'int'>)\n",
      "     |      Choose a random item from range(start, stop[, step]).\n",
      "     |      \n",
      "     |      This fixes the problem with randint() which includes the\n",
      "     |      endpoint; in Python this is usually not what you want.\n",
      "     |  \n",
      "     |  sample(self, population, k)\n",
      "     |      Chooses k unique random elements from a population sequence or set.\n",
      "     |      \n",
      "     |      Returns a new list containing elements from the population while\n",
      "     |      leaving the original population unchanged.  The resulting list is\n",
      "     |      in selection order so that all sub-slices will also be valid random\n",
      "     |      samples.  This allows raffle winners (the sample) to be partitioned\n",
      "     |      into grand prize and second place winners (the subslices).\n",
      "     |      \n",
      "     |      Members of the population need not be hashable or unique.  If the\n",
      "     |      population contains repeats, then each occurrence is a possible\n",
      "     |      selection in the sample.\n",
      "     |      \n",
      "     |      To choose a sample in a range of integers, use range as an argument.\n",
      "     |      This is especially fast and space efficient for sampling from a\n",
      "     |      large population:   sample(range(10000000), 60)\n",
      "     |  \n",
      "     |  shuffle(self, x, random=None)\n",
      "     |      Shuffle list x in place, and return None.\n",
      "     |      \n",
      "     |      Optional argument random is a 0-argument function returning a\n",
      "     |      random float in [0.0, 1.0); if it is the default None, the\n",
      "     |      standard random.random will be used.\n",
      "     |  \n",
      "     |  triangular(self, low=0.0, high=1.0, mode=None)\n",
      "     |      Triangular distribution.\n",
      "     |      \n",
      "     |      Continuous distribution bounded by given lower and upper limits,\n",
      "     |      and having a given mode value in-between.\n",
      "     |      \n",
      "     |      http://en.wikipedia.org/wiki/Triangular_distribution\n",
      "     |  \n",
      "     |  uniform(self, a, b)\n",
      "     |      Get a random number in the range [a, b) or [a, b] depending on rounding.\n",
      "     |  \n",
      "     |  vonmisesvariate(self, mu, kappa)\n",
      "     |      Circular data distribution.\n",
      "     |      \n",
      "     |      mu is the mean angle, expressed in radians between 0 and 2*pi, and\n",
      "     |      kappa is the concentration parameter, which must be greater than or\n",
      "     |      equal to zero.  If kappa is equal to zero, this distribution reduces\n",
      "     |      to a uniform random angle over the range 0 to 2*pi.\n",
      "     |  \n",
      "     |  weibullvariate(self, alpha, beta)\n",
      "     |      Weibull distribution.\n",
      "     |      \n",
      "     |      alpha is the scale parameter and beta is the shape parameter.\n",
      "     |  \n",
      "     |  ----------------------------------------------------------------------\n",
      "     |  Data descriptors inherited from Random:\n",
      "     |  \n",
      "     |  __dict__\n",
      "     |      dictionary for instance variables (if defined)\n",
      "     |  \n",
      "     |  __weakref__\n",
      "     |      list of weak references to the object (if defined)\n",
      "     |  \n",
      "     |  ----------------------------------------------------------------------\n",
      "     |  Data and other attributes inherited from Random:\n",
      "     |  \n",
      "     |  VERSION = 3\n",
      "     |  \n",
      "     |  ----------------------------------------------------------------------\n",
      "     |  Methods inherited from _random.Random:\n",
      "     |  \n",
      "     |  __getattribute__(self, name, /)\n",
      "     |      Return getattr(self, name).\n",
      "     |  \n",
      "     |  __new__(*args, **kwargs) from builtins.type\n",
      "     |      Create and return a new object.  See help(type) for accurate signature.\n",
      "\n",
      "FUNCTIONS\n",
      "    betavariate(alpha, beta) method of Random instance\n",
      "        Beta distribution.\n",
      "        \n",
      "        Conditions on the parameters are alpha > 0 and beta > 0.\n",
      "        Returned values range between 0 and 1.\n",
      "    \n",
      "    choice(seq) method of Random instance\n",
      "        Choose a random element from a non-empty sequence.\n",
      "    \n",
      "    choices(population, weights=None, *, cum_weights=None, k=1) method of Random instance\n",
      "        Return a k sized list of population elements chosen with replacement.\n",
      "        \n",
      "        If the relative weights or cumulative weights are not specified,\n",
      "        the selections are made with equal probability.\n",
      "    \n",
      "    expovariate(lambd) method of Random instance\n",
      "        Exponential distribution.\n",
      "        \n",
      "        lambd is 1.0 divided by the desired mean.  It should be\n",
      "        nonzero.  (The parameter would be called \"lambda\", but that is\n",
      "        a reserved word in Python.)  Returned values range from 0 to\n",
      "        positive infinity if lambd is positive, and from negative\n",
      "        infinity to 0 if lambd is negative.\n",
      "    \n",
      "    gammavariate(alpha, beta) method of Random instance\n",
      "        Gamma distribution.  Not the gamma function!\n",
      "        \n",
      "        Conditions on the parameters are alpha > 0 and beta > 0.\n",
      "        \n",
      "        The probability distribution function is:\n",
      "        \n",
      "                    x ** (alpha - 1) * math.exp(-x / beta)\n",
      "          pdf(x) =  --------------------------------------\n",
      "                      math.gamma(alpha) * beta ** alpha\n",
      "    \n",
      "    gauss(mu, sigma) method of Random instance\n",
      "        Gaussian distribution.\n",
      "        \n",
      "        mu is the mean, and sigma is the standard deviation.  This is\n",
      "        slightly faster than the normalvariate() function.\n",
      "        \n",
      "        Not thread-safe without a lock around calls.\n",
      "    \n",
      "    getrandbits(...) method of Random instance\n",
      "        getrandbits(k) -> x.  Generates an int with k random bits.\n",
      "    \n",
      "    getstate() method of Random instance\n",
      "        Return internal state; can be passed to setstate() later.\n",
      "    \n",
      "    lognormvariate(mu, sigma) method of Random instance\n",
      "        Log normal distribution.\n",
      "        \n",
      "        If you take the natural logarithm of this distribution, you'll get a\n",
      "        normal distribution with mean mu and standard deviation sigma.\n",
      "        mu can have any value, and sigma must be greater than zero.\n",
      "    \n",
      "    normalvariate(mu, sigma) method of Random instance\n",
      "        Normal distribution.\n",
      "        \n",
      "        mu is the mean, and sigma is the standard deviation.\n",
      "    \n",
      "    paretovariate(alpha) method of Random instance\n",
      "        Pareto distribution.  alpha is the shape parameter.\n",
      "    \n",
      "    randint(a, b) method of Random instance\n",
      "        Return random integer in range [a, b], including both end points.\n",
      "    \n",
      "    random(...) method of Random instance\n",
      "        random() -> x in the interval [0, 1).\n",
      "    \n",
      "    randrange(start, stop=None, step=1, _int=<class 'int'>) method of Random instance\n",
      "        Choose a random item from range(start, stop[, step]).\n",
      "        \n",
      "        This fixes the problem with randint() which includes the\n",
      "        endpoint; in Python this is usually not what you want.\n",
      "    \n",
      "    sample(population, k) method of Random instance\n",
      "        Chooses k unique random elements from a population sequence or set.\n",
      "        \n",
      "        Returns a new list containing elements from the population while\n",
      "        leaving the original population unchanged.  The resulting list is\n",
      "        in selection order so that all sub-slices will also be valid random\n",
      "        samples.  This allows raffle winners (the sample) to be partitioned\n",
      "        into grand prize and second place winners (the subslices).\n",
      "        \n",
      "        Members of the population need not be hashable or unique.  If the\n",
      "        population contains repeats, then each occurrence is a possible\n",
      "        selection in the sample.\n",
      "        \n",
      "        To choose a sample in a range of integers, use range as an argument.\n",
      "        This is especially fast and space efficient for sampling from a\n",
      "        large population:   sample(range(10000000), 60)\n",
      "    \n",
      "    seed(a=None, version=2) method of Random instance\n",
      "        Initialize internal state from hashable object.\n",
      "        \n",
      "        None or no argument seeds from current time or from an operating\n",
      "        system specific randomness source if available.\n",
      "        \n",
      "        If *a* is an int, all bits are used.\n",
      "        \n",
      "        For version 2 (the default), all of the bits are used if *a* is a str,\n",
      "        bytes, or bytearray.  For version 1 (provided for reproducing random\n",
      "        sequences from older versions of Python), the algorithm for str and\n",
      "        bytes generates a narrower range of seeds.\n",
      "    \n",
      "    setstate(state) method of Random instance\n",
      "        Restore internal state from object returned by getstate().\n",
      "    \n",
      "    shuffle(x, random=None) method of Random instance\n",
      "        Shuffle list x in place, and return None.\n",
      "        \n",
      "        Optional argument random is a 0-argument function returning a\n",
      "        random float in [0.0, 1.0); if it is the default None, the\n",
      "        standard random.random will be used.\n",
      "    \n",
      "    triangular(low=0.0, high=1.0, mode=None) method of Random instance\n",
      "        Triangular distribution.\n",
      "        \n",
      "        Continuous distribution bounded by given lower and upper limits,\n",
      "        and having a given mode value in-between.\n",
      "        \n",
      "        http://en.wikipedia.org/wiki/Triangular_distribution\n",
      "    \n",
      "    uniform(a, b) method of Random instance\n",
      "        Get a random number in the range [a, b) or [a, b] depending on rounding.\n",
      "    \n",
      "    vonmisesvariate(mu, kappa) method of Random instance\n",
      "        Circular data distribution.\n",
      "        \n",
      "        mu is the mean angle, expressed in radians between 0 and 2*pi, and\n",
      "        kappa is the concentration parameter, which must be greater than or\n",
      "        equal to zero.  If kappa is equal to zero, this distribution reduces\n",
      "        to a uniform random angle over the range 0 to 2*pi.\n",
      "    \n",
      "    weibullvariate(alpha, beta) method of Random instance\n",
      "        Weibull distribution.\n",
      "        \n",
      "        alpha is the scale parameter and beta is the shape parameter.\n",
      "\n",
      "DATA\n",
      "    __all__ = ['Random', 'seed', 'random', 'uniform', 'randint', 'choice',...\n",
      "\n",
      "FILE\n",
      "    /usr/lib/python3.6/random.py\n",
      "\n",
      "\n"
     ]
    }
   ],
   "source": [
    "help(random)"
   ]
  },
  {
   "cell_type": "code",
   "execution_count": null,
   "metadata": {
    "colab": {
     "base_uri": "https://localhost:8080/",
     "height": 67
    },
    "id": "OTXQLEAxW7En",
    "outputId": "0b18d44e-1769-4e77-bff5-3caf42264f3e"
   },
   "outputs": [
    {
     "name": "stdout",
     "output_type": "stream",
     "text": [
      "m\n",
      "3\n",
      "[1, 3]\n"
     ]
    }
   ],
   "source": [
    "# Letra aleatoria\n",
    "print(random.choice('Hola mundo'))\n",
    "\n",
    "# Elemento aleatorio\n",
    "print(random.choice([1,2,3,4,5]))\n",
    "\n",
    "# Dos elementos aleatorios\n",
    "print(random.sample([1,2,3,4,5], 2))"
   ]
  },
  {
   "cell_type": "code",
   "execution_count": null,
   "metadata": {
    "colab": {
     "base_uri": "https://localhost:8080/",
     "height": 34
    },
    "id": "6H0nRvkSXACC",
    "outputId": "40a6c164-7411-403e-a13c-07a3be562337"
   },
   "outputs": [
    {
     "name": "stdout",
     "output_type": "stream",
     "text": [
      "[2, 5, 4, 1, 3]\n"
     ]
    }
   ],
   "source": [
    "# Barajar una lista, queda guardado\n",
    "lista = [1,2,3,4,5]\n",
    "random.shuffle(lista)\n",
    "print(lista)"
   ]
  },
  {
   "cell_type": "markdown",
   "metadata": {
    "id": "buALHjIGWHGY"
   },
   "source": [
    "###**re**\n",
    "\n",
    "Es el módulo de las expresiones regulares (Regular Expressions). Utilizando una sintaxis especial, sirven para hacer comprobaciones y búsquedas. Son especialmente útiles trabajando con cadenas de caracteres, pero incluye muchos métodos alternativos.\n"
   ]
  },
  {
   "cell_type": "code",
   "execution_count": null,
   "metadata": {
    "colab": {
     "base_uri": "https://localhost:8080/",
     "height": 50
    },
    "id": "bu3r2ILAVG1T",
    "outputId": "f371c838-6967-421b-f7e7-e976905aaeee"
   },
   "outputs": [
    {
     "name": "stdout",
     "output_type": "stream",
     "text": [
      "Juan4 _Perez5_\n",
      "Juan_ _Perez_\n"
     ]
    }
   ],
   "source": [
    "import re\n",
    "patron1 = '[^A-Za-z0-9 ]+'\n",
    "patron2 = '[^A-Za-z ]+'\n",
    "cadena = 'Juan4 $Perez5%'\n",
    "print(re.sub(patron1, '_', cadena))\n",
    "print(re.sub(patron2, '_', cadena))"
   ]
  },
  {
   "cell_type": "markdown",
   "metadata": {
    "id": "Z9BE1kOEWJAV"
   },
   "source": [
    "###**os** \n",
    "\n",
    "Funcionalidades dependientes del sistema Operativo."
   ]
  },
  {
   "cell_type": "code",
   "execution_count": null,
   "metadata": {
    "colab": {
     "base_uri": "https://localhost:8080/",
     "height": 50
    },
    "id": "1UzzhRnVYNZe",
    "outputId": "ab126635-5393-481b-bea3-bf2d0ca9a94a"
   },
   "outputs": [
    {
     "name": "stdout",
     "output_type": "stream",
     "text": [
      "/content\n",
      "True\n"
     ]
    }
   ],
   "source": [
    "import os \n",
    "# Conocer el Directorio Actual\n",
    "print(os.getcwd())\n",
    "# Saber si el directorio Existe\n",
    "print(os.path.exists('/content'))"
   ]
  },
  {
   "cell_type": "markdown",
   "metadata": {
    "id": "7VCJrhsGYGzB"
   },
   "source": [
    "###**sys**\n",
    "\n",
    "Nos permite conseguir información del entorno del sistema."
   ]
  },
  {
   "cell_type": "code",
   "execution_count": null,
   "metadata": {
    "colab": {
     "base_uri": "https://localhost:8080/",
     "height": 67
    },
    "id": "XVYQsUh-WKeQ",
    "outputId": "bbd2e484-9cdb-4505-d17e-8f75582fb7b9"
   },
   "outputs": [
    {
     "name": "stdout",
     "output_type": "stream",
     "text": [
      "3.6.8 (default, Oct  7 2019, 12:59:55) \n",
      "[GCC 8.3.0]\n",
      "linux\n"
     ]
    }
   ],
   "source": [
    "import sys\n",
    "#Retorna el número de versión de Python \n",
    "print(sys.version)\n",
    "#Retorna la plataforma sobre la cuál se está ejecutando el intérprete\n",
    "print(sys.platform)"
   ]
  },
  {
   "cell_type": "markdown",
   "metadata": {
    "id": "vXI_AylSl_2B"
   },
   "source": [
    "###**csv**\n",
    "\n",
    "El módulo CSV tiene varias funciones y clases disponibles para leer y escribir CSVs."
   ]
  },
  {
   "cell_type": "markdown",
   "metadata": {
    "id": "xTGmQ-1clD60"
   },
   "source": [
    "#### Integrando Google Drive con Colab"
   ]
  },
  {
   "cell_type": "code",
   "execution_count": null,
   "metadata": {
    "colab": {
     "base_uri": "https://localhost:8080/",
     "height": 121
    },
    "id": "SsCjihWRlIZ-",
    "outputId": "b0dc4f86-d899-430f-b66b-613960bc7cde"
   },
   "outputs": [
    {
     "name": "stdout",
     "output_type": "stream",
     "text": [
      "Go to this URL in a browser: https://accounts.google.com/o/oauth2/auth?client_id=947318989803-6bn6qk8qdgf4n4g3pfee6491hc0brc4i.apps.googleusercontent.com&redirect_uri=urn%3Aietf%3Awg%3Aoauth%3A2.0%3Aoob&scope=email%20https%3A%2F%2Fwww.googleapis.com%2Fauth%2Fdocs.test%20https%3A%2F%2Fwww.googleapis.com%2Fauth%2Fdrive%20https%3A%2F%2Fwww.googleapis.com%2Fauth%2Fdrive.photos.readonly%20https%3A%2F%2Fwww.googleapis.com%2Fauth%2Fpeopleapi.readonly&response_type=code\n",
      "\n",
      "Enter your authorization code:\n",
      "··········\n",
      "Mounted at /content/gdrive\n"
     ]
    }
   ],
   "source": [
    "from google.colab import drive \n",
    "drive.mount('/content/gdrive')"
   ]
  },
  {
   "cell_type": "markdown",
   "metadata": {
    "id": "jR_ID239mWDe"
   },
   "source": [
    "#### Leyendo un archivo CSV\n",
    "\n",
    "El archivo que se va a cargar fue tomado de los datos abiertos de Accidentes de tránsito registrados por la Secretaría de Movilidad de la Alcaldía de Medellin, desde el año 2014 al año en curso.  [Fuente](http://medata.gov.co/dataset/accidentalidad)"
   ]
  },
  {
   "cell_type": "code",
   "execution_count": 2,
   "metadata": {
    "id": "vRctOD8YlL5S"
   },
   "outputs": [
    {
     "ename": "FileNotFoundError",
     "evalue": "[Errno 2] No such file or directory: '/content/gdrive/My Drive/ML_COURSES_CEC/Ciencia de Datos con Python/Estudiantes/Notebooks/Datasets/accidentalidad.csv'",
     "output_type": "error",
     "traceback": [
      "\u001b[1;31m---------------------------------------------------------------------------\u001b[0m",
      "\u001b[1;31mFileNotFoundError\u001b[0m                         Traceback (most recent call last)",
      "\u001b[1;32m<ipython-input-2-282f37449731>\u001b[0m in \u001b[0;36m<module>\u001b[1;34m\u001b[0m\n\u001b[0;32m      1\u001b[0m \u001b[1;32mfrom\u001b[0m \u001b[0mcsv\u001b[0m \u001b[1;32mimport\u001b[0m \u001b[0mreader\u001b[0m\u001b[1;33m\u001b[0m\u001b[1;33m\u001b[0m\u001b[0m\n\u001b[1;32m----> 2\u001b[1;33m \u001b[0mopened_file\u001b[0m \u001b[1;33m=\u001b[0m \u001b[0mopen\u001b[0m\u001b[1;33m(\u001b[0m\u001b[1;34m'/content/gdrive/My Drive/ML_COURSES_CEC/Ciencia de Datos con Python/Estudiantes/Notebooks/Datasets/accidentalidad.csv'\u001b[0m\u001b[1;33m)\u001b[0m\u001b[1;33m\u001b[0m\u001b[1;33m\u001b[0m\u001b[0m\n\u001b[0m\u001b[0;32m      3\u001b[0m \u001b[0mread_file\u001b[0m \u001b[1;33m=\u001b[0m \u001b[0mreader\u001b[0m\u001b[1;33m(\u001b[0m\u001b[0mopened_file\u001b[0m\u001b[1;33m,\u001b[0m\u001b[0mdelimiter\u001b[0m\u001b[1;33m=\u001b[0m\u001b[1;34m';'\u001b[0m\u001b[1;33m)\u001b[0m\u001b[1;33m\u001b[0m\u001b[1;33m\u001b[0m\u001b[0m\n",
      "\u001b[1;31mFileNotFoundError\u001b[0m: [Errno 2] No such file or directory: '/content/gdrive/My Drive/ML_COURSES_CEC/Ciencia de Datos con Python/Estudiantes/Notebooks/Datasets/accidentalidad.csv'"
     ]
    }
   ],
   "source": [
    "from csv import reader\n",
    "opened_file = open('/content/gdrive/My Drive/ML_COURSES_CEC/Ciencia de Datos con Python/Estudiantes/Notebooks/Datasets/accidentalidad.csv', encoding='utf-8')\n",
    "read_file = reader(opened_file,delimiter=';')"
   ]
  },
  {
   "cell_type": "code",
   "execution_count": null,
   "metadata": {
    "colab": {
     "base_uri": "https://localhost:8080/",
     "height": 34
    },
    "id": "WiT_0uo6B6Oz",
    "outputId": "ce3dddb3-298e-4a93-a2fe-d6983f3d4043"
   },
   "outputs": [
    {
     "data": {
      "text/plain": [
       "<_csv.reader at 0x7f41b11aaf28>"
      ]
     },
     "execution_count": 140,
     "metadata": {
      "tags": []
     },
     "output_type": "execute_result"
    }
   ],
   "source": [
    "read_file"
   ]
  },
  {
   "cell_type": "code",
   "execution_count": 1,
   "metadata": {
    "colab": {
     "base_uri": "https://localhost:8080/",
     "height": 823
    },
    "id": "eUtY2qiOmfnu",
    "outputId": "43f0e061-33cd-4f51-870b-e351d4a7dbf8"
   },
   "outputs": [
    {
     "ename": "NameError",
     "evalue": "name 'read_file' is not defined",
     "output_type": "error",
     "traceback": [
      "\u001b[1;31m---------------------------------------------------------------------------\u001b[0m",
      "\u001b[1;31mNameError\u001b[0m                                 Traceback (most recent call last)",
      "\u001b[1;32m<ipython-input-1-774c5dbf78d5>\u001b[0m in \u001b[0;36m<module>\u001b[1;34m\u001b[0m\n\u001b[0;32m      1\u001b[0m \u001b[1;31m# Visualizando la información\u001b[0m\u001b[1;33m\u001b[0m\u001b[1;33m\u001b[0m\u001b[1;33m\u001b[0m\u001b[0m\n\u001b[1;32m----> 2\u001b[1;33m \u001b[0mapps_data\u001b[0m \u001b[1;33m=\u001b[0m \u001b[0mlist\u001b[0m\u001b[1;33m(\u001b[0m\u001b[0mread_file\u001b[0m\u001b[1;33m)\u001b[0m\u001b[1;33m\u001b[0m\u001b[1;33m\u001b[0m\u001b[0m\n\u001b[0m\u001b[0;32m      3\u001b[0m \u001b[0mapps_data\u001b[0m\u001b[1;33m[\u001b[0m\u001b[1;33m:\u001b[0m\u001b[1;36m2\u001b[0m\u001b[1;33m]\u001b[0m\u001b[1;33m\u001b[0m\u001b[1;33m\u001b[0m\u001b[0m\n",
      "\u001b[1;31mNameError\u001b[0m: name 'read_file' is not defined"
     ]
    }
   ],
   "source": [
    "# Visualizando la información\n",
    "apps_data = list(read_file)\n",
    "apps_data[:2]"
   ]
  },
  {
   "cell_type": "code",
   "execution_count": null,
   "metadata": {
    "id": "KsV9PzlLleOj"
   },
   "outputs": [],
   "source": [
    "# Funcion que genera diccionario de frecuencias\n",
    "def freq_table(data_set, index):\n",
    "    frequency_table = {}\n",
    "    \n",
    "    for row in data_set[1:]:\n",
    "        value = row[index]\n",
    "        if value in frequency_table:\n",
    "            frequency_table[value] += 1\n",
    "        else:\n",
    "            frequency_table[value] = 1\n",
    "        \n",
    "    return frequency_table"
   ]
  },
  {
   "cell_type": "code",
   "execution_count": null,
   "metadata": {
    "colab": {
     "base_uri": "https://localhost:8080/",
     "height": 168
    },
    "id": "0ZHfByoymdrD",
    "outputId": "a1c54943-bf24-4d64-d10d-936aee23c155"
   },
   "outputs": [
    {
     "data": {
      "text/plain": [
       "{'Atropello': 5511,\n",
       " 'Caida Ocupante': 3212,\n",
       " 'Caída Ocupante': 4,\n",
       " 'Caída de Ocupante': 2007,\n",
       " 'Choque': 37982,\n",
       " 'Choque ': 1,\n",
       " 'Incendio': 6,\n",
       " 'Otro': 6281,\n",
       " 'Volcamiento': 1910}"
      ]
     },
     "execution_count": 144,
     "metadata": {
      "tags": []
     },
     "output_type": "execute_result"
    }
   ],
   "source": [
    "# Clases de Accidentes\n",
    "freq_table(apps_data,5)"
   ]
  },
  {
   "cell_type": "code",
   "execution_count": null,
   "metadata": {
    "colab": {
     "base_uri": "https://localhost:8080/",
     "height": 437
    },
    "id": "riq6kehPnE6W",
    "outputId": "b1fedb7e-b03b-49ec-9560-a5220efa942b"
   },
   "outputs": [
    {
     "data": {
      "text/plain": [
       "{'': 3541,\n",
       " '0': 1,\n",
       " 'Aranjuez': 2989,\n",
       " 'Belén': 3548,\n",
       " 'Buenos Aires': 2006,\n",
       " 'Castilla': 5226,\n",
       " 'Corregimiento de Altavista': 112,\n",
       " 'Corregimiento de San Antonio de Prado': 874,\n",
       " 'Corregimiento de San Cristóbal': 523,\n",
       " 'Corregimiento de San Sebastián de Palmitas': 2,\n",
       " 'Corregimiento de Santa Elena': 111,\n",
       " 'Doce de Octubre': 1482,\n",
       " 'El Poblado': 4618,\n",
       " 'Guayabal': 3906,\n",
       " 'In': 16,\n",
       " 'La América': 1731,\n",
       " 'La Candelaria': 10717,\n",
       " 'Laureles Estadio': 5782,\n",
       " 'Manrique': 1588,\n",
       " 'No Georef': 799,\n",
       " 'Popular': 736,\n",
       " 'Robledo': 3605,\n",
       " 'San Javier': 909,\n",
       " 'Santa Cruz': 741,\n",
       " 'Villa Hermosa': 1351}"
      ]
     },
     "execution_count": 146,
     "metadata": {
      "tags": []
     },
     "output_type": "execute_result"
    }
   ],
   "source": [
    "# Localizacion de Accidentes\n",
    "freq_table(apps_data,9)"
   ]
  },
  {
   "cell_type": "code",
   "execution_count": null,
   "metadata": {
    "colab": {
     "base_uri": "https://localhost:8080/",
     "height": 34
    },
    "id": "OfjEHkZknP2K",
    "outputId": "307702b3-c82e-4905-9f19-ea2ce7d20ae0"
   },
   "outputs": [
    {
     "data": {
      "text/plain": [
       "{'Con heridos': 31296, 'Con muertos': 315, 'Solo daños': 25303}"
      ]
     },
     "execution_count": 147,
     "metadata": {
      "tags": []
     },
     "output_type": "execute_result"
    }
   ],
   "source": [
    "# Gravedad de los Accidentes\n",
    "freq_table(apps_data,17)"
   ]
  },
  {
   "cell_type": "code",
   "execution_count": null,
   "metadata": {
    "id": "VsB1KVblEXW7"
   },
   "outputs": [],
   "source": []
  }
 ],
 "metadata": {
  "colab": {
   "collapsed_sections": [],
   "name": "Fundamentos de Python Parte 2.ipynb",
   "provenance": []
  },
  "kernelspec": {
   "display_name": "Python 3",
   "language": "python",
   "name": "python3"
  },
  "language_info": {
   "codemirror_mode": {
    "name": "ipython",
    "version": 3
   },
   "file_extension": ".py",
   "mimetype": "text/x-python",
   "name": "python",
   "nbconvert_exporter": "python",
   "pygments_lexer": "ipython3",
   "version": "3.8.3"
  }
 },
 "nbformat": 4,
 "nbformat_minor": 1
}
