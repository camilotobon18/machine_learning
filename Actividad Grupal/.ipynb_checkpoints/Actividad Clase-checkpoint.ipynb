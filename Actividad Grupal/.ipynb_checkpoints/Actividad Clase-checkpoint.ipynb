{
 "cells": [
  {
   "cell_type": "markdown",
   "metadata": {},
   "source": [
    "Dataset <br>\n",
    "https://data.cityofnewyork.us/Housing-Development/DOB-Job-Application-Filings/ic3t-wcy2"
   ]
  },
  {
   "cell_type": "markdown",
   "metadata": {},
   "source": [
    "Una lista de las solicitudes de trabajo presentadas para un día en particular y los datos asociados. Los informes semanales y mensuales anteriores se archivan en el DOB y no están disponibles en los datos abiertos de la Ciudad de Nueva York.\n",
    "\n",
    "**Nota:** estas solicitudes de trabajo se envían a través de las oficinas municipales, a través de eFiling o a través del HUB. Este conjunto de datos no incluye los trabajos enviados a través de DOB NOW.<br>\n",
    "\n",
    "https://webcache.googleusercontent.com/search?q=cache:rL9eJRCD8aMJ:https://www.opendatanetwork.com/dataset/data.cityofnewyork.us/ic3t-wcy2+&cd=3&hl=en&ct=clnk&gl=co\n",
    "\n"
   ]
  },
  {
   "cell_type": "code",
   "execution_count": 1,
   "metadata": {},
   "outputs": [],
   "source": [
    "import pandas as pd\n",
    "\n",
    "# leer el archivo en una dataframe df\n",
    "df = pd.read_csv('dob_job_application_filings_subset.csv',low_memory=False)"
   ]
  }
 ],
 "metadata": {
  "kernelspec": {
   "display_name": "Python 3",
   "language": "python",
   "name": "python3"
  },
  "language_info": {
   "codemirror_mode": {
    "name": "ipython",
    "version": 3
   },
   "file_extension": ".py",
   "mimetype": "text/x-python",
   "name": "python",
   "nbconvert_exporter": "python",
   "pygments_lexer": "ipython3",
   "version": "3.8.3"
  }
 },
 "nbformat": 4,
 "nbformat_minor": 2
}
