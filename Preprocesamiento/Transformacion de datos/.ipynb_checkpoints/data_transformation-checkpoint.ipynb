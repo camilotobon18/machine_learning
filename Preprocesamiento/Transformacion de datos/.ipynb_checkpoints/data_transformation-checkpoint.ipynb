{
 "cells": [
  {
   "cell_type": "markdown",
   "metadata": {},
   "source": [
    "# Data Transformation"
   ]
  },
  {
   "cell_type": "markdown",
   "metadata": {},
   "source": [
    "## What is data transformation?\n",
    "\n",
    "Many times in real life, you will be working with imperfect datasets with quality issues. **Data transformation** is the process of modifying a dataset in appropriate ways in order to eliminate these quality issues. Some of these activities include:\n",
    "\n",
    "- Splitting columns\n",
    "- Converting dates to `datetime` objects, which are far more easily manipulable using `pandas` libraries\n",
    "- Encoding categorical variables\n",
    "- Dealing with and replacing null or missing values\n",
    "- Creating unique identifiers\n",
    "\n",
    "The `pandas` library has many functions which can help with this task. In addition, you will also be using some other standard libraries like `string`, `base64`, and `sklearn`."
   ]
  },
  {
   "cell_type": "code",
   "execution_count": 5,
   "metadata": {},
   "outputs": [
    {
     "data": {
      "text/plain": [
       "'0.23.1'"
      ]
     },
     "execution_count": 5,
     "metadata": {},
     "output_type": "execute_result"
    }
   ],
   "source": [
    "import sklearn\n",
    "sklearn.__version__\n",
    "#'0.23.2'"
   ]
  },
  {
   "cell_type": "code",
   "execution_count": 3,
   "metadata": {},
   "outputs": [
    {
     "name": "stdout",
     "output_type": "stream",
     "text": [
      "Collecting scikit-learn\n",
      "  Downloading scikit_learn-0.23.2-cp38-cp38-win_amd64.whl (6.8 MB)\n",
      "Requirement already satisfied, skipping upgrade: scipy>=0.19.1 in c:\\users\\ctobon\\anaconda3\\lib\\site-packages (from scikit-learn) (1.5.0)\n",
      "Requirement already satisfied, skipping upgrade: threadpoolctl>=2.0.0 in c:\\users\\ctobon\\anaconda3\\lib\\site-packages (from scikit-learn) (2.1.0)\n",
      "Requirement already satisfied, skipping upgrade: numpy>=1.13.3 in c:\\users\\ctobon\\anaconda3\\lib\\site-packages (from scikit-learn) (1.18.5)\n",
      "Requirement already satisfied, skipping upgrade: joblib>=0.11 in c:\\users\\ctobon\\anaconda3\\lib\\site-packages (from scikit-learn) (0.16.0)\n",
      "Installing collected packages: scikit-learn\n",
      "Successfully installed scikit-learn-0.23.2\n"
     ]
    }
   ],
   "source": [
    "!pip install scikit-learn --user --upgrade"
   ]
  },
  {
   "cell_type": "code",
   "execution_count": 6,
   "metadata": {},
   "outputs": [
    {
     "data": {
      "text/html": [
       "<div>\n",
       "<style scoped>\n",
       "    .dataframe tbody tr th:only-of-type {\n",
       "        vertical-align: middle;\n",
       "    }\n",
       "\n",
       "    .dataframe tbody tr th {\n",
       "        vertical-align: top;\n",
       "    }\n",
       "\n",
       "    .dataframe thead th {\n",
       "        text-align: right;\n",
       "    }\n",
       "</style>\n",
       "<table border=\"1\" class=\"dataframe\">\n",
       "  <thead>\n",
       "    <tr style=\"text-align: right;\">\n",
       "      <th></th>\n",
       "      <th>ID</th>\n",
       "      <th>FechaMuestra</th>\n",
       "      <th>ZonaGeografica</th>\n",
       "      <th>TipoDocumento</th>\n",
       "      <th>Documento</th>\n",
       "      <th>Evento</th>\n",
       "      <th>Nombres</th>\n",
       "      <th>Apellidos</th>\n",
       "      <th>Sexo</th>\n",
       "      <th>Condicion_Final</th>\n",
       "      <th>EAPB</th>\n",
       "      <th>Pais_Residencia</th>\n",
       "      <th>Departamento_Residencia</th>\n",
       "      <th>Municipio_Residencia</th>\n",
       "      <th>Trabajador_Salud</th>\n",
       "      <th>Contacto_Caso_Confirmado</th>\n",
       "      <th>EstadoCaso</th>\n",
       "      <th>GenerarResultado</th>\n",
       "      <th>FiltroUsuario</th>\n",
       "      <th>Tipo_Prueba</th>\n",
       "      <th>Fecha_Resultado</th>\n",
       "    </tr>\n",
       "  </thead>\n",
       "  <tbody>\n",
       "    <tr>\n",
       "      <th>0</th>\n",
       "      <td>1</td>\n",
       "      <td>3/26/20</td>\n",
       "      <td>BOGOTA DC-BOGOTA DC</td>\n",
       "      <td>Cédula de ciudadania</td>\n",
       "      <td>1234567891</td>\n",
       "      <td>INFLUENZA HUMANA POR VIRUS NUEVO              ...</td>\n",
       "      <td>DIANA MARIA</td>\n",
       "      <td>MEJIA FONSECA</td>\n",
       "      <td>Femenino</td>\n",
       "      <td></td>\n",
       "      <td>ALIANSALUD</td>\n",
       "      <td>COLOMBIA</td>\n",
       "      <td>BOGOTA DC</td>\n",
       "      <td>BOGOTA DC</td>\n",
       "      <td>NO</td>\n",
       "      <td>NO</td>\n",
       "      <td>RESULTADO_GENERADO                            ...</td>\n",
       "      <td>1</td>\n",
       "      <td>29628</td>\n",
       "      <td>RT-PCR</td>\n",
       "      <td>3/26/20</td>\n",
       "    </tr>\n",
       "    <tr>\n",
       "      <th>1</th>\n",
       "      <td>2</td>\n",
       "      <td>3/29/20</td>\n",
       "      <td>BOGOTA DC-BOGOTA DC</td>\n",
       "      <td>Cédula de ciudadania</td>\n",
       "      <td>1234567892</td>\n",
       "      <td>INFLUENZA HUMANA POR VIRUS NUEVO              ...</td>\n",
       "      <td>JUAN SEBASTIAN</td>\n",
       "      <td>MEJIA FONSECA</td>\n",
       "      <td>Masculino</td>\n",
       "      <td></td>\n",
       "      <td>SURA EPS</td>\n",
       "      <td>COLOMBIA</td>\n",
       "      <td>BOGOTA DC</td>\n",
       "      <td>BOGOTA DC</td>\n",
       "      <td>NO</td>\n",
       "      <td>NO</td>\n",
       "      <td>RESULTADO_GENERADO                            ...</td>\n",
       "      <td>1</td>\n",
       "      <td>29628</td>\n",
       "      <td>RT-PCR</td>\n",
       "      <td>3/29/20</td>\n",
       "    </tr>\n",
       "    <tr>\n",
       "      <th>2</th>\n",
       "      <td>3</td>\n",
       "      <td>4/3/20</td>\n",
       "      <td>BOGOTA DC-BOGOTA DC</td>\n",
       "      <td>Cédula de ciudadania</td>\n",
       "      <td>1234567893</td>\n",
       "      <td>INFLUENZA HUMANA POR VIRUS NUEVO              ...</td>\n",
       "      <td>MARIA BETZAIDA</td>\n",
       "      <td>MEJIA FONSECA</td>\n",
       "      <td>Femenino</td>\n",
       "      <td></td>\n",
       "      <td>CAPITAL SALUD EPS-S</td>\n",
       "      <td>COLOMBIA</td>\n",
       "      <td>BOGOTA DC</td>\n",
       "      <td>BOGOTA DC</td>\n",
       "      <td>NO</td>\n",
       "      <td>NO</td>\n",
       "      <td>RESULTADO_GENERADO                            ...</td>\n",
       "      <td>1</td>\n",
       "      <td>29628</td>\n",
       "      <td>RT-PCR</td>\n",
       "      <td>4/3/20</td>\n",
       "    </tr>\n",
       "    <tr>\n",
       "      <th>3</th>\n",
       "      <td>4</td>\n",
       "      <td>3/31/20</td>\n",
       "      <td>BOGOTA DC-BOGOTA DC</td>\n",
       "      <td>Cédula de ciudadania</td>\n",
       "      <td>1234567894</td>\n",
       "      <td>INFLUENZA HUMANA POR VIRUS NUEVO              ...</td>\n",
       "      <td>JUAN PABLO</td>\n",
       "      <td>MEJIA FONSECA</td>\n",
       "      <td>Masculino</td>\n",
       "      <td></td>\n",
       "      <td>ALIANSALUD</td>\n",
       "      <td>COLOMBIA</td>\n",
       "      <td>BOGOTA DC</td>\n",
       "      <td>BOGOTA DC</td>\n",
       "      <td>NO</td>\n",
       "      <td>NO</td>\n",
       "      <td>RESULTADO_GENERADO                            ...</td>\n",
       "      <td>1</td>\n",
       "      <td>29628</td>\n",
       "      <td>RT-PCR</td>\n",
       "      <td>3/31/20</td>\n",
       "    </tr>\n",
       "    <tr>\n",
       "      <th>4</th>\n",
       "      <td>5</td>\n",
       "      <td>3/17/20</td>\n",
       "      <td>BOGOTA DC-BOGOTA DC</td>\n",
       "      <td>Cédula de ciudadania</td>\n",
       "      <td>1234567895</td>\n",
       "      <td>INFLUENZA HUMANA POR VIRUS NUEVO              ...</td>\n",
       "      <td>LUIS EDUARDO JUNIOR</td>\n",
       "      <td>MEJIA FONSECA</td>\n",
       "      <td>Femenino</td>\n",
       "      <td></td>\n",
       "      <td>COMPENSAR EPS</td>\n",
       "      <td>COLOMBIA</td>\n",
       "      <td>BOGOTA DC</td>\n",
       "      <td>BOGOTA DC</td>\n",
       "      <td>NO</td>\n",
       "      <td>NO</td>\n",
       "      <td>RESULTADO_GENERADO                            ...</td>\n",
       "      <td>1</td>\n",
       "      <td>29628</td>\n",
       "      <td>RT-PCR</td>\n",
       "      <td>3/17/20</td>\n",
       "    </tr>\n",
       "  </tbody>\n",
       "</table>\n",
       "</div>"
      ],
      "text/plain": [
       "   ID FechaMuestra       ZonaGeografica         TipoDocumento   Documento  \\\n",
       "0   1      3/26/20  BOGOTA DC-BOGOTA DC  Cédula de ciudadania  1234567891   \n",
       "1   2      3/29/20  BOGOTA DC-BOGOTA DC  Cédula de ciudadania  1234567892   \n",
       "2   3       4/3/20  BOGOTA DC-BOGOTA DC  Cédula de ciudadania  1234567893   \n",
       "3   4      3/31/20  BOGOTA DC-BOGOTA DC  Cédula de ciudadania  1234567894   \n",
       "4   5      3/17/20  BOGOTA DC-BOGOTA DC  Cédula de ciudadania  1234567895   \n",
       "\n",
       "                                              Evento              Nombres  \\\n",
       "0  INFLUENZA HUMANA POR VIRUS NUEVO              ...          DIANA MARIA   \n",
       "1  INFLUENZA HUMANA POR VIRUS NUEVO              ...       JUAN SEBASTIAN   \n",
       "2  INFLUENZA HUMANA POR VIRUS NUEVO              ...       MARIA BETZAIDA   \n",
       "3  INFLUENZA HUMANA POR VIRUS NUEVO              ...           JUAN PABLO   \n",
       "4  INFLUENZA HUMANA POR VIRUS NUEVO              ...  LUIS EDUARDO JUNIOR   \n",
       "\n",
       "       Apellidos       Sexo       Condicion_Final                 EAPB  \\\n",
       "0  MEJIA FONSECA   Femenino                                 ALIANSALUD   \n",
       "1  MEJIA FONSECA  Masculino                                   SURA EPS   \n",
       "2  MEJIA FONSECA   Femenino                        CAPITAL SALUD EPS-S   \n",
       "3  MEJIA FONSECA  Masculino                                 ALIANSALUD   \n",
       "4  MEJIA FONSECA   Femenino                              COMPENSAR EPS   \n",
       "\n",
       "  Pais_Residencia Departamento_Residencia Municipio_Residencia  \\\n",
       "0        COLOMBIA               BOGOTA DC            BOGOTA DC   \n",
       "1        COLOMBIA               BOGOTA DC            BOGOTA DC   \n",
       "2        COLOMBIA               BOGOTA DC            BOGOTA DC   \n",
       "3        COLOMBIA               BOGOTA DC            BOGOTA DC   \n",
       "4        COLOMBIA               BOGOTA DC            BOGOTA DC   \n",
       "\n",
       "  Trabajador_Salud Contacto_Caso_Confirmado  \\\n",
       "0               NO                       NO   \n",
       "1               NO                       NO   \n",
       "2               NO                       NO   \n",
       "3               NO                       NO   \n",
       "4               NO                       NO   \n",
       "\n",
       "                                          EstadoCaso  GenerarResultado  \\\n",
       "0  RESULTADO_GENERADO                            ...                 1   \n",
       "1  RESULTADO_GENERADO                            ...                 1   \n",
       "2  RESULTADO_GENERADO                            ...                 1   \n",
       "3  RESULTADO_GENERADO                            ...                 1   \n",
       "4  RESULTADO_GENERADO                            ...                 1   \n",
       "\n",
       "   FiltroUsuario Tipo_Prueba Fecha_Resultado  \n",
       "0          29628      RT-PCR         3/26/20  \n",
       "1          29628      RT-PCR         3/29/20  \n",
       "2          29628      RT-PCR          4/3/20  \n",
       "3          29628      RT-PCR         3/31/20  \n",
       "4          29628      RT-PCR         3/17/20  "
      ]
     },
     "execution_count": 6,
     "metadata": {},
     "output_type": "execute_result"
    }
   ],
   "source": [
    "import pandas as pd\n",
    "import base64\n",
    "from sklearn.experimental import enable_iterative_imputer\n",
    "from sklearn.impute import IterativeImputer\n",
    "\n",
    "pd.set_option('max_columns', None)\n",
    "data = pd.read_csv('data.csv')\n",
    "data.head()"
   ]
  },
  {
   "cell_type": "markdown",
   "metadata": {},
   "source": [
    "## Splitting columns\n",
    "\n",
    "You can see that the column **ZonaGeografica** includes two pieces of information separated by a hyphen. If you want to work with those pieces of information separately, you will have to split this column:"
   ]
  },
  {
   "cell_type": "code",
   "execution_count": 7,
   "metadata": {},
   "outputs": [
    {
     "data": {
      "text/plain": [
       "array(['BOGOTA DC-BOGOTA DC',\n",
       "       '* PROCEDENCIA DESCONOCIDA-* PROCEDENCIA DESCONOCIDA'],\n",
       "      dtype=object)"
      ]
     },
     "execution_count": 7,
     "metadata": {},
     "output_type": "execute_result"
    }
   ],
   "source": [
    "# See the unique values\n",
    "data.ZonaGeografica.unique()"
   ]
  },
  {
   "cell_type": "code",
   "execution_count": 8,
   "metadata": {},
   "outputs": [],
   "source": [
    "# You use pandas to split columns\n",
    "data[['Departamento','Ciudad']] =  data.ZonaGeografica.str.split('-',expand=True,)"
   ]
  },
  {
   "cell_type": "code",
   "execution_count": 7,
   "metadata": {},
   "outputs": [
    {
     "data": {
      "text/html": [
       "<div>\n",
       "<style scoped>\n",
       "    .dataframe tbody tr th:only-of-type {\n",
       "        vertical-align: middle;\n",
       "    }\n",
       "\n",
       "    .dataframe tbody tr th {\n",
       "        vertical-align: top;\n",
       "    }\n",
       "\n",
       "    .dataframe thead th {\n",
       "        text-align: right;\n",
       "    }\n",
       "</style>\n",
       "<table border=\"1\" class=\"dataframe\">\n",
       "  <thead>\n",
       "    <tr style=\"text-align: right;\">\n",
       "      <th></th>\n",
       "      <th>ZonaGeografica</th>\n",
       "      <th>Departamento</th>\n",
       "      <th>Ciudad</th>\n",
       "    </tr>\n",
       "  </thead>\n",
       "  <tbody>\n",
       "    <tr>\n",
       "      <th>0</th>\n",
       "      <td>BOGOTA DC-BOGOTA DC</td>\n",
       "      <td>BOGOTA DC</td>\n",
       "      <td>BOGOTA DC</td>\n",
       "    </tr>\n",
       "    <tr>\n",
       "      <th>1</th>\n",
       "      <td>BOGOTA DC-BOGOTA DC</td>\n",
       "      <td>BOGOTA DC</td>\n",
       "      <td>BOGOTA DC</td>\n",
       "    </tr>\n",
       "    <tr>\n",
       "      <th>23032</th>\n",
       "      <td>BOGOTA DC-BOGOTA DC</td>\n",
       "      <td>BOGOTA DC</td>\n",
       "      <td>BOGOTA DC</td>\n",
       "    </tr>\n",
       "    <tr>\n",
       "      <th>23033</th>\n",
       "      <td>BOGOTA DC-BOGOTA DC</td>\n",
       "      <td>BOGOTA DC</td>\n",
       "      <td>BOGOTA DC</td>\n",
       "    </tr>\n",
       "  </tbody>\n",
       "</table>\n",
       "</div>"
      ],
      "text/plain": [
       "            ZonaGeografica Departamento     Ciudad\n",
       "0      BOGOTA DC-BOGOTA DC    BOGOTA DC  BOGOTA DC\n",
       "1      BOGOTA DC-BOGOTA DC    BOGOTA DC  BOGOTA DC\n",
       "23032  BOGOTA DC-BOGOTA DC    BOGOTA DC  BOGOTA DC\n",
       "23033  BOGOTA DC-BOGOTA DC    BOGOTA DC  BOGOTA DC"
      ]
     },
     "execution_count": 7,
     "metadata": {},
     "output_type": "execute_result"
    }
   ],
   "source": [
    "data[['ZonaGeografica','Departamento','Ciudad']].head(2).append(data[['ZonaGeografica','Departamento','Ciudad']].tail(2))"
   ]
  },
  {
   "cell_type": "markdown",
   "metadata": {},
   "source": [
    "As another example, often times you will need to separate names into first and last names:"
   ]
  },
  {
   "cell_type": "code",
   "execution_count": 8,
   "metadata": {},
   "outputs": [
    {
     "data": {
      "text/html": [
       "<div>\n",
       "<style scoped>\n",
       "    .dataframe tbody tr th:only-of-type {\n",
       "        vertical-align: middle;\n",
       "    }\n",
       "\n",
       "    .dataframe tbody tr th {\n",
       "        vertical-align: top;\n",
       "    }\n",
       "\n",
       "    .dataframe thead th {\n",
       "        text-align: right;\n",
       "    }\n",
       "</style>\n",
       "<table border=\"1\" class=\"dataframe\">\n",
       "  <thead>\n",
       "    <tr style=\"text-align: right;\">\n",
       "      <th></th>\n",
       "      <th>Nombres</th>\n",
       "    </tr>\n",
       "  </thead>\n",
       "  <tbody>\n",
       "    <tr>\n",
       "      <th>0</th>\n",
       "      <td>DIANA MARIA</td>\n",
       "    </tr>\n",
       "    <tr>\n",
       "      <th>1</th>\n",
       "      <td>JUAN SEBASTIAN</td>\n",
       "    </tr>\n",
       "    <tr>\n",
       "      <th>2</th>\n",
       "      <td>MARIA BETZAIDA</td>\n",
       "    </tr>\n",
       "    <tr>\n",
       "      <th>3</th>\n",
       "      <td>JUAN PABLO</td>\n",
       "    </tr>\n",
       "    <tr>\n",
       "      <th>4</th>\n",
       "      <td>LUIS EDUARDO JUNIOR</td>\n",
       "    </tr>\n",
       "    <tr>\n",
       "      <th>5</th>\n",
       "      <td>ESTEFANI</td>\n",
       "    </tr>\n",
       "    <tr>\n",
       "      <th>6</th>\n",
       "      <td>LUZ  ELIZABETH</td>\n",
       "    </tr>\n",
       "    <tr>\n",
       "      <th>7</th>\n",
       "      <td>WILLIAM</td>\n",
       "    </tr>\n",
       "    <tr>\n",
       "      <th>8</th>\n",
       "      <td>JENIFER LORENA</td>\n",
       "    </tr>\n",
       "    <tr>\n",
       "      <th>9</th>\n",
       "      <td>JAIME ANDRES</td>\n",
       "    </tr>\n",
       "  </tbody>\n",
       "</table>\n",
       "</div>"
      ],
      "text/plain": [
       "               Nombres\n",
       "0          DIANA MARIA\n",
       "1       JUAN SEBASTIAN\n",
       "2       MARIA BETZAIDA\n",
       "3           JUAN PABLO\n",
       "4  LUIS EDUARDO JUNIOR\n",
       "5            ESTEFANI \n",
       "6      LUZ  ELIZABETH \n",
       "7             WILLIAM \n",
       "8       JENIFER LORENA\n",
       "9         JAIME ANDRES"
      ]
     },
     "execution_count": 8,
     "metadata": {},
     "output_type": "execute_result"
    }
   ],
   "source": [
    "data[['Nombres']].head(10)"
   ]
  },
  {
   "cell_type": "code",
   "execution_count": 9,
   "metadata": {},
   "outputs": [],
   "source": [
    "# Some names could have more that two names, for that reason you can use an additional parameter n where you define the number of splits.\n",
    "# n=1, la cero q es la original y agrega una mas\n",
    "# Luis Eduardo Jr = Luis - Eduardo Jr\n",
    "#con rsplit, de derecha a izq = Luis Eduardo - Jr\n",
    "data[['PrimerNombre','SegundoNombre']] =  data.Nombres.str.split(n=1,expand=True,)"
   ]
  },
  {
   "cell_type": "code",
   "execution_count": 10,
   "metadata": {},
   "outputs": [
    {
     "data": {
      "text/html": [
       "<div>\n",
       "<style scoped>\n",
       "    .dataframe tbody tr th:only-of-type {\n",
       "        vertical-align: middle;\n",
       "    }\n",
       "\n",
       "    .dataframe tbody tr th {\n",
       "        vertical-align: top;\n",
       "    }\n",
       "\n",
       "    .dataframe thead th {\n",
       "        text-align: right;\n",
       "    }\n",
       "</style>\n",
       "<table border=\"1\" class=\"dataframe\">\n",
       "  <thead>\n",
       "    <tr style=\"text-align: right;\">\n",
       "      <th></th>\n",
       "      <th>Nombres</th>\n",
       "      <th>PrimerNombre</th>\n",
       "      <th>SegundoNombre</th>\n",
       "    </tr>\n",
       "  </thead>\n",
       "  <tbody>\n",
       "    <tr>\n",
       "      <th>0</th>\n",
       "      <td>DIANA MARIA</td>\n",
       "      <td>DIANA</td>\n",
       "      <td>MARIA</td>\n",
       "    </tr>\n",
       "    <tr>\n",
       "      <th>1</th>\n",
       "      <td>JUAN SEBASTIAN</td>\n",
       "      <td>JUAN</td>\n",
       "      <td>SEBASTIAN</td>\n",
       "    </tr>\n",
       "    <tr>\n",
       "      <th>2</th>\n",
       "      <td>MARIA BETZAIDA</td>\n",
       "      <td>MARIA</td>\n",
       "      <td>BETZAIDA</td>\n",
       "    </tr>\n",
       "    <tr>\n",
       "      <th>3</th>\n",
       "      <td>JUAN PABLO</td>\n",
       "      <td>JUAN</td>\n",
       "      <td>PABLO</td>\n",
       "    </tr>\n",
       "    <tr>\n",
       "      <th>4</th>\n",
       "      <td>LUIS EDUARDO JUNIOR</td>\n",
       "      <td>LUIS</td>\n",
       "      <td>EDUARDO JUNIOR</td>\n",
       "    </tr>\n",
       "    <tr>\n",
       "      <th>23029</th>\n",
       "      <td>LIZETH</td>\n",
       "      <td>LIZETH</td>\n",
       "      <td>None</td>\n",
       "    </tr>\n",
       "    <tr>\n",
       "      <th>23030</th>\n",
       "      <td>JOSE DESIDERIO</td>\n",
       "      <td>JOSE</td>\n",
       "      <td>DESIDERIO</td>\n",
       "    </tr>\n",
       "    <tr>\n",
       "      <th>23031</th>\n",
       "      <td>MARIANA</td>\n",
       "      <td>MARIANA</td>\n",
       "      <td>None</td>\n",
       "    </tr>\n",
       "    <tr>\n",
       "      <th>23032</th>\n",
       "      <td>ROGER ALEXANDER</td>\n",
       "      <td>ROGER</td>\n",
       "      <td>ALEXANDER</td>\n",
       "    </tr>\n",
       "    <tr>\n",
       "      <th>23033</th>\n",
       "      <td>MARIA ISABEL</td>\n",
       "      <td>MARIA</td>\n",
       "      <td>ISABEL</td>\n",
       "    </tr>\n",
       "  </tbody>\n",
       "</table>\n",
       "</div>"
      ],
      "text/plain": [
       "                   Nombres PrimerNombre   SegundoNombre\n",
       "0              DIANA MARIA        DIANA           MARIA\n",
       "1           JUAN SEBASTIAN         JUAN       SEBASTIAN\n",
       "2           MARIA BETZAIDA        MARIA        BETZAIDA\n",
       "3               JUAN PABLO         JUAN           PABLO\n",
       "4      LUIS EDUARDO JUNIOR         LUIS  EDUARDO JUNIOR\n",
       "23029              LIZETH        LIZETH            None\n",
       "23030       JOSE DESIDERIO         JOSE       DESIDERIO\n",
       "23031             MARIANA       MARIANA            None\n",
       "23032      ROGER ALEXANDER        ROGER       ALEXANDER\n",
       "23033         MARIA ISABEL        MARIA          ISABEL"
      ]
     },
     "execution_count": 10,
     "metadata": {},
     "output_type": "execute_result"
    }
   ],
   "source": [
    "data[['Nombres','PrimerNombre','SegundoNombre']].head().append(data[['Nombres','PrimerNombre','SegundoNombre']].tail())"
   ]
  },
  {
   "cell_type": "markdown",
   "metadata": {},
   "source": [
    "### Exercise 1:\n",
    "\n",
    "Split the `Apellidos` column into `PrimerApellido` and `SegundoApellido`."
   ]
  },
  {
   "cell_type": "code",
   "execution_count": 9,
   "metadata": {},
   "outputs": [
    {
     "data": {
      "text/plain": [
       "Index(['ID', 'FechaMuestra', 'ZonaGeografica', 'TipoDocumento', 'Documento',\n",
       "       'Evento', 'Nombres', 'Apellidos', 'Sexo', 'Condicion_Final', 'EAPB',\n",
       "       'Pais_Residencia', 'Departamento_Residencia', 'Municipio_Residencia',\n",
       "       'Trabajador_Salud', 'Contacto_Caso_Confirmado', 'EstadoCaso',\n",
       "       'GenerarResultado', 'FiltroUsuario', 'Tipo_Prueba', 'Fecha_Resultado',\n",
       "       'Departamento', 'Ciudad'],\n",
       "      dtype='object')"
      ]
     },
     "execution_count": 9,
     "metadata": {},
     "output_type": "execute_result"
    }
   ],
   "source": [
    "data.columns"
   ]
  },
  {
   "cell_type": "code",
   "execution_count": 17,
   "metadata": {},
   "outputs": [],
   "source": [
    "data[['PrimerApellido','SegundoApellido']] =  data.Apellidos.str.split(n=1,expand=True)"
   ]
  },
  {
   "cell_type": "code",
   "execution_count": 16,
   "metadata": {},
   "outputs": [
    {
     "data": {
      "text/html": [
       "<div>\n",
       "<style scoped>\n",
       "    .dataframe tbody tr th:only-of-type {\n",
       "        vertical-align: middle;\n",
       "    }\n",
       "\n",
       "    .dataframe tbody tr th {\n",
       "        vertical-align: top;\n",
       "    }\n",
       "\n",
       "    .dataframe thead th {\n",
       "        text-align: right;\n",
       "    }\n",
       "</style>\n",
       "<table border=\"1\" class=\"dataframe\">\n",
       "  <thead>\n",
       "    <tr style=\"text-align: right;\">\n",
       "      <th></th>\n",
       "      <th>Apellidos</th>\n",
       "      <th>PrimerApellido</th>\n",
       "      <th>SegundoApellido</th>\n",
       "    </tr>\n",
       "  </thead>\n",
       "  <tbody>\n",
       "    <tr>\n",
       "      <th>0</th>\n",
       "      <td>MEJIA FONSECA</td>\n",
       "      <td>MEJIA</td>\n",
       "      <td>FONSECA</td>\n",
       "    </tr>\n",
       "    <tr>\n",
       "      <th>1</th>\n",
       "      <td>MEJIA FONSECA</td>\n",
       "      <td>MEJIA</td>\n",
       "      <td>FONSECA</td>\n",
       "    </tr>\n",
       "    <tr>\n",
       "      <th>2</th>\n",
       "      <td>MEJIA FONSECA</td>\n",
       "      <td>MEJIA</td>\n",
       "      <td>FONSECA</td>\n",
       "    </tr>\n",
       "    <tr>\n",
       "      <th>3</th>\n",
       "      <td>MEJIA FONSECA</td>\n",
       "      <td>MEJIA</td>\n",
       "      <td>FONSECA</td>\n",
       "    </tr>\n",
       "    <tr>\n",
       "      <th>4</th>\n",
       "      <td>MEJIA FONSECA</td>\n",
       "      <td>MEJIA</td>\n",
       "      <td>FONSECA</td>\n",
       "    </tr>\n",
       "    <tr>\n",
       "      <th>...</th>\n",
       "      <td>...</td>\n",
       "      <td>...</td>\n",
       "      <td>...</td>\n",
       "    </tr>\n",
       "    <tr>\n",
       "      <th>995</th>\n",
       "      <td>MEJIA FONSECA</td>\n",
       "      <td>MEJIA</td>\n",
       "      <td>FONSECA</td>\n",
       "    </tr>\n",
       "    <tr>\n",
       "      <th>996</th>\n",
       "      <td>MEJIA FONSECA</td>\n",
       "      <td>MEJIA</td>\n",
       "      <td>FONSECA</td>\n",
       "    </tr>\n",
       "    <tr>\n",
       "      <th>997</th>\n",
       "      <td>MEJIA FONSECA</td>\n",
       "      <td>MEJIA</td>\n",
       "      <td>FONSECA</td>\n",
       "    </tr>\n",
       "    <tr>\n",
       "      <th>998</th>\n",
       "      <td>MEJIA FONSECA</td>\n",
       "      <td>MEJIA</td>\n",
       "      <td>FONSECA</td>\n",
       "    </tr>\n",
       "    <tr>\n",
       "      <th>999</th>\n",
       "      <td>MEJIA FONSECA</td>\n",
       "      <td>MEJIA</td>\n",
       "      <td>FONSECA</td>\n",
       "    </tr>\n",
       "  </tbody>\n",
       "</table>\n",
       "<p>1000 rows × 3 columns</p>\n",
       "</div>"
      ],
      "text/plain": [
       "         Apellidos PrimerApellido SegundoApellido\n",
       "0    MEJIA FONSECA          MEJIA         FONSECA\n",
       "1    MEJIA FONSECA          MEJIA         FONSECA\n",
       "2    MEJIA FONSECA          MEJIA         FONSECA\n",
       "3    MEJIA FONSECA          MEJIA         FONSECA\n",
       "4    MEJIA FONSECA          MEJIA         FONSECA\n",
       "..             ...            ...             ...\n",
       "995  MEJIA FONSECA          MEJIA         FONSECA\n",
       "996  MEJIA FONSECA          MEJIA         FONSECA\n",
       "997  MEJIA FONSECA          MEJIA         FONSECA\n",
       "998  MEJIA FONSECA          MEJIA         FONSECA\n",
       "999  MEJIA FONSECA          MEJIA         FONSECA\n",
       "\n",
       "[1000 rows x 3 columns]"
      ]
     },
     "execution_count": 16,
     "metadata": {},
     "output_type": "execute_result"
    }
   ],
   "source": [
    "data[['Apellidos','PrimerApellido','SegundoApellido']].head(1000)"
   ]
  },
  {
   "cell_type": "code",
   "execution_count": 18,
   "metadata": {},
   "outputs": [
    {
     "name": "stdout",
     "output_type": "stream",
     "text": [
      "<class 'pandas.core.frame.DataFrame'>\n",
      "RangeIndex: 23034 entries, 0 to 23033\n",
      "Data columns (total 25 columns):\n",
      " #   Column                    Non-Null Count  Dtype \n",
      "---  ------                    --------------  ----- \n",
      " 0   ID                        23034 non-null  int64 \n",
      " 1   FechaMuestra              23034 non-null  object\n",
      " 2   ZonaGeografica            23034 non-null  object\n",
      " 3   TipoDocumento             23034 non-null  object\n",
      " 4   Documento                 23034 non-null  int64 \n",
      " 5   Evento                    23034 non-null  object\n",
      " 6   Nombres                   23034 non-null  object\n",
      " 7   Apellidos                 23034 non-null  object\n",
      " 8   Sexo                      22860 non-null  object\n",
      " 9   Condicion_Final           23034 non-null  object\n",
      " 10  EAPB                      19706 non-null  object\n",
      " 11  Pais_Residencia           8799 non-null   object\n",
      " 12  Departamento_Residencia   8504 non-null   object\n",
      " 13  Municipio_Residencia      8529 non-null   object\n",
      " 14  Trabajador_Salud          23034 non-null  object\n",
      " 15  Contacto_Caso_Confirmado  23034 non-null  object\n",
      " 16  EstadoCaso                23034 non-null  object\n",
      " 17  GenerarResultado          23034 non-null  int64 \n",
      " 18  FiltroUsuario             23034 non-null  int64 \n",
      " 19  Tipo_Prueba               23034 non-null  object\n",
      " 20  Fecha_Resultado           23034 non-null  object\n",
      " 21  Departamento              23034 non-null  object\n",
      " 22  Ciudad                    23034 non-null  object\n",
      " 23  PrimerApellido            23034 non-null  object\n",
      " 24  SegundoApellido           23034 non-null  object\n",
      "dtypes: int64(4), object(21)\n",
      "memory usage: 4.4+ MB\n"
     ]
    }
   ],
   "source": [
    "data.info()"
   ]
  },
  {
   "cell_type": "markdown",
   "metadata": {},
   "source": [
    "## Working with categorical variables and dates"
   ]
  },
  {
   "cell_type": "code",
   "execution_count": null,
   "metadata": {},
   "outputs": [],
   "source": []
  },
  {
   "cell_type": "markdown",
   "metadata": {},
   "source": [
    "Let's check the columns we have:"
   ]
  },
  {
   "cell_type": "code",
   "execution_count": 12,
   "metadata": {},
   "outputs": [
    {
     "name": "stdout",
     "output_type": "stream",
     "text": [
      "<class 'pandas.core.frame.DataFrame'>\n",
      "RangeIndex: 23034 entries, 0 to 23033\n",
      "Data columns (total 25 columns):\n",
      "ID                          23034 non-null int64\n",
      "FechaMuestra                23034 non-null object\n",
      "ZonaGeografica              23034 non-null object\n",
      "TipoDocumento               23034 non-null object\n",
      "Documento                   23034 non-null int64\n",
      "Evento                      23034 non-null object\n",
      "Nombres                     23034 non-null object\n",
      "Apellidos                   23034 non-null object\n",
      "Sexo                        22860 non-null object\n",
      "Condicion_Final             23034 non-null object\n",
      "EAPB                        19706 non-null object\n",
      "Pais_Residencia             8799 non-null object\n",
      "Departamento_Residencia     8504 non-null object\n",
      "Municipio_Residencia        8529 non-null object\n",
      "Trabajador_Salud            23034 non-null object\n",
      "Contacto_Caso_Confirmado    23034 non-null object\n",
      "EstadoCaso                  23034 non-null object\n",
      "GenerarResultado            23034 non-null int64\n",
      "FiltroUsuario               23034 non-null int64\n",
      "Tipo_Prueba                 23034 non-null object\n",
      "Fecha_Resultado             23034 non-null object\n",
      "Departamento                23034 non-null object\n",
      "Ciudad                      23034 non-null object\n",
      "PrimerNombre                23034 non-null object\n",
      "SegundoNombre               17540 non-null object\n",
      "dtypes: int64(4), object(21)\n",
      "memory usage: 4.4+ MB\n"
     ]
    }
   ],
   "source": [
    "data.info()"
   ]
  },
  {
   "cell_type": "markdown",
   "metadata": {},
   "source": [
    "### `datetime` conversion\n",
    "\n",
    "You can see that `FechaMuestra` is structured as a date, but it cannot be manipulated as if it were a date! Thus, let's go ahead and convert it to a `datetime` object so that we can use various Python functions on it:"
   ]
  },
  {
   "cell_type": "code",
   "execution_count": 13,
   "metadata": {},
   "outputs": [
    {
     "data": {
      "text/plain": [
       "array(['3/26/20', '3/29/20', '4/3/20', '3/31/20', '3/17/20', '3/30/20',\n",
       "       '3/19/20', '3/23/20', '4/1/20', '4/7/20', '3/18/20', '4/6/20',\n",
       "       '3/13/20', '3/22/20', '3/14/20', '4/5/20', '3/21/20', '4/8/20',\n",
       "       '3/16/20', '4/2/20', '3/28/20', '3/20/20', '3/25/20', '4/4/20',\n",
       "       '3/27/20', '3/24/20', '4/9/20', '6/19/20', '6/17/20', '6/20/20',\n",
       "       '6/15/20', '6/18/20', '6/11/20', '6/13/20', '6/16/20', '6/12/20',\n",
       "       '6/10/20', '6/14/20', '5/29/20', '6/8/20', '6/3/20', '6/9/20',\n",
       "       '6/7/20', '6/6/20', '6/5/20', '6/2/20', '6/4/20', '4/20/20',\n",
       "       '4/25/20', '4/26/20', '4/21/20', '4/27/20', '4/28/20', '5/14/20',\n",
       "       '5/28/20', '4/18/20', '4/17/20', '4/22/20', '4/24/20', '4/16/20',\n",
       "       '4/23/20', '3/12/20', '6/1/20', '5/26/20', '5/25/20', '5/30/20',\n",
       "       '5/31/20', '5/24/20', '5/27/20', '5/21/20', '5/15/20', '5/22/20',\n",
       "       '5/10/20', '5/12/20', '5/13/20', '5/16/20', '5/17/20', '5/20/20',\n",
       "       '5/23/20', '4/10/20', '4/11/20', '4/15/20', '5/11/20', '5/9/20',\n",
       "       '5/1/20', '5/8/20', '5/2/20', '5/4/20', '5/5/20', '5/6/20',\n",
       "       '5/3/20', '5/7/20', '4/30/20', '5/18/20', '5/19/20', '4/19/20',\n",
       "       '4/13/20', '4/29/20', '4/14/20', '4/12/20', '3/15/20', '3/2/20',\n",
       "       '2/14/20'], dtype=object)"
      ]
     },
     "execution_count": 13,
     "metadata": {},
     "output_type": "execute_result"
    }
   ],
   "source": [
    "data.FechaMuestra.unique()"
   ]
  },
  {
   "cell_type": "code",
   "execution_count": 14,
   "metadata": {},
   "outputs": [],
   "source": [
    "data.FechaMuestra = pd.to_datetime(data.FechaMuestra)"
   ]
  },
  {
   "cell_type": "code",
   "execution_count": 15,
   "metadata": {},
   "outputs": [
    {
     "data": {
      "text/plain": [
       "0   2020-03-26\n",
       "1   2020-03-29\n",
       "2   2020-04-03\n",
       "3   2020-03-31\n",
       "4   2020-03-17\n",
       "5   2020-04-03\n",
       "6   2020-03-30\n",
       "7   2020-03-19\n",
       "8   2020-03-23\n",
       "9   2020-04-01\n",
       "Name: FechaMuestra, dtype: datetime64[ns]"
      ]
     },
     "execution_count": 15,
     "metadata": {},
     "output_type": "execute_result"
    }
   ],
   "source": [
    "data.FechaMuestra.head(10)"
   ]
  },
  {
   "cell_type": "code",
   "execution_count": 16,
   "metadata": {},
   "outputs": [
    {
     "data": {
      "text/html": [
       "<div>\n",
       "<style scoped>\n",
       "    .dataframe tbody tr th:only-of-type {\n",
       "        vertical-align: middle;\n",
       "    }\n",
       "\n",
       "    .dataframe tbody tr th {\n",
       "        vertical-align: top;\n",
       "    }\n",
       "\n",
       "    .dataframe thead th {\n",
       "        text-align: right;\n",
       "    }\n",
       "</style>\n",
       "<table border=\"1\" class=\"dataframe\">\n",
       "  <thead>\n",
       "    <tr style=\"text-align: right;\">\n",
       "      <th></th>\n",
       "      <th>ID</th>\n",
       "      <th>FechaMuestra</th>\n",
       "      <th>ZonaGeografica</th>\n",
       "      <th>TipoDocumento</th>\n",
       "      <th>Documento</th>\n",
       "      <th>Evento</th>\n",
       "      <th>Nombres</th>\n",
       "      <th>Apellidos</th>\n",
       "      <th>Sexo</th>\n",
       "      <th>Condicion_Final</th>\n",
       "      <th>EAPB</th>\n",
       "      <th>Pais_Residencia</th>\n",
       "      <th>Departamento_Residencia</th>\n",
       "      <th>Municipio_Residencia</th>\n",
       "      <th>Trabajador_Salud</th>\n",
       "      <th>Contacto_Caso_Confirmado</th>\n",
       "      <th>EstadoCaso</th>\n",
       "      <th>GenerarResultado</th>\n",
       "      <th>FiltroUsuario</th>\n",
       "      <th>Tipo_Prueba</th>\n",
       "      <th>Fecha_Resultado</th>\n",
       "      <th>Departamento</th>\n",
       "      <th>Ciudad</th>\n",
       "      <th>PrimerNombre</th>\n",
       "      <th>SegundoNombre</th>\n",
       "      <th>WeekDay</th>\n",
       "    </tr>\n",
       "  </thead>\n",
       "  <tbody>\n",
       "    <tr>\n",
       "      <th>0</th>\n",
       "      <td>1</td>\n",
       "      <td>2020-03-26</td>\n",
       "      <td>BOGOTA DC-BOGOTA DC</td>\n",
       "      <td>Cédula de ciudadania</td>\n",
       "      <td>1234567891</td>\n",
       "      <td>INFLUENZA HUMANA POR VIRUS NUEVO              ...</td>\n",
       "      <td>DIANA MARIA</td>\n",
       "      <td>MEJIA FONSECA</td>\n",
       "      <td>Femenino</td>\n",
       "      <td></td>\n",
       "      <td>ALIANSALUD</td>\n",
       "      <td>COLOMBIA</td>\n",
       "      <td>BOGOTA DC</td>\n",
       "      <td>BOGOTA DC</td>\n",
       "      <td>NO</td>\n",
       "      <td>NO</td>\n",
       "      <td>RESULTADO_GENERADO                            ...</td>\n",
       "      <td>1</td>\n",
       "      <td>29628</td>\n",
       "      <td>RT-PCR</td>\n",
       "      <td>3/26/20</td>\n",
       "      <td>BOGOTA DC</td>\n",
       "      <td>BOGOTA DC</td>\n",
       "      <td>DIANA</td>\n",
       "      <td>MARIA</td>\n",
       "      <td>Thursday</td>\n",
       "    </tr>\n",
       "    <tr>\n",
       "      <th>1</th>\n",
       "      <td>2</td>\n",
       "      <td>2020-03-29</td>\n",
       "      <td>BOGOTA DC-BOGOTA DC</td>\n",
       "      <td>Cédula de ciudadania</td>\n",
       "      <td>1234567892</td>\n",
       "      <td>INFLUENZA HUMANA POR VIRUS NUEVO              ...</td>\n",
       "      <td>JUAN SEBASTIAN</td>\n",
       "      <td>MEJIA FONSECA</td>\n",
       "      <td>Masculino</td>\n",
       "      <td></td>\n",
       "      <td>SURA EPS</td>\n",
       "      <td>COLOMBIA</td>\n",
       "      <td>BOGOTA DC</td>\n",
       "      <td>BOGOTA DC</td>\n",
       "      <td>NO</td>\n",
       "      <td>NO</td>\n",
       "      <td>RESULTADO_GENERADO                            ...</td>\n",
       "      <td>1</td>\n",
       "      <td>29628</td>\n",
       "      <td>RT-PCR</td>\n",
       "      <td>3/29/20</td>\n",
       "      <td>BOGOTA DC</td>\n",
       "      <td>BOGOTA DC</td>\n",
       "      <td>JUAN</td>\n",
       "      <td>SEBASTIAN</td>\n",
       "      <td>Sunday</td>\n",
       "    </tr>\n",
       "  </tbody>\n",
       "</table>\n",
       "</div>"
      ],
      "text/plain": [
       "   ID FechaMuestra       ZonaGeografica         TipoDocumento   Documento  \\\n",
       "0   1   2020-03-26  BOGOTA DC-BOGOTA DC  Cédula de ciudadania  1234567891   \n",
       "1   2   2020-03-29  BOGOTA DC-BOGOTA DC  Cédula de ciudadania  1234567892   \n",
       "\n",
       "                                              Evento         Nombres  \\\n",
       "0  INFLUENZA HUMANA POR VIRUS NUEVO              ...     DIANA MARIA   \n",
       "1  INFLUENZA HUMANA POR VIRUS NUEVO              ...  JUAN SEBASTIAN   \n",
       "\n",
       "       Apellidos       Sexo       Condicion_Final        EAPB Pais_Residencia  \\\n",
       "0  MEJIA FONSECA   Femenino                        ALIANSALUD        COLOMBIA   \n",
       "1  MEJIA FONSECA  Masculino                          SURA EPS        COLOMBIA   \n",
       "\n",
       "  Departamento_Residencia Municipio_Residencia Trabajador_Salud  \\\n",
       "0               BOGOTA DC            BOGOTA DC               NO   \n",
       "1               BOGOTA DC            BOGOTA DC               NO   \n",
       "\n",
       "  Contacto_Caso_Confirmado                                         EstadoCaso  \\\n",
       "0                       NO  RESULTADO_GENERADO                            ...   \n",
       "1                       NO  RESULTADO_GENERADO                            ...   \n",
       "\n",
       "   GenerarResultado  FiltroUsuario Tipo_Prueba Fecha_Resultado Departamento  \\\n",
       "0                 1          29628      RT-PCR         3/26/20    BOGOTA DC   \n",
       "1                 1          29628      RT-PCR         3/29/20    BOGOTA DC   \n",
       "\n",
       "      Ciudad PrimerNombre SegundoNombre   WeekDay  \n",
       "0  BOGOTA DC        DIANA         MARIA  Thursday  \n",
       "1  BOGOTA DC         JUAN     SEBASTIAN    Sunday  "
      ]
     },
     "execution_count": 16,
     "metadata": {},
     "output_type": "execute_result"
    }
   ],
   "source": [
    "# You can create additional information with the date as WeekDay\n",
    "# holidays\n",
    "\n",
    "data['WeekDay'] = data.FechaMuestra.dt.day_name()\n",
    "data.head(2)"
   ]
  },
  {
   "cell_type": "code",
   "execution_count": 17,
   "metadata": {},
   "outputs": [
    {
     "data": {
      "text/plain": [
       "array(['Thursday', 'Sunday', 'Friday', 'Tuesday', 'Monday', 'Wednesday',\n",
       "       'Saturday'], dtype=object)"
      ]
     },
     "execution_count": 17,
     "metadata": {},
     "output_type": "execute_result"
    }
   ],
   "source": [
    "data.WeekDay.unique()"
   ]
  },
  {
   "cell_type": "code",
   "execution_count": 18,
   "metadata": {},
   "outputs": [],
   "source": [
    "# You can convert the column as categorical and do it ordered.\n",
    "cat_dtype = pd.api.types.CategoricalDtype(categories=['Monday','Tuesday','Wednesday','Thursday', 'Friday', 'Sunday', 'Saturday'], ordered=True)\n",
    "data.WeekDay = data.WeekDay.astype(cat_dtype) # int str "
   ]
  },
  {
   "cell_type": "code",
   "execution_count": 19,
   "metadata": {},
   "outputs": [
    {
     "data": {
      "text/plain": [
       "[Thursday, Sunday, Friday, Tuesday, Monday, Wednesday, Saturday]\n",
       "Categories (7, object): [Monday < Tuesday < Wednesday < Thursday < Friday < Sunday < Saturday]"
      ]
     },
     "execution_count": 19,
     "metadata": {},
     "output_type": "execute_result"
    }
   ],
   "source": [
    "data.WeekDay.unique()"
   ]
  },
  {
   "cell_type": "markdown",
   "metadata": {},
   "source": [
    "### Replacing null values\n",
    "\n",
    "Now, we can do a `describe()` on the categorical variables to see more information about them:"
   ]
  },
  {
   "cell_type": "code",
   "execution_count": 20,
   "metadata": {},
   "outputs": [
    {
     "data": {
      "text/html": [
       "<div>\n",
       "<style scoped>\n",
       "    .dataframe tbody tr th:only-of-type {\n",
       "        vertical-align: middle;\n",
       "    }\n",
       "\n",
       "    .dataframe tbody tr th {\n",
       "        vertical-align: top;\n",
       "    }\n",
       "\n",
       "    .dataframe thead th {\n",
       "        text-align: right;\n",
       "    }\n",
       "</style>\n",
       "<table border=\"1\" class=\"dataframe\">\n",
       "  <thead>\n",
       "    <tr style=\"text-align: right;\">\n",
       "      <th></th>\n",
       "      <th>ZonaGeografica</th>\n",
       "      <th>TipoDocumento</th>\n",
       "      <th>Evento</th>\n",
       "      <th>Nombres</th>\n",
       "      <th>Apellidos</th>\n",
       "      <th>Sexo</th>\n",
       "      <th>Condicion_Final</th>\n",
       "      <th>EAPB</th>\n",
       "      <th>Pais_Residencia</th>\n",
       "      <th>Departamento_Residencia</th>\n",
       "      <th>Municipio_Residencia</th>\n",
       "      <th>Trabajador_Salud</th>\n",
       "      <th>Contacto_Caso_Confirmado</th>\n",
       "      <th>EstadoCaso</th>\n",
       "      <th>Tipo_Prueba</th>\n",
       "      <th>Fecha_Resultado</th>\n",
       "      <th>Departamento</th>\n",
       "      <th>Ciudad</th>\n",
       "      <th>PrimerNombre</th>\n",
       "      <th>SegundoNombre</th>\n",
       "    </tr>\n",
       "  </thead>\n",
       "  <tbody>\n",
       "    <tr>\n",
       "      <th>count</th>\n",
       "      <td>23034</td>\n",
       "      <td>23034</td>\n",
       "      <td>23034</td>\n",
       "      <td>23034</td>\n",
       "      <td>23034</td>\n",
       "      <td>22860</td>\n",
       "      <td>23034</td>\n",
       "      <td>19706</td>\n",
       "      <td>8799</td>\n",
       "      <td>8504</td>\n",
       "      <td>8529</td>\n",
       "      <td>23034</td>\n",
       "      <td>23034</td>\n",
       "      <td>23034</td>\n",
       "      <td>23034</td>\n",
       "      <td>23034</td>\n",
       "      <td>23034</td>\n",
       "      <td>23034</td>\n",
       "      <td>23034</td>\n",
       "      <td>17540</td>\n",
       "    </tr>\n",
       "    <tr>\n",
       "      <th>unique</th>\n",
       "      <td>2</td>\n",
       "      <td>9</td>\n",
       "      <td>5</td>\n",
       "      <td>12928</td>\n",
       "      <td>1</td>\n",
       "      <td>4</td>\n",
       "      <td>3</td>\n",
       "      <td>114</td>\n",
       "      <td>4</td>\n",
       "      <td>8</td>\n",
       "      <td>101</td>\n",
       "      <td>2</td>\n",
       "      <td>2</td>\n",
       "      <td>1</td>\n",
       "      <td>1</td>\n",
       "      <td>102</td>\n",
       "      <td>2</td>\n",
       "      <td>2</td>\n",
       "      <td>3384</td>\n",
       "      <td>2952</td>\n",
       "    </tr>\n",
       "    <tr>\n",
       "      <th>top</th>\n",
       "      <td>BOGOTA DC-BOGOTA DC</td>\n",
       "      <td>Cédula de ciudadania</td>\n",
       "      <td>INFLUENZA HUMANA POR VIRUS NUEVO              ...</td>\n",
       "      <td>JUAN CARLOS</td>\n",
       "      <td>MEJIA FONSECA</td>\n",
       "      <td>Femenino</td>\n",
       "      <td></td>\n",
       "      <td>COMPENSAR EPS</td>\n",
       "      <td>COLOMBIA</td>\n",
       "      <td>BOGOTA DC</td>\n",
       "      <td>BOGOTA DC</td>\n",
       "      <td>NO</td>\n",
       "      <td>NO</td>\n",
       "      <td>RESULTADO_GENERADO                            ...</td>\n",
       "      <td>RT-PCR</td>\n",
       "      <td>5/21/20</td>\n",
       "      <td>BOGOTA DC</td>\n",
       "      <td>BOGOTA DC</td>\n",
       "      <td>MARIA</td>\n",
       "      <td>ANDRES</td>\n",
       "    </tr>\n",
       "    <tr>\n",
       "      <th>freq</th>\n",
       "      <td>22326</td>\n",
       "      <td>20278</td>\n",
       "      <td>22063</td>\n",
       "      <td>74</td>\n",
       "      <td>23034</td>\n",
       "      <td>11756</td>\n",
       "      <td>16923</td>\n",
       "      <td>3829</td>\n",
       "      <td>8796</td>\n",
       "      <td>8479</td>\n",
       "      <td>8145</td>\n",
       "      <td>22501</td>\n",
       "      <td>20969</td>\n",
       "      <td>23034</td>\n",
       "      <td>23034</td>\n",
       "      <td>790</td>\n",
       "      <td>22326</td>\n",
       "      <td>22326</td>\n",
       "      <td>1166</td>\n",
       "      <td>361</td>\n",
       "    </tr>\n",
       "  </tbody>\n",
       "</table>\n",
       "</div>"
      ],
      "text/plain": [
       "             ZonaGeografica         TipoDocumento  \\\n",
       "count                 23034                 23034   \n",
       "unique                    2                     9   \n",
       "top     BOGOTA DC-BOGOTA DC  Cédula de ciudadania   \n",
       "freq                  22326                 20278   \n",
       "\n",
       "                                                   Evento      Nombres  \\\n",
       "count                                               23034        23034   \n",
       "unique                                                  5        12928   \n",
       "top     INFLUENZA HUMANA POR VIRUS NUEVO              ...  JUAN CARLOS   \n",
       "freq                                                22063           74   \n",
       "\n",
       "            Apellidos      Sexo       Condicion_Final           EAPB  \\\n",
       "count           23034     22860                 23034          19706   \n",
       "unique              1         4                     3            114   \n",
       "top     MEJIA FONSECA  Femenino                        COMPENSAR EPS   \n",
       "freq            23034     11756                 16923           3829   \n",
       "\n",
       "       Pais_Residencia Departamento_Residencia Municipio_Residencia  \\\n",
       "count             8799                    8504                 8529   \n",
       "unique               4                       8                  101   \n",
       "top           COLOMBIA               BOGOTA DC            BOGOTA DC   \n",
       "freq              8796                    8479                 8145   \n",
       "\n",
       "       Trabajador_Salud Contacto_Caso_Confirmado  \\\n",
       "count             23034                    23034   \n",
       "unique                2                        2   \n",
       "top                  NO                       NO   \n",
       "freq              22501                    20969   \n",
       "\n",
       "                                               EstadoCaso Tipo_Prueba  \\\n",
       "count                                               23034       23034   \n",
       "unique                                                  1           1   \n",
       "top     RESULTADO_GENERADO                            ...      RT-PCR   \n",
       "freq                                                23034       23034   \n",
       "\n",
       "       Fecha_Resultado Departamento     Ciudad PrimerNombre SegundoNombre  \n",
       "count            23034        23034      23034        23034         17540  \n",
       "unique             102            2          2         3384          2952  \n",
       "top            5/21/20    BOGOTA DC  BOGOTA DC        MARIA        ANDRES  \n",
       "freq               790        22326      22326         1166           361  "
      ]
     },
     "execution_count": 20,
     "metadata": {},
     "output_type": "execute_result"
    }
   ],
   "source": [
    "data.describe(include ='O')"
   ]
  },
  {
   "cell_type": "markdown",
   "metadata": {},
   "source": [
    "For example, `Sexo` has four categories:"
   ]
  },
  {
   "cell_type": "code",
   "execution_count": 21,
   "metadata": {},
   "outputs": [
    {
     "data": {
      "text/plain": [
       "array(['Femenino', 'Masculino', 'Mujer', 'Hombre', nan], dtype=object)"
      ]
     },
     "execution_count": 21,
     "metadata": {},
     "output_type": "execute_result"
    }
   ],
   "source": [
    "data.Sexo.unique()"
   ]
  },
  {
   "cell_type": "markdown",
   "metadata": {},
   "source": [
    "You can see that there are problems with this column; namely, you need to unify the values and replace the null ones:"
   ]
  },
  {
   "cell_type": "code",
   "execution_count": 22,
   "metadata": {},
   "outputs": [],
   "source": [
    "# valor q aparece y el valor por el q se va a reemplazar\n",
    "sexo = {'Mujer':'Femenino','Hombre':'Masculino','Femenino':'Femenino','Masculino':'Masculino'}"
   ]
  },
  {
   "cell_type": "code",
   "execution_count": 23,
   "metadata": {},
   "outputs": [],
   "source": [
    "data.Sexo = data.Sexo.map(sexo)"
   ]
  },
  {
   "cell_type": "code",
   "execution_count": 24,
   "metadata": {},
   "outputs": [
    {
     "data": {
      "text/plain": [
       "array(['Femenino', 'Masculino', nan], dtype=object)"
      ]
     },
     "execution_count": 24,
     "metadata": {},
     "output_type": "execute_result"
    }
   ],
   "source": [
    "data.Sexo.unique()"
   ]
  },
  {
   "cell_type": "code",
   "execution_count": 25,
   "metadata": {},
   "outputs": [],
   "source": [
    "data.Sexo.fillna('Sin Información', inplace = True)"
   ]
  },
  {
   "cell_type": "code",
   "execution_count": 26,
   "metadata": {},
   "outputs": [
    {
     "data": {
      "text/plain": [
       "array(['Femenino', 'Masculino', 'Sin Información'], dtype=object)"
      ]
     },
     "execution_count": 26,
     "metadata": {},
     "output_type": "execute_result"
    }
   ],
   "source": [
    "data.Sexo.unique()"
   ]
  },
  {
   "cell_type": "markdown",
   "metadata": {},
   "source": [
    "### Encoding labels\n",
    "\n",
    "Sometimes, it is helpful to encode categorical variable values as numbers instead of text:"
   ]
  },
  {
   "cell_type": "code",
   "execution_count": 27,
   "metadata": {},
   "outputs": [
    {
     "name": "stdout",
     "output_type": "stream",
     "text": [
      "<class 'pandas.core.frame.DataFrame'>\n",
      "RangeIndex: 23034 entries, 0 to 23033\n",
      "Data columns (total 26 columns):\n",
      "ID                          23034 non-null int64\n",
      "FechaMuestra                23034 non-null datetime64[ns]\n",
      "ZonaGeografica              23034 non-null object\n",
      "TipoDocumento               23034 non-null object\n",
      "Documento                   23034 non-null int64\n",
      "Evento                      23034 non-null object\n",
      "Nombres                     23034 non-null object\n",
      "Apellidos                   23034 non-null object\n",
      "Sexo                        23034 non-null object\n",
      "Condicion_Final             23034 non-null object\n",
      "EAPB                        19706 non-null object\n",
      "Pais_Residencia             8799 non-null object\n",
      "Departamento_Residencia     8504 non-null object\n",
      "Municipio_Residencia        8529 non-null object\n",
      "Trabajador_Salud            23034 non-null object\n",
      "Contacto_Caso_Confirmado    23034 non-null object\n",
      "EstadoCaso                  23034 non-null object\n",
      "GenerarResultado            23034 non-null int64\n",
      "FiltroUsuario               23034 non-null int64\n",
      "Tipo_Prueba                 23034 non-null object\n",
      "Fecha_Resultado             23034 non-null object\n",
      "Departamento                23034 non-null object\n",
      "Ciudad                      23034 non-null object\n",
      "PrimerNombre                23034 non-null object\n",
      "SegundoNombre               17540 non-null object\n",
      "WeekDay                     23034 non-null category\n",
      "dtypes: category(1), datetime64[ns](1), int64(4), object(20)\n",
      "memory usage: 4.4+ MB\n"
     ]
    }
   ],
   "source": [
    "data.info()"
   ]
  },
  {
   "cell_type": "code",
   "execution_count": 28,
   "metadata": {},
   "outputs": [],
   "source": [
    "data.Sexo = data.Sexo.astype('category')\n",
    "#despues aparece como categoria no ordenada"
   ]
  },
  {
   "cell_type": "code",
   "execution_count": 29,
   "metadata": {},
   "outputs": [
    {
     "data": {
      "text/plain": [
       "[Femenino, Masculino, Sin Información]\n",
       "Categories (3, object): [Femenino, Masculino, Sin Información]"
      ]
     },
     "execution_count": 29,
     "metadata": {},
     "output_type": "execute_result"
    }
   ],
   "source": [
    "data.Sexo.unique()"
   ]
  },
  {
   "cell_type": "code",
   "execution_count": 30,
   "metadata": {},
   "outputs": [
    {
     "data": {
      "text/html": [
       "<div>\n",
       "<style scoped>\n",
       "    .dataframe tbody tr th:only-of-type {\n",
       "        vertical-align: middle;\n",
       "    }\n",
       "\n",
       "    .dataframe tbody tr th {\n",
       "        vertical-align: top;\n",
       "    }\n",
       "\n",
       "    .dataframe thead th {\n",
       "        text-align: right;\n",
       "    }\n",
       "</style>\n",
       "<table border=\"1\" class=\"dataframe\">\n",
       "  <thead>\n",
       "    <tr style=\"text-align: right;\">\n",
       "      <th></th>\n",
       "      <th>ID</th>\n",
       "      <th>FechaMuestra</th>\n",
       "      <th>ZonaGeografica</th>\n",
       "      <th>TipoDocumento</th>\n",
       "      <th>Documento</th>\n",
       "      <th>Evento</th>\n",
       "      <th>Nombres</th>\n",
       "      <th>Apellidos</th>\n",
       "      <th>Sexo</th>\n",
       "      <th>Condicion_Final</th>\n",
       "      <th>EAPB</th>\n",
       "      <th>Pais_Residencia</th>\n",
       "      <th>Departamento_Residencia</th>\n",
       "      <th>Municipio_Residencia</th>\n",
       "      <th>Trabajador_Salud</th>\n",
       "      <th>Contacto_Caso_Confirmado</th>\n",
       "      <th>EstadoCaso</th>\n",
       "      <th>GenerarResultado</th>\n",
       "      <th>FiltroUsuario</th>\n",
       "      <th>Tipo_Prueba</th>\n",
       "      <th>Fecha_Resultado</th>\n",
       "      <th>Departamento</th>\n",
       "      <th>Ciudad</th>\n",
       "      <th>PrimerNombre</th>\n",
       "      <th>SegundoNombre</th>\n",
       "      <th>WeekDay</th>\n",
       "    </tr>\n",
       "  </thead>\n",
       "  <tbody>\n",
       "    <tr>\n",
       "      <th>0</th>\n",
       "      <td>1</td>\n",
       "      <td>2020-03-26</td>\n",
       "      <td>BOGOTA DC-BOGOTA DC</td>\n",
       "      <td>Cédula de ciudadania</td>\n",
       "      <td>1234567891</td>\n",
       "      <td>INFLUENZA HUMANA POR VIRUS NUEVO              ...</td>\n",
       "      <td>DIANA MARIA</td>\n",
       "      <td>MEJIA FONSECA</td>\n",
       "      <td>Femenino</td>\n",
       "      <td></td>\n",
       "      <td>ALIANSALUD</td>\n",
       "      <td>COLOMBIA</td>\n",
       "      <td>BOGOTA DC</td>\n",
       "      <td>BOGOTA DC</td>\n",
       "      <td>NO</td>\n",
       "      <td>NO</td>\n",
       "      <td>RESULTADO_GENERADO                            ...</td>\n",
       "      <td>1</td>\n",
       "      <td>29628</td>\n",
       "      <td>RT-PCR</td>\n",
       "      <td>3/26/20</td>\n",
       "      <td>BOGOTA DC</td>\n",
       "      <td>BOGOTA DC</td>\n",
       "      <td>DIANA</td>\n",
       "      <td>MARIA</td>\n",
       "      <td>Thursday</td>\n",
       "    </tr>\n",
       "    <tr>\n",
       "      <th>1</th>\n",
       "      <td>2</td>\n",
       "      <td>2020-03-29</td>\n",
       "      <td>BOGOTA DC-BOGOTA DC</td>\n",
       "      <td>Cédula de ciudadania</td>\n",
       "      <td>1234567892</td>\n",
       "      <td>INFLUENZA HUMANA POR VIRUS NUEVO              ...</td>\n",
       "      <td>JUAN SEBASTIAN</td>\n",
       "      <td>MEJIA FONSECA</td>\n",
       "      <td>Masculino</td>\n",
       "      <td></td>\n",
       "      <td>SURA EPS</td>\n",
       "      <td>COLOMBIA</td>\n",
       "      <td>BOGOTA DC</td>\n",
       "      <td>BOGOTA DC</td>\n",
       "      <td>NO</td>\n",
       "      <td>NO</td>\n",
       "      <td>RESULTADO_GENERADO                            ...</td>\n",
       "      <td>1</td>\n",
       "      <td>29628</td>\n",
       "      <td>RT-PCR</td>\n",
       "      <td>3/29/20</td>\n",
       "      <td>BOGOTA DC</td>\n",
       "      <td>BOGOTA DC</td>\n",
       "      <td>JUAN</td>\n",
       "      <td>SEBASTIAN</td>\n",
       "      <td>Sunday</td>\n",
       "    </tr>\n",
       "  </tbody>\n",
       "</table>\n",
       "</div>"
      ],
      "text/plain": [
       "   ID FechaMuestra       ZonaGeografica         TipoDocumento   Documento  \\\n",
       "0   1   2020-03-26  BOGOTA DC-BOGOTA DC  Cédula de ciudadania  1234567891   \n",
       "1   2   2020-03-29  BOGOTA DC-BOGOTA DC  Cédula de ciudadania  1234567892   \n",
       "\n",
       "                                              Evento         Nombres  \\\n",
       "0  INFLUENZA HUMANA POR VIRUS NUEVO              ...     DIANA MARIA   \n",
       "1  INFLUENZA HUMANA POR VIRUS NUEVO              ...  JUAN SEBASTIAN   \n",
       "\n",
       "       Apellidos       Sexo       Condicion_Final        EAPB Pais_Residencia  \\\n",
       "0  MEJIA FONSECA   Femenino                        ALIANSALUD        COLOMBIA   \n",
       "1  MEJIA FONSECA  Masculino                          SURA EPS        COLOMBIA   \n",
       "\n",
       "  Departamento_Residencia Municipio_Residencia Trabajador_Salud  \\\n",
       "0               BOGOTA DC            BOGOTA DC               NO   \n",
       "1               BOGOTA DC            BOGOTA DC               NO   \n",
       "\n",
       "  Contacto_Caso_Confirmado                                         EstadoCaso  \\\n",
       "0                       NO  RESULTADO_GENERADO                            ...   \n",
       "1                       NO  RESULTADO_GENERADO                            ...   \n",
       "\n",
       "   GenerarResultado  FiltroUsuario Tipo_Prueba Fecha_Resultado Departamento  \\\n",
       "0                 1          29628      RT-PCR         3/26/20    BOGOTA DC   \n",
       "1                 1          29628      RT-PCR         3/29/20    BOGOTA DC   \n",
       "\n",
       "      Ciudad PrimerNombre SegundoNombre   WeekDay  \n",
       "0  BOGOTA DC        DIANA         MARIA  Thursday  \n",
       "1  BOGOTA DC         JUAN     SEBASTIAN    Sunday  "
      ]
     },
     "execution_count": 30,
     "metadata": {},
     "output_type": "execute_result"
    }
   ],
   "source": [
    "data.head(2)"
   ]
  },
  {
   "cell_type": "markdown",
   "metadata": {},
   "source": [
    "Then you can assign the encoded variable to a new column:"
   ]
  },
  {
   "cell_type": "code",
   "execution_count": 31,
   "metadata": {},
   "outputs": [
    {
     "data": {
      "text/plain": [
       "0        0\n",
       "1        1\n",
       "2        0\n",
       "3        1\n",
       "4        0\n",
       "5        0\n",
       "6        0\n",
       "7        1\n",
       "8        0\n",
       "9        1\n",
       "10       0\n",
       "11       0\n",
       "12       0\n",
       "13       0\n",
       "14       0\n",
       "15       1\n",
       "16       1\n",
       "17       1\n",
       "18       1\n",
       "19       0\n",
       "20       0\n",
       "21       0\n",
       "22       0\n",
       "23       1\n",
       "24       1\n",
       "25       0\n",
       "26       1\n",
       "27       0\n",
       "28       0\n",
       "29       1\n",
       "        ..\n",
       "23004    0\n",
       "23005    0\n",
       "23006    1\n",
       "23007    0\n",
       "23008    0\n",
       "23009    0\n",
       "23010    0\n",
       "23011    0\n",
       "23012    1\n",
       "23013    1\n",
       "23014    1\n",
       "23015    0\n",
       "23016    1\n",
       "23017    0\n",
       "23018    0\n",
       "23019    0\n",
       "23020    1\n",
       "23021    0\n",
       "23022    0\n",
       "23023    0\n",
       "23024    0\n",
       "23025    1\n",
       "23026    0\n",
       "23027    1\n",
       "23028    1\n",
       "23029    0\n",
       "23030    1\n",
       "23031    0\n",
       "23032    1\n",
       "23033    0\n",
       "Length: 23034, dtype: int8"
      ]
     },
     "execution_count": 31,
     "metadata": {},
     "output_type": "execute_result"
    }
   ],
   "source": [
    "data.Sexo.cat.codes"
   ]
  },
  {
   "cell_type": "code",
   "execution_count": 32,
   "metadata": {},
   "outputs": [],
   "source": [
    "# you \n",
    "data['SexoCat'] = data.Sexo.cat.codes"
   ]
  },
  {
   "cell_type": "code",
   "execution_count": 33,
   "metadata": {},
   "outputs": [
    {
     "data": {
      "text/html": [
       "<div>\n",
       "<style scoped>\n",
       "    .dataframe tbody tr th:only-of-type {\n",
       "        vertical-align: middle;\n",
       "    }\n",
       "\n",
       "    .dataframe tbody tr th {\n",
       "        vertical-align: top;\n",
       "    }\n",
       "\n",
       "    .dataframe thead th {\n",
       "        text-align: right;\n",
       "    }\n",
       "</style>\n",
       "<table border=\"1\" class=\"dataframe\">\n",
       "  <thead>\n",
       "    <tr style=\"text-align: right;\">\n",
       "      <th></th>\n",
       "      <th>ID</th>\n",
       "      <th>FechaMuestra</th>\n",
       "      <th>ZonaGeografica</th>\n",
       "      <th>TipoDocumento</th>\n",
       "      <th>Documento</th>\n",
       "      <th>Evento</th>\n",
       "      <th>Nombres</th>\n",
       "      <th>Apellidos</th>\n",
       "      <th>Sexo</th>\n",
       "      <th>Condicion_Final</th>\n",
       "      <th>EAPB</th>\n",
       "      <th>Pais_Residencia</th>\n",
       "      <th>Departamento_Residencia</th>\n",
       "      <th>Municipio_Residencia</th>\n",
       "      <th>Trabajador_Salud</th>\n",
       "      <th>Contacto_Caso_Confirmado</th>\n",
       "      <th>EstadoCaso</th>\n",
       "      <th>GenerarResultado</th>\n",
       "      <th>FiltroUsuario</th>\n",
       "      <th>Tipo_Prueba</th>\n",
       "      <th>Fecha_Resultado</th>\n",
       "      <th>Departamento</th>\n",
       "      <th>Ciudad</th>\n",
       "      <th>PrimerNombre</th>\n",
       "      <th>SegundoNombre</th>\n",
       "      <th>WeekDay</th>\n",
       "      <th>SexoCat</th>\n",
       "    </tr>\n",
       "  </thead>\n",
       "  <tbody>\n",
       "    <tr>\n",
       "      <th>0</th>\n",
       "      <td>1</td>\n",
       "      <td>2020-03-26</td>\n",
       "      <td>BOGOTA DC-BOGOTA DC</td>\n",
       "      <td>Cédula de ciudadania</td>\n",
       "      <td>1234567891</td>\n",
       "      <td>INFLUENZA HUMANA POR VIRUS NUEVO              ...</td>\n",
       "      <td>DIANA MARIA</td>\n",
       "      <td>MEJIA FONSECA</td>\n",
       "      <td>Femenino</td>\n",
       "      <td></td>\n",
       "      <td>ALIANSALUD</td>\n",
       "      <td>COLOMBIA</td>\n",
       "      <td>BOGOTA DC</td>\n",
       "      <td>BOGOTA DC</td>\n",
       "      <td>NO</td>\n",
       "      <td>NO</td>\n",
       "      <td>RESULTADO_GENERADO                            ...</td>\n",
       "      <td>1</td>\n",
       "      <td>29628</td>\n",
       "      <td>RT-PCR</td>\n",
       "      <td>3/26/20</td>\n",
       "      <td>BOGOTA DC</td>\n",
       "      <td>BOGOTA DC</td>\n",
       "      <td>DIANA</td>\n",
       "      <td>MARIA</td>\n",
       "      <td>Thursday</td>\n",
       "      <td>0</td>\n",
       "    </tr>\n",
       "    <tr>\n",
       "      <th>1</th>\n",
       "      <td>2</td>\n",
       "      <td>2020-03-29</td>\n",
       "      <td>BOGOTA DC-BOGOTA DC</td>\n",
       "      <td>Cédula de ciudadania</td>\n",
       "      <td>1234567892</td>\n",
       "      <td>INFLUENZA HUMANA POR VIRUS NUEVO              ...</td>\n",
       "      <td>JUAN SEBASTIAN</td>\n",
       "      <td>MEJIA FONSECA</td>\n",
       "      <td>Masculino</td>\n",
       "      <td></td>\n",
       "      <td>SURA EPS</td>\n",
       "      <td>COLOMBIA</td>\n",
       "      <td>BOGOTA DC</td>\n",
       "      <td>BOGOTA DC</td>\n",
       "      <td>NO</td>\n",
       "      <td>NO</td>\n",
       "      <td>RESULTADO_GENERADO                            ...</td>\n",
       "      <td>1</td>\n",
       "      <td>29628</td>\n",
       "      <td>RT-PCR</td>\n",
       "      <td>3/29/20</td>\n",
       "      <td>BOGOTA DC</td>\n",
       "      <td>BOGOTA DC</td>\n",
       "      <td>JUAN</td>\n",
       "      <td>SEBASTIAN</td>\n",
       "      <td>Sunday</td>\n",
       "      <td>1</td>\n",
       "    </tr>\n",
       "  </tbody>\n",
       "</table>\n",
       "</div>"
      ],
      "text/plain": [
       "   ID FechaMuestra       ZonaGeografica         TipoDocumento   Documento  \\\n",
       "0   1   2020-03-26  BOGOTA DC-BOGOTA DC  Cédula de ciudadania  1234567891   \n",
       "1   2   2020-03-29  BOGOTA DC-BOGOTA DC  Cédula de ciudadania  1234567892   \n",
       "\n",
       "                                              Evento         Nombres  \\\n",
       "0  INFLUENZA HUMANA POR VIRUS NUEVO              ...     DIANA MARIA   \n",
       "1  INFLUENZA HUMANA POR VIRUS NUEVO              ...  JUAN SEBASTIAN   \n",
       "\n",
       "       Apellidos       Sexo       Condicion_Final        EAPB Pais_Residencia  \\\n",
       "0  MEJIA FONSECA   Femenino                        ALIANSALUD        COLOMBIA   \n",
       "1  MEJIA FONSECA  Masculino                          SURA EPS        COLOMBIA   \n",
       "\n",
       "  Departamento_Residencia Municipio_Residencia Trabajador_Salud  \\\n",
       "0               BOGOTA DC            BOGOTA DC               NO   \n",
       "1               BOGOTA DC            BOGOTA DC               NO   \n",
       "\n",
       "  Contacto_Caso_Confirmado                                         EstadoCaso  \\\n",
       "0                       NO  RESULTADO_GENERADO                            ...   \n",
       "1                       NO  RESULTADO_GENERADO                            ...   \n",
       "\n",
       "   GenerarResultado  FiltroUsuario Tipo_Prueba Fecha_Resultado Departamento  \\\n",
       "0                 1          29628      RT-PCR         3/26/20    BOGOTA DC   \n",
       "1                 1          29628      RT-PCR         3/29/20    BOGOTA DC   \n",
       "\n",
       "      Ciudad PrimerNombre SegundoNombre   WeekDay  SexoCat  \n",
       "0  BOGOTA DC        DIANA         MARIA  Thursday        0  \n",
       "1  BOGOTA DC         JUAN     SEBASTIAN    Sunday        1  "
      ]
     },
     "execution_count": 33,
     "metadata": {},
     "output_type": "execute_result"
    }
   ],
   "source": [
    "data.head(2)"
   ]
  },
  {
   "cell_type": "code",
   "execution_count": 34,
   "metadata": {
    "scrolled": true
   },
   "outputs": [
    {
     "data": {
      "text/html": [
       "<div>\n",
       "<style scoped>\n",
       "    .dataframe tbody tr th:only-of-type {\n",
       "        vertical-align: middle;\n",
       "    }\n",
       "\n",
       "    .dataframe tbody tr th {\n",
       "        vertical-align: top;\n",
       "    }\n",
       "\n",
       "    .dataframe thead th {\n",
       "        text-align: right;\n",
       "    }\n",
       "</style>\n",
       "<table border=\"1\" class=\"dataframe\">\n",
       "  <thead>\n",
       "    <tr style=\"text-align: right;\">\n",
       "      <th></th>\n",
       "      <th>Sexo</th>\n",
       "      <th>CodeSexo</th>\n",
       "    </tr>\n",
       "  </thead>\n",
       "  <tbody>\n",
       "    <tr>\n",
       "      <th>0</th>\n",
       "      <td>Femenino</td>\n",
       "      <td>0</td>\n",
       "    </tr>\n",
       "    <tr>\n",
       "      <th>1</th>\n",
       "      <td>Masculino</td>\n",
       "      <td>1</td>\n",
       "    </tr>\n",
       "    <tr>\n",
       "      <th>2</th>\n",
       "      <td>Femenino</td>\n",
       "      <td>0</td>\n",
       "    </tr>\n",
       "    <tr>\n",
       "      <th>3</th>\n",
       "      <td>Masculino</td>\n",
       "      <td>1</td>\n",
       "    </tr>\n",
       "    <tr>\n",
       "      <th>4</th>\n",
       "      <td>Femenino</td>\n",
       "      <td>0</td>\n",
       "    </tr>\n",
       "    <tr>\n",
       "      <th>5</th>\n",
       "      <td>Femenino</td>\n",
       "      <td>0</td>\n",
       "    </tr>\n",
       "    <tr>\n",
       "      <th>6</th>\n",
       "      <td>Femenino</td>\n",
       "      <td>0</td>\n",
       "    </tr>\n",
       "    <tr>\n",
       "      <th>7</th>\n",
       "      <td>Masculino</td>\n",
       "      <td>1</td>\n",
       "    </tr>\n",
       "    <tr>\n",
       "      <th>8</th>\n",
       "      <td>Femenino</td>\n",
       "      <td>0</td>\n",
       "    </tr>\n",
       "    <tr>\n",
       "      <th>9</th>\n",
       "      <td>Masculino</td>\n",
       "      <td>1</td>\n",
       "    </tr>\n",
       "  </tbody>\n",
       "</table>\n",
       "</div>"
      ],
      "text/plain": [
       "        Sexo  CodeSexo\n",
       "0   Femenino         0\n",
       "1  Masculino         1\n",
       "2   Femenino         0\n",
       "3  Masculino         1\n",
       "4   Femenino         0\n",
       "5   Femenino         0\n",
       "6   Femenino         0\n",
       "7  Masculino         1\n",
       "8   Femenino         0\n",
       "9  Masculino         1"
      ]
     },
     "execution_count": 34,
     "metadata": {},
     "output_type": "execute_result"
    }
   ],
   "source": [
    "from sklearn.preprocessing import LabelEncoder\n",
    "\n",
    "lb_make = LabelEncoder()\n",
    "data[\"CodeSexo\"] = lb_make.fit_transform(data[\"Sexo\"])\n",
    "data[[\"Sexo\", \"CodeSexo\"]].head(10)"
   ]
  },
  {
   "cell_type": "code",
   "execution_count": 35,
   "metadata": {},
   "outputs": [
    {
     "data": {
      "text/plain": [
       "0    11791\n",
       "1    11069\n",
       "2      174\n",
       "Name: CodeSexo, dtype: int64"
      ]
     },
     "execution_count": 35,
     "metadata": {},
     "output_type": "execute_result"
    }
   ],
   "source": [
    "data[\"CodeSexo\"].value_counts()"
   ]
  },
  {
   "cell_type": "markdown",
   "metadata": {},
   "source": [
    "### One-hot encoding\n",
    "\n",
    "We can go one step further - instead of replacing each possible value of a categorical variable with a number, we can create *separate* columns for each possible value and assign a 1 or 0 (True or False) value to that column. A 1 indicates that that particular row's value for that categorical variable matches the value corresponding to that particular column, and 0 otherwise:"
   ]
  },
  {
   "cell_type": "code",
   "execution_count": 36,
   "metadata": {},
   "outputs": [
    {
     "data": {
      "text/html": [
       "<div>\n",
       "<style scoped>\n",
       "    .dataframe tbody tr th:only-of-type {\n",
       "        vertical-align: middle;\n",
       "    }\n",
       "\n",
       "    .dataframe tbody tr th {\n",
       "        vertical-align: top;\n",
       "    }\n",
       "\n",
       "    .dataframe thead th {\n",
       "        text-align: right;\n",
       "    }\n",
       "</style>\n",
       "<table border=\"1\" class=\"dataframe\">\n",
       "  <thead>\n",
       "    <tr style=\"text-align: right;\">\n",
       "      <th></th>\n",
       "      <th>ID</th>\n",
       "      <th>FechaMuestra</th>\n",
       "      <th>ZonaGeografica</th>\n",
       "      <th>TipoDocumento</th>\n",
       "      <th>Documento</th>\n",
       "      <th>Evento</th>\n",
       "      <th>Nombres</th>\n",
       "      <th>Apellidos</th>\n",
       "      <th>Condicion_Final</th>\n",
       "      <th>EAPB</th>\n",
       "      <th>Pais_Residencia</th>\n",
       "      <th>Departamento_Residencia</th>\n",
       "      <th>Municipio_Residencia</th>\n",
       "      <th>Trabajador_Salud</th>\n",
       "      <th>Contacto_Caso_Confirmado</th>\n",
       "      <th>EstadoCaso</th>\n",
       "      <th>GenerarResultado</th>\n",
       "      <th>FiltroUsuario</th>\n",
       "      <th>Tipo_Prueba</th>\n",
       "      <th>Fecha_Resultado</th>\n",
       "      <th>Departamento</th>\n",
       "      <th>Ciudad</th>\n",
       "      <th>PrimerNombre</th>\n",
       "      <th>SegundoNombre</th>\n",
       "      <th>WeekDay</th>\n",
       "      <th>SexoCat</th>\n",
       "      <th>CodeSexo</th>\n",
       "      <th>Sexo_Femenino</th>\n",
       "      <th>Sexo_Masculino</th>\n",
       "      <th>Sexo_Sin Información</th>\n",
       "    </tr>\n",
       "  </thead>\n",
       "  <tbody>\n",
       "    <tr>\n",
       "      <th>0</th>\n",
       "      <td>1</td>\n",
       "      <td>2020-03-26</td>\n",
       "      <td>BOGOTA DC-BOGOTA DC</td>\n",
       "      <td>Cédula de ciudadania</td>\n",
       "      <td>1234567891</td>\n",
       "      <td>INFLUENZA HUMANA POR VIRUS NUEVO              ...</td>\n",
       "      <td>DIANA MARIA</td>\n",
       "      <td>MEJIA FONSECA</td>\n",
       "      <td></td>\n",
       "      <td>ALIANSALUD</td>\n",
       "      <td>COLOMBIA</td>\n",
       "      <td>BOGOTA DC</td>\n",
       "      <td>BOGOTA DC</td>\n",
       "      <td>NO</td>\n",
       "      <td>NO</td>\n",
       "      <td>RESULTADO_GENERADO                            ...</td>\n",
       "      <td>1</td>\n",
       "      <td>29628</td>\n",
       "      <td>RT-PCR</td>\n",
       "      <td>3/26/20</td>\n",
       "      <td>BOGOTA DC</td>\n",
       "      <td>BOGOTA DC</td>\n",
       "      <td>DIANA</td>\n",
       "      <td>MARIA</td>\n",
       "      <td>Thursday</td>\n",
       "      <td>0</td>\n",
       "      <td>0</td>\n",
       "      <td>1</td>\n",
       "      <td>0</td>\n",
       "      <td>0</td>\n",
       "    </tr>\n",
       "    <tr>\n",
       "      <th>1</th>\n",
       "      <td>2</td>\n",
       "      <td>2020-03-29</td>\n",
       "      <td>BOGOTA DC-BOGOTA DC</td>\n",
       "      <td>Cédula de ciudadania</td>\n",
       "      <td>1234567892</td>\n",
       "      <td>INFLUENZA HUMANA POR VIRUS NUEVO              ...</td>\n",
       "      <td>JUAN SEBASTIAN</td>\n",
       "      <td>MEJIA FONSECA</td>\n",
       "      <td></td>\n",
       "      <td>SURA EPS</td>\n",
       "      <td>COLOMBIA</td>\n",
       "      <td>BOGOTA DC</td>\n",
       "      <td>BOGOTA DC</td>\n",
       "      <td>NO</td>\n",
       "      <td>NO</td>\n",
       "      <td>RESULTADO_GENERADO                            ...</td>\n",
       "      <td>1</td>\n",
       "      <td>29628</td>\n",
       "      <td>RT-PCR</td>\n",
       "      <td>3/29/20</td>\n",
       "      <td>BOGOTA DC</td>\n",
       "      <td>BOGOTA DC</td>\n",
       "      <td>JUAN</td>\n",
       "      <td>SEBASTIAN</td>\n",
       "      <td>Sunday</td>\n",
       "      <td>1</td>\n",
       "      <td>1</td>\n",
       "      <td>0</td>\n",
       "      <td>1</td>\n",
       "      <td>0</td>\n",
       "    </tr>\n",
       "  </tbody>\n",
       "</table>\n",
       "</div>"
      ],
      "text/plain": [
       "   ID FechaMuestra       ZonaGeografica         TipoDocumento   Documento  \\\n",
       "0   1   2020-03-26  BOGOTA DC-BOGOTA DC  Cédula de ciudadania  1234567891   \n",
       "1   2   2020-03-29  BOGOTA DC-BOGOTA DC  Cédula de ciudadania  1234567892   \n",
       "\n",
       "                                              Evento         Nombres  \\\n",
       "0  INFLUENZA HUMANA POR VIRUS NUEVO              ...     DIANA MARIA   \n",
       "1  INFLUENZA HUMANA POR VIRUS NUEVO              ...  JUAN SEBASTIAN   \n",
       "\n",
       "       Apellidos       Condicion_Final        EAPB Pais_Residencia  \\\n",
       "0  MEJIA FONSECA                        ALIANSALUD        COLOMBIA   \n",
       "1  MEJIA FONSECA                          SURA EPS        COLOMBIA   \n",
       "\n",
       "  Departamento_Residencia Municipio_Residencia Trabajador_Salud  \\\n",
       "0               BOGOTA DC            BOGOTA DC               NO   \n",
       "1               BOGOTA DC            BOGOTA DC               NO   \n",
       "\n",
       "  Contacto_Caso_Confirmado                                         EstadoCaso  \\\n",
       "0                       NO  RESULTADO_GENERADO                            ...   \n",
       "1                       NO  RESULTADO_GENERADO                            ...   \n",
       "\n",
       "   GenerarResultado  FiltroUsuario Tipo_Prueba Fecha_Resultado Departamento  \\\n",
       "0                 1          29628      RT-PCR         3/26/20    BOGOTA DC   \n",
       "1                 1          29628      RT-PCR         3/29/20    BOGOTA DC   \n",
       "\n",
       "      Ciudad PrimerNombre SegundoNombre   WeekDay  SexoCat  CodeSexo  \\\n",
       "0  BOGOTA DC        DIANA         MARIA  Thursday        0         0   \n",
       "1  BOGOTA DC         JUAN     SEBASTIAN    Sunday        1         1   \n",
       "\n",
       "   Sexo_Femenino  Sexo_Masculino  Sexo_Sin Información  \n",
       "0              1               0                     0  \n",
       "1              0               1                     0  "
      ]
     },
     "execution_count": 36,
     "metadata": {},
     "output_type": "execute_result"
    }
   ],
   "source": [
    "pd.get_dummies(data, columns=[\"Sexo\"]).head(2)"
   ]
  },
  {
   "cell_type": "code",
   "execution_count": 37,
   "metadata": {},
   "outputs": [
    {
     "data": {
      "text/plain": [
       "[Femenino, Masculino, Femenino, Masculino, Femenino, ..., Femenino, Masculino, Femenino, Masculino, Femenino]\n",
       "Length: 23034\n",
       "Categories (3, object): [Femenino, Masculino, Sin Información]"
      ]
     },
     "execution_count": 37,
     "metadata": {},
     "output_type": "execute_result"
    }
   ],
   "source": [
    "data[\"Sexo\"].values"
   ]
  },
  {
   "cell_type": "code",
   "execution_count": 38,
   "metadata": {},
   "outputs": [
    {
     "data": {
      "text/html": [
       "<div>\n",
       "<style scoped>\n",
       "    .dataframe tbody tr th:only-of-type {\n",
       "        vertical-align: middle;\n",
       "    }\n",
       "\n",
       "    .dataframe tbody tr th {\n",
       "        vertical-align: top;\n",
       "    }\n",
       "\n",
       "    .dataframe thead th {\n",
       "        text-align: right;\n",
       "    }\n",
       "</style>\n",
       "<table border=\"1\" class=\"dataframe\">\n",
       "  <thead>\n",
       "    <tr style=\"text-align: right;\">\n",
       "      <th></th>\n",
       "      <th>0</th>\n",
       "      <th>1</th>\n",
       "      <th>2</th>\n",
       "    </tr>\n",
       "  </thead>\n",
       "  <tbody>\n",
       "    <tr>\n",
       "      <th>0</th>\n",
       "      <td>1</td>\n",
       "      <td>0</td>\n",
       "      <td>0</td>\n",
       "    </tr>\n",
       "    <tr>\n",
       "      <th>1</th>\n",
       "      <td>0</td>\n",
       "      <td>1</td>\n",
       "      <td>0</td>\n",
       "    </tr>\n",
       "    <tr>\n",
       "      <th>2</th>\n",
       "      <td>1</td>\n",
       "      <td>0</td>\n",
       "      <td>0</td>\n",
       "    </tr>\n",
       "    <tr>\n",
       "      <th>3</th>\n",
       "      <td>0</td>\n",
       "      <td>1</td>\n",
       "      <td>0</td>\n",
       "    </tr>\n",
       "    <tr>\n",
       "      <th>4</th>\n",
       "      <td>1</td>\n",
       "      <td>0</td>\n",
       "      <td>0</td>\n",
       "    </tr>\n",
       "  </tbody>\n",
       "</table>\n",
       "</div>"
      ],
      "text/plain": [
       "   0  1  2\n",
       "0  1  0  0\n",
       "1  0  1  0\n",
       "2  1  0  0\n",
       "3  0  1  0\n",
       "4  1  0  0"
      ]
     },
     "execution_count": 38,
     "metadata": {},
     "output_type": "execute_result"
    }
   ],
   "source": [
    "from sklearn.preprocessing import LabelBinarizer\n",
    "\n",
    "jobs_encoder = LabelBinarizer()\n",
    "jobs_encoder.fit(data['Sexo'])\n",
    "transformed = jobs_encoder.transform(data['Sexo'])\n",
    "ohe_df = pd.DataFrame(transformed)\n",
    "ohe_df.head()"
   ]
  },
  {
   "cell_type": "code",
   "execution_count": 39,
   "metadata": {},
   "outputs": [],
   "source": [
    "from sklearn.preprocessing import LabelBinarizer\n",
    "\n",
    "jobs_encoder = LabelBinarizer()\n",
    "jobs_encoder.fit(data['Sexo'])\n",
    "transformed = jobs_encoder.transform(data['Sexo'])\n",
    "ohe_df = pd.DataFrame(transformed)\n",
    "data = pd.concat([data, ohe_df], axis=1)"
   ]
  },
  {
   "cell_type": "code",
   "execution_count": 40,
   "metadata": {},
   "outputs": [
    {
     "data": {
      "text/html": [
       "<div>\n",
       "<style scoped>\n",
       "    .dataframe tbody tr th:only-of-type {\n",
       "        vertical-align: middle;\n",
       "    }\n",
       "\n",
       "    .dataframe tbody tr th {\n",
       "        vertical-align: top;\n",
       "    }\n",
       "\n",
       "    .dataframe thead th {\n",
       "        text-align: right;\n",
       "    }\n",
       "</style>\n",
       "<table border=\"1\" class=\"dataframe\">\n",
       "  <thead>\n",
       "    <tr style=\"text-align: right;\">\n",
       "      <th></th>\n",
       "      <th>ID</th>\n",
       "      <th>FechaMuestra</th>\n",
       "      <th>ZonaGeografica</th>\n",
       "      <th>TipoDocumento</th>\n",
       "      <th>Documento</th>\n",
       "      <th>Evento</th>\n",
       "      <th>Nombres</th>\n",
       "      <th>Apellidos</th>\n",
       "      <th>Sexo</th>\n",
       "      <th>Condicion_Final</th>\n",
       "      <th>EAPB</th>\n",
       "      <th>Pais_Residencia</th>\n",
       "      <th>Departamento_Residencia</th>\n",
       "      <th>Municipio_Residencia</th>\n",
       "      <th>Trabajador_Salud</th>\n",
       "      <th>Contacto_Caso_Confirmado</th>\n",
       "      <th>EstadoCaso</th>\n",
       "      <th>GenerarResultado</th>\n",
       "      <th>FiltroUsuario</th>\n",
       "      <th>Tipo_Prueba</th>\n",
       "      <th>Fecha_Resultado</th>\n",
       "      <th>Departamento</th>\n",
       "      <th>Ciudad</th>\n",
       "      <th>PrimerNombre</th>\n",
       "      <th>SegundoNombre</th>\n",
       "      <th>WeekDay</th>\n",
       "      <th>SexoCat</th>\n",
       "      <th>CodeSexo</th>\n",
       "      <th>0</th>\n",
       "      <th>1</th>\n",
       "      <th>2</th>\n",
       "    </tr>\n",
       "  </thead>\n",
       "  <tbody>\n",
       "    <tr>\n",
       "      <th>0</th>\n",
       "      <td>1</td>\n",
       "      <td>2020-03-26</td>\n",
       "      <td>BOGOTA DC-BOGOTA DC</td>\n",
       "      <td>Cédula de ciudadania</td>\n",
       "      <td>1234567891</td>\n",
       "      <td>INFLUENZA HUMANA POR VIRUS NUEVO              ...</td>\n",
       "      <td>DIANA MARIA</td>\n",
       "      <td>MEJIA FONSECA</td>\n",
       "      <td>Femenino</td>\n",
       "      <td></td>\n",
       "      <td>ALIANSALUD</td>\n",
       "      <td>COLOMBIA</td>\n",
       "      <td>BOGOTA DC</td>\n",
       "      <td>BOGOTA DC</td>\n",
       "      <td>NO</td>\n",
       "      <td>NO</td>\n",
       "      <td>RESULTADO_GENERADO                            ...</td>\n",
       "      <td>1</td>\n",
       "      <td>29628</td>\n",
       "      <td>RT-PCR</td>\n",
       "      <td>3/26/20</td>\n",
       "      <td>BOGOTA DC</td>\n",
       "      <td>BOGOTA DC</td>\n",
       "      <td>DIANA</td>\n",
       "      <td>MARIA</td>\n",
       "      <td>Thursday</td>\n",
       "      <td>0</td>\n",
       "      <td>0</td>\n",
       "      <td>1</td>\n",
       "      <td>0</td>\n",
       "      <td>0</td>\n",
       "    </tr>\n",
       "    <tr>\n",
       "      <th>1</th>\n",
       "      <td>2</td>\n",
       "      <td>2020-03-29</td>\n",
       "      <td>BOGOTA DC-BOGOTA DC</td>\n",
       "      <td>Cédula de ciudadania</td>\n",
       "      <td>1234567892</td>\n",
       "      <td>INFLUENZA HUMANA POR VIRUS NUEVO              ...</td>\n",
       "      <td>JUAN SEBASTIAN</td>\n",
       "      <td>MEJIA FONSECA</td>\n",
       "      <td>Masculino</td>\n",
       "      <td></td>\n",
       "      <td>SURA EPS</td>\n",
       "      <td>COLOMBIA</td>\n",
       "      <td>BOGOTA DC</td>\n",
       "      <td>BOGOTA DC</td>\n",
       "      <td>NO</td>\n",
       "      <td>NO</td>\n",
       "      <td>RESULTADO_GENERADO                            ...</td>\n",
       "      <td>1</td>\n",
       "      <td>29628</td>\n",
       "      <td>RT-PCR</td>\n",
       "      <td>3/29/20</td>\n",
       "      <td>BOGOTA DC</td>\n",
       "      <td>BOGOTA DC</td>\n",
       "      <td>JUAN</td>\n",
       "      <td>SEBASTIAN</td>\n",
       "      <td>Sunday</td>\n",
       "      <td>1</td>\n",
       "      <td>1</td>\n",
       "      <td>0</td>\n",
       "      <td>1</td>\n",
       "      <td>0</td>\n",
       "    </tr>\n",
       "  </tbody>\n",
       "</table>\n",
       "</div>"
      ],
      "text/plain": [
       "   ID FechaMuestra       ZonaGeografica         TipoDocumento   Documento  \\\n",
       "0   1   2020-03-26  BOGOTA DC-BOGOTA DC  Cédula de ciudadania  1234567891   \n",
       "1   2   2020-03-29  BOGOTA DC-BOGOTA DC  Cédula de ciudadania  1234567892   \n",
       "\n",
       "                                              Evento         Nombres  \\\n",
       "0  INFLUENZA HUMANA POR VIRUS NUEVO              ...     DIANA MARIA   \n",
       "1  INFLUENZA HUMANA POR VIRUS NUEVO              ...  JUAN SEBASTIAN   \n",
       "\n",
       "       Apellidos       Sexo       Condicion_Final        EAPB Pais_Residencia  \\\n",
       "0  MEJIA FONSECA   Femenino                        ALIANSALUD        COLOMBIA   \n",
       "1  MEJIA FONSECA  Masculino                          SURA EPS        COLOMBIA   \n",
       "\n",
       "  Departamento_Residencia Municipio_Residencia Trabajador_Salud  \\\n",
       "0               BOGOTA DC            BOGOTA DC               NO   \n",
       "1               BOGOTA DC            BOGOTA DC               NO   \n",
       "\n",
       "  Contacto_Caso_Confirmado                                         EstadoCaso  \\\n",
       "0                       NO  RESULTADO_GENERADO                            ...   \n",
       "1                       NO  RESULTADO_GENERADO                            ...   \n",
       "\n",
       "   GenerarResultado  FiltroUsuario Tipo_Prueba Fecha_Resultado Departamento  \\\n",
       "0                 1          29628      RT-PCR         3/26/20    BOGOTA DC   \n",
       "1                 1          29628      RT-PCR         3/29/20    BOGOTA DC   \n",
       "\n",
       "      Ciudad PrimerNombre SegundoNombre   WeekDay  SexoCat  CodeSexo  0  1  2  \n",
       "0  BOGOTA DC        DIANA         MARIA  Thursday        0         0  1  0  0  \n",
       "1  BOGOTA DC         JUAN     SEBASTIAN    Sunday        1         1  0  1  0  "
      ]
     },
     "execution_count": 40,
     "metadata": {},
     "output_type": "execute_result"
    }
   ],
   "source": [
    "data.head(2)"
   ]
  },
  {
   "cell_type": "code",
   "execution_count": 41,
   "metadata": {},
   "outputs": [],
   "source": [
    "from sklearn.preprocessing import OneHotEncoder\n",
    "\n",
    "enc = OneHotEncoder()"
   ]
  },
  {
   "cell_type": "code",
   "execution_count": 42,
   "metadata": {},
   "outputs": [
    {
     "data": {
      "text/plain": [
       "'0.24.2'"
      ]
     },
     "execution_count": 42,
     "metadata": {},
     "output_type": "execute_result"
    }
   ],
   "source": [
    "pd.__version__"
   ]
  },
  {
   "cell_type": "code",
   "execution_count": 43,
   "metadata": {},
   "outputs": [
    {
     "data": {
      "text/plain": [
       "array([['Femenino'],\n",
       "       ['Masculino'],\n",
       "       ['Femenino'],\n",
       "       ...,\n",
       "       ['Femenino'],\n",
       "       ['Masculino'],\n",
       "       ['Femenino']], dtype=object)"
      ]
     },
     "execution_count": 43,
     "metadata": {},
     "output_type": "execute_result"
    }
   ],
   "source": [
    "X = data['Sexo'].to_numpy().reshape(-1, 1)\n",
    "X"
   ]
  },
  {
   "cell_type": "code",
   "execution_count": 44,
   "metadata": {},
   "outputs": [
    {
     "data": {
      "text/plain": [
       "OneHotEncoder()"
      ]
     },
     "execution_count": 44,
     "metadata": {},
     "output_type": "execute_result"
    }
   ],
   "source": [
    "X = data['Sexo'].to_numpy().reshape(-1, 1)\n",
    "enc.fit(X)"
   ]
  },
  {
   "cell_type": "code",
   "execution_count": 45,
   "metadata": {},
   "outputs": [
    {
     "data": {
      "text/plain": [
       "[array(['Femenino', 'Masculino', 'Sin Información'], dtype=object)]"
      ]
     },
     "execution_count": 45,
     "metadata": {},
     "output_type": "execute_result"
    }
   ],
   "source": [
    "enc.categories_"
   ]
  },
  {
   "cell_type": "code",
   "execution_count": 46,
   "metadata": {},
   "outputs": [
    {
     "data": {
      "text/plain": [
       "array([[1., 0., 0.],\n",
       "       [0., 1., 0.],\n",
       "       [1., 0., 0.],\n",
       "       ...,\n",
       "       [1., 0., 0.],\n",
       "       [0., 1., 0.],\n",
       "       [1., 0., 0.]])"
      ]
     },
     "execution_count": 46,
     "metadata": {},
     "output_type": "execute_result"
    }
   ],
   "source": [
    "enc.transform(X).toarray()"
   ]
  },
  {
   "cell_type": "code",
   "execution_count": 47,
   "metadata": {},
   "outputs": [
    {
     "data": {
      "text/plain": [
       "array([['Femenino'],\n",
       "       ['Masculino'],\n",
       "       ['Sin Información']], dtype=object)"
      ]
     },
     "execution_count": 47,
     "metadata": {},
     "output_type": "execute_result"
    }
   ],
   "source": [
    "#convierte lo numerico a descripción\n",
    "enc.inverse_transform([[1., 0., 0.],[0., 1., 0.],[0., 0., 1.]])"
   ]
  },
  {
   "cell_type": "code",
   "execution_count": 48,
   "metadata": {},
   "outputs": [
    {
     "data": {
      "text/plain": [
       "array(['Gender_Femenino', 'Gender_Masculino', 'Gender_Sin Información'],\n",
       "      dtype=object)"
      ]
     },
     "execution_count": 48,
     "metadata": {},
     "output_type": "execute_result"
    }
   ],
   "source": [
    "enc.get_feature_names(['Gender'])"
   ]
  },
  {
   "cell_type": "code",
   "execution_count": 49,
   "metadata": {},
   "outputs": [
    {
     "data": {
      "text/html": [
       "<div>\n",
       "<style scoped>\n",
       "    .dataframe tbody tr th:only-of-type {\n",
       "        vertical-align: middle;\n",
       "    }\n",
       "\n",
       "    .dataframe tbody tr th {\n",
       "        vertical-align: top;\n",
       "    }\n",
       "\n",
       "    .dataframe thead th {\n",
       "        text-align: right;\n",
       "    }\n",
       "</style>\n",
       "<table border=\"1\" class=\"dataframe\">\n",
       "  <thead>\n",
       "    <tr style=\"text-align: right;\">\n",
       "      <th></th>\n",
       "      <th>ID</th>\n",
       "      <th>FechaMuestra</th>\n",
       "      <th>ZonaGeografica</th>\n",
       "      <th>TipoDocumento</th>\n",
       "      <th>Documento</th>\n",
       "      <th>Evento</th>\n",
       "      <th>Nombres</th>\n",
       "      <th>Apellidos</th>\n",
       "      <th>Sexo</th>\n",
       "      <th>Condicion_Final</th>\n",
       "      <th>EAPB</th>\n",
       "      <th>Pais_Residencia</th>\n",
       "      <th>Departamento_Residencia</th>\n",
       "      <th>Municipio_Residencia</th>\n",
       "      <th>Trabajador_Salud</th>\n",
       "      <th>Contacto_Caso_Confirmado</th>\n",
       "      <th>EstadoCaso</th>\n",
       "      <th>GenerarResultado</th>\n",
       "      <th>FiltroUsuario</th>\n",
       "      <th>Tipo_Prueba</th>\n",
       "      <th>Fecha_Resultado</th>\n",
       "      <th>Departamento</th>\n",
       "      <th>Ciudad</th>\n",
       "      <th>PrimerNombre</th>\n",
       "      <th>SegundoNombre</th>\n",
       "      <th>WeekDay</th>\n",
       "      <th>SexoCat</th>\n",
       "      <th>CodeSexo</th>\n",
       "      <th>0</th>\n",
       "      <th>1</th>\n",
       "      <th>2</th>\n",
       "    </tr>\n",
       "  </thead>\n",
       "  <tbody>\n",
       "    <tr>\n",
       "      <th>0</th>\n",
       "      <td>1</td>\n",
       "      <td>2020-03-26</td>\n",
       "      <td>BOGOTA DC-BOGOTA DC</td>\n",
       "      <td>Cédula de ciudadania</td>\n",
       "      <td>1234567891</td>\n",
       "      <td>INFLUENZA HUMANA POR VIRUS NUEVO              ...</td>\n",
       "      <td>DIANA MARIA</td>\n",
       "      <td>MEJIA FONSECA</td>\n",
       "      <td>Femenino</td>\n",
       "      <td></td>\n",
       "      <td>ALIANSALUD</td>\n",
       "      <td>COLOMBIA</td>\n",
       "      <td>BOGOTA DC</td>\n",
       "      <td>BOGOTA DC</td>\n",
       "      <td>NO</td>\n",
       "      <td>NO</td>\n",
       "      <td>RESULTADO_GENERADO                            ...</td>\n",
       "      <td>1</td>\n",
       "      <td>29628</td>\n",
       "      <td>RT-PCR</td>\n",
       "      <td>3/26/20</td>\n",
       "      <td>BOGOTA DC</td>\n",
       "      <td>BOGOTA DC</td>\n",
       "      <td>DIANA</td>\n",
       "      <td>MARIA</td>\n",
       "      <td>Thursday</td>\n",
       "      <td>0</td>\n",
       "      <td>0</td>\n",
       "      <td>1</td>\n",
       "      <td>0</td>\n",
       "      <td>0</td>\n",
       "    </tr>\n",
       "    <tr>\n",
       "      <th>1</th>\n",
       "      <td>2</td>\n",
       "      <td>2020-03-29</td>\n",
       "      <td>BOGOTA DC-BOGOTA DC</td>\n",
       "      <td>Cédula de ciudadania</td>\n",
       "      <td>1234567892</td>\n",
       "      <td>INFLUENZA HUMANA POR VIRUS NUEVO              ...</td>\n",
       "      <td>JUAN SEBASTIAN</td>\n",
       "      <td>MEJIA FONSECA</td>\n",
       "      <td>Masculino</td>\n",
       "      <td></td>\n",
       "      <td>SURA EPS</td>\n",
       "      <td>COLOMBIA</td>\n",
       "      <td>BOGOTA DC</td>\n",
       "      <td>BOGOTA DC</td>\n",
       "      <td>NO</td>\n",
       "      <td>NO</td>\n",
       "      <td>RESULTADO_GENERADO                            ...</td>\n",
       "      <td>1</td>\n",
       "      <td>29628</td>\n",
       "      <td>RT-PCR</td>\n",
       "      <td>3/29/20</td>\n",
       "      <td>BOGOTA DC</td>\n",
       "      <td>BOGOTA DC</td>\n",
       "      <td>JUAN</td>\n",
       "      <td>SEBASTIAN</td>\n",
       "      <td>Sunday</td>\n",
       "      <td>1</td>\n",
       "      <td>1</td>\n",
       "      <td>0</td>\n",
       "      <td>1</td>\n",
       "      <td>0</td>\n",
       "    </tr>\n",
       "  </tbody>\n",
       "</table>\n",
       "</div>"
      ],
      "text/plain": [
       "   ID FechaMuestra       ZonaGeografica         TipoDocumento   Documento  \\\n",
       "0   1   2020-03-26  BOGOTA DC-BOGOTA DC  Cédula de ciudadania  1234567891   \n",
       "1   2   2020-03-29  BOGOTA DC-BOGOTA DC  Cédula de ciudadania  1234567892   \n",
       "\n",
       "                                              Evento         Nombres  \\\n",
       "0  INFLUENZA HUMANA POR VIRUS NUEVO              ...     DIANA MARIA   \n",
       "1  INFLUENZA HUMANA POR VIRUS NUEVO              ...  JUAN SEBASTIAN   \n",
       "\n",
       "       Apellidos       Sexo       Condicion_Final        EAPB Pais_Residencia  \\\n",
       "0  MEJIA FONSECA   Femenino                        ALIANSALUD        COLOMBIA   \n",
       "1  MEJIA FONSECA  Masculino                          SURA EPS        COLOMBIA   \n",
       "\n",
       "  Departamento_Residencia Municipio_Residencia Trabajador_Salud  \\\n",
       "0               BOGOTA DC            BOGOTA DC               NO   \n",
       "1               BOGOTA DC            BOGOTA DC               NO   \n",
       "\n",
       "  Contacto_Caso_Confirmado                                         EstadoCaso  \\\n",
       "0                       NO  RESULTADO_GENERADO                            ...   \n",
       "1                       NO  RESULTADO_GENERADO                            ...   \n",
       "\n",
       "   GenerarResultado  FiltroUsuario Tipo_Prueba Fecha_Resultado Departamento  \\\n",
       "0                 1          29628      RT-PCR         3/26/20    BOGOTA DC   \n",
       "1                 1          29628      RT-PCR         3/29/20    BOGOTA DC   \n",
       "\n",
       "      Ciudad PrimerNombre SegundoNombre   WeekDay  SexoCat  CodeSexo  0  1  2  \n",
       "0  BOGOTA DC        DIANA         MARIA  Thursday        0         0  1  0  0  \n",
       "1  BOGOTA DC         JUAN     SEBASTIAN    Sunday        1         1  0  1  0  "
      ]
     },
     "execution_count": 49,
     "metadata": {},
     "output_type": "execute_result"
    }
   ],
   "source": [
    "pd.set_option('max_columns', None)\n",
    "data.head(2)"
   ]
  },
  {
   "cell_type": "markdown",
   "metadata": {},
   "source": [
    "### Selecting columns by type\n",
    "\n",
    "If you want to only work with categorical variables, it is possible via the `select_dtypes()` method:"
   ]
  },
  {
   "cell_type": "code",
   "execution_count": 50,
   "metadata": {},
   "outputs": [
    {
     "name": "stdout",
     "output_type": "stream",
     "text": [
      "<class 'pandas.core.frame.DataFrame'>\n",
      "RangeIndex: 23034 entries, 0 to 23033\n",
      "Data columns (total 19 columns):\n",
      "ZonaGeografica              23034 non-null object\n",
      "TipoDocumento               23034 non-null object\n",
      "Evento                      23034 non-null object\n",
      "Nombres                     23034 non-null object\n",
      "Apellidos                   23034 non-null object\n",
      "Condicion_Final             23034 non-null object\n",
      "EAPB                        19706 non-null object\n",
      "Pais_Residencia             8799 non-null object\n",
      "Departamento_Residencia     8504 non-null object\n",
      "Municipio_Residencia        8529 non-null object\n",
      "Trabajador_Salud            23034 non-null object\n",
      "Contacto_Caso_Confirmado    23034 non-null object\n",
      "EstadoCaso                  23034 non-null object\n",
      "Tipo_Prueba                 23034 non-null object\n",
      "Fecha_Resultado             23034 non-null object\n",
      "Departamento                23034 non-null object\n",
      "Ciudad                      23034 non-null object\n",
      "PrimerNombre                23034 non-null object\n",
      "SegundoNombre               17540 non-null object\n",
      "dtypes: object(19)\n",
      "memory usage: 3.3+ MB\n"
     ]
    }
   ],
   "source": [
    "#copia del dataframe, filtro por object\n",
    "cat_data = data.select_dtypes(include=['object']).copy()\n",
    "cat_data.info()"
   ]
  },
  {
   "cell_type": "markdown",
   "metadata": {},
   "source": [
    "### Creating a unique identifier\n",
    "\n",
    "In some situations, you will not have a unique identifier readily available for your data. However, you can create one based on a combination of the available data, such that no two rows could possibly ever exhibit the same combination. Here, for examples, the columns `Nombres` and `Apellidos` can be combined and converted into a unique ID:"
   ]
  },
  {
   "cell_type": "code",
   "execution_count": 51,
   "metadata": {},
   "outputs": [
    {
     "data": {
      "text/plain": [
       "0            DIANA MARIA:MEJIA FONSECA\n",
       "1         JUAN SEBASTIAN:MEJIA FONSECA\n",
       "2         MARIA BETZAIDA:MEJIA FONSECA\n",
       "3             JUAN PABLO:MEJIA FONSECA\n",
       "4    LUIS EDUARDO JUNIOR:MEJIA FONSECA\n",
       "Name: id_unique, dtype: object"
      ]
     },
     "execution_count": 51,
     "metadata": {},
     "output_type": "execute_result"
    }
   ],
   "source": [
    "data['id_unique'] = data.apply(lambda x: ':'.join([str(x['Nombres']), str(x['Apellidos'])]), axis=1)\n",
    "data['id_unique'].head()"
   ]
  },
  {
   "cell_type": "code",
   "execution_count": 52,
   "metadata": {},
   "outputs": [
    {
     "data": {
      "text/plain": [
       "array(['RElBTkEgTUFSSUE6TUVKSUEgRk9OU0VDQQ==',\n",
       "       'SlVBTiBTRUJBU1RJQU46TUVKSUEgRk9OU0VDQQ==',\n",
       "       'TUFSSUEgQkVUWkFJREE6TUVKSUEgRk9OU0VDQQ==', ...,\n",
       "       'TElCSUEgRVNURUxBOk1FSklBIEZPTlNFQ0E=',\n",
       "       'TUVSTElTIFZJVklBTkE6TUVKSUEgRk9OU0VDQQ==',\n",
       "       'RU5NQVJZIEpPU0VGSU5BOk1FSklBIEZPTlNFQ0E='], dtype=object)"
      ]
     },
     "execution_count": 52,
     "metadata": {},
     "output_type": "execute_result"
    }
   ],
   "source": [
    "data['id_unique'] = data.apply(lambda x: ':'.join([str(x['Nombres']), str(x['Apellidos'])]), axis=1)\n",
    "data['id_unique'] = data['id_unique'].apply(lambda x: base64.b64encode(x.encode()).decode())\n",
    "data['id_unique'].unique()"
   ]
  },
  {
   "cell_type": "markdown",
   "metadata": {},
   "source": [
    "### Working with null values\n",
    "\n",
    "There are a few ways to go about handling null values in `pandas` DataFrames. Earlier, we simply replaced missing values with text that indicated that no information was available.\n",
    "\n",
    "Here, we will use a new method - **imputation**. Let's first check which of our columns actually contain null values:"
   ]
  },
  {
   "cell_type": "code",
   "execution_count": 53,
   "metadata": {},
   "outputs": [
    {
     "data": {
      "text/html": [
       "<div>\n",
       "<style scoped>\n",
       "    .dataframe tbody tr th:only-of-type {\n",
       "        vertical-align: middle;\n",
       "    }\n",
       "\n",
       "    .dataframe tbody tr th {\n",
       "        vertical-align: top;\n",
       "    }\n",
       "\n",
       "    .dataframe thead th {\n",
       "        text-align: right;\n",
       "    }\n",
       "</style>\n",
       "<table border=\"1\" class=\"dataframe\">\n",
       "  <thead>\n",
       "    <tr style=\"text-align: right;\">\n",
       "      <th></th>\n",
       "      <th>slug</th>\n",
       "      <th>asset</th>\n",
       "      <th>name</th>\n",
       "      <th>date</th>\n",
       "      <th>ranknow</th>\n",
       "      <th>open</th>\n",
       "      <th>high</th>\n",
       "      <th>low</th>\n",
       "      <th>close</th>\n",
       "      <th>volume</th>\n",
       "      <th>market</th>\n",
       "      <th>close_ratio</th>\n",
       "      <th>spread</th>\n",
       "    </tr>\n",
       "  </thead>\n",
       "  <tbody>\n",
       "    <tr>\n",
       "      <th>0</th>\n",
       "      <td>target-coin</td>\n",
       "      <td>TGT</td>\n",
       "      <td>Target Coin</td>\n",
       "      <td>29-09-2017</td>\n",
       "      <td>607</td>\n",
       "      <td>0.028961</td>\n",
       "      <td>0.054766</td>\n",
       "      <td>0.028961</td>\n",
       "      <td>0.041777</td>\n",
       "      <td>69996</td>\n",
       "      <td>0.0</td>\n",
       "      <td>0.4966</td>\n",
       "      <td>0.03</td>\n",
       "    </tr>\n",
       "    <tr>\n",
       "      <th>1</th>\n",
       "      <td>target-coin</td>\n",
       "      <td>TGT</td>\n",
       "      <td>Target Coin</td>\n",
       "      <td>30-09-2017</td>\n",
       "      <td>607</td>\n",
       "      <td>0.041783</td>\n",
       "      <td>0.046196</td>\n",
       "      <td>0.031435</td>\n",
       "      <td>0.031744</td>\n",
       "      <td>5725</td>\n",
       "      <td>0.0</td>\n",
       "      <td>0.0209</td>\n",
       "      <td>0.01</td>\n",
       "    </tr>\n",
       "  </tbody>\n",
       "</table>\n",
       "</div>"
      ],
      "text/plain": [
       "          slug asset         name        date  ranknow      open      high  \\\n",
       "0  target-coin   TGT  Target Coin  29-09-2017      607  0.028961  0.054766   \n",
       "1  target-coin   TGT  Target Coin  30-09-2017      607  0.041783  0.046196   \n",
       "\n",
       "        low     close  volume  market  close_ratio  spread  \n",
       "0  0.028961  0.041777   69996     0.0       0.4966    0.03  \n",
       "1  0.031435  0.031744    5725     0.0       0.0209    0.01  "
      ]
     },
     "execution_count": 53,
     "metadata": {},
     "output_type": "execute_result"
    }
   ],
   "source": [
    "data = pd.read_csv('crypto-markets.txt')\n",
    "data.head(2)"
   ]
  },
  {
   "cell_type": "code",
   "execution_count": 54,
   "metadata": {},
   "outputs": [
    {
     "data": {
      "text/plain": [
       "slug           False\n",
       "asset          False\n",
       "name           False\n",
       "date           False\n",
       "ranknow        False\n",
       "open            True\n",
       "high           False\n",
       "low             True\n",
       "close          False\n",
       "volume         False\n",
       "market         False\n",
       "close_ratio    False\n",
       "spread         False\n",
       "dtype: bool"
      ]
     },
     "execution_count": 54,
     "metadata": {},
     "output_type": "execute_result"
    }
   ],
   "source": [
    "#valida si al menos 1 estuvo en verdadero\n",
    "data.isnull().any()"
   ]
  },
  {
   "cell_type": "markdown",
   "metadata": {},
   "source": [
    "We'll go ahead and **impute** the missing values; that is, find suitable replacement values based on **interpolating** from the rest of the data: "
   ]
  },
  {
   "cell_type": "code",
   "execution_count": 55,
   "metadata": {},
   "outputs": [
    {
     "name": "stdout",
     "output_type": "stream",
     "text": [
      "          0         1\n",
      "0  0.028961  0.028961\n",
      "1  0.041783  0.031435\n"
     ]
    },
    {
     "data": {
      "text/plain": [
       "slug           False\n",
       "asset          False\n",
       "name           False\n",
       "date           False\n",
       "ranknow        False\n",
       "open           False\n",
       "high           False\n",
       "low            False\n",
       "close          False\n",
       "volume         False\n",
       "market         False\n",
       "close_ratio    False\n",
       "spread         False\n",
       "dtype: bool"
      ]
     },
     "execution_count": 55,
     "metadata": {},
     "output_type": "execute_result"
    }
   ],
   "source": [
    "imputer = IterativeImputer()\n",
    "\n",
    "cols_to_impute = ['open', 'low']\n",
    "\n",
    "imputed_df = pd.DataFrame(imputer.fit_transform(data[cols_to_impute]))\n",
    "\n",
    "print(imputed_df.head(2))\n",
    "imputed_df.columns = cols_to_impute\n",
    "\n",
    "data[cols_to_impute] = imputed_df[cols_to_impute]\n",
    "\n",
    "data.isnull().any()"
   ]
  },
  {
   "cell_type": "markdown",
   "metadata": {},
   "source": [
    "## Strings\n",
    "\n",
    "String manipulation is another important component of data transformation."
   ]
  },
  {
   "cell_type": "code",
   "execution_count": 56,
   "metadata": {},
   "outputs": [
    {
     "data": {
      "text/plain": [
       "'Hello, \\n\\tWorld!'"
      ]
     },
     "execution_count": 56,
     "metadata": {},
     "output_type": "execute_result"
    }
   ],
   "source": [
    "text = \"Hello, \\n\\tWorld!\"\n",
    "text"
   ]
  },
  {
   "cell_type": "code",
   "execution_count": 57,
   "metadata": {},
   "outputs": [
    {
     "name": "stdout",
     "output_type": "stream",
     "text": [
      "Hello, \n",
      "\tWorld!\n"
     ]
    }
   ],
   "source": [
    "print(text)"
   ]
  },
  {
   "cell_type": "markdown",
   "metadata": {},
   "source": [
    "When working with strings, we can use the `string` library to access some useful characters:"
   ]
  },
  {
   "cell_type": "code",
   "execution_count": 58,
   "metadata": {},
   "outputs": [
    {
     "name": "stdout",
     "output_type": "stream",
     "text": [
      "ascii_letters:  abcdefghijklmnopqrstuvwxyzABCDEFGHIJKLMNOPQRSTUVWXYZ\n",
      "ascii_lowercase:  abcdefghijklmnopqrstuvwxyz\n",
      "ascii_uppercase:  ABCDEFGHIJKLMNOPQRSTUVWXYZ\n",
      "digits:  0123456789\n",
      "hexdigits:  0123456789abcdefABCDEF\n",
      "whitespace:   \t\n",
      "\r",
      "\u000b",
      "\f",
      "\n",
      "punctuation:  !\"#$%&'()*+,-./:;<=>?@[\\]^_`{|}~\n",
      "printable:  0123456789abcdefghijklmnopqrstuvwxyzABCDEFGHIJKLMNOPQRSTUVWXYZ!\"#$%&'()*+,-./:;<=>?@[\\]^_`{|}~ \t\n",
      "\r",
      "\u000b",
      "\f",
      "\n"
     ]
    }
   ],
   "source": [
    "import string\n",
    "from string import Formatter\n",
    "from string import Template\n",
    "\n",
    "# String constants\n",
    "print('ascii_letters: ',string.ascii_letters)\n",
    "print('ascii_lowercase: ',string.ascii_lowercase)\n",
    "print('ascii_uppercase: ',string.ascii_uppercase)\n",
    "print('digits: ',string.digits)\n",
    "print('hexdigits: ',string.hexdigits)\n",
    "print('whitespace: ',string.whitespace)  # ' \\t\\n\\r\\x0b\\x0c'\n",
    "print('punctuation: ',string.punctuation)\n",
    "print('printable: ',string.printable)"
   ]
  },
  {
   "cell_type": "code",
   "execution_count": 59,
   "metadata": {},
   "outputs": [
    {
     "name": "stdout",
     "output_type": "stream",
     "text": [
      "Hello world ds4a\n",
      "HELLO WORLD DS4A\n",
      "hello world ds4a\n",
      "123456  \n",
      "  123456\n",
      "123456\n"
     ]
    }
   ],
   "source": [
    "# Changing text\n",
    "print('hello world ds4a'.capitalize())\n",
    "print('hello world ds4a'.upper())\n",
    "print('HELLO WORLD DS4A'.lower())\n",
    "print('  123456  '.lstrip())\n",
    "print('  123456  '.rstrip())\n",
    "print('  123456  '.strip())"
   ]
  },
  {
   "cell_type": "code",
   "execution_count": 62,
   "metadata": {},
   "outputs": [
    {
     "name": "stdout",
     "output_type": "stream",
     "text": [
      "3\n",
      "False\n",
      "False\n",
      "4\n",
      "-1\n",
      "4\n",
      "True\n",
      "True\n",
      "True\n"
     ]
    }
   ],
   "source": [
    "# Looking in text\n",
    "print('hello world ML Python'.count('o'))\n",
    "print('hello world ML Python'.endswith('a'))\n",
    "print('hello world ML Python'.startswith('a'))\n",
    "print('hello world ML Python'.find('o'))\n",
    "print('hello world ML Python'.find('z'))\n",
    "print('hello world ML Python'.index('o'))\n",
    "print('hello123'.isalnum()) # Return True if all characters in the string are alphanumeric and there is at least one character, False otherwise.\n",
    "print('123456'.isdigit()) # Return True if all characters in the string are digits and there is at least one character, False otherwise. \n",
    "print('hello'.isalpha()) # Return True if all characters in the string are alphabetic and there is at least one character, False otherwise."
   ]
  },
  {
   "cell_type": "code",
   "execution_count": 61,
   "metadata": {},
   "outputs": [
    {
     "name": "stdout",
     "output_type": "stream",
     "text": [
      "**********************hello***********************\n",
      "0000123456\n"
     ]
    }
   ],
   "source": [
    "# Other functions\n",
    "print('hello'.center(50,'*'))\n",
    "print('123456'.zfill(10))"
   ]
  },
  {
   "cell_type": "code",
   "execution_count": null,
   "metadata": {},
   "outputs": [],
   "source": []
  }
 ],
 "metadata": {
  "anaconda-cloud": {},
  "kernelspec": {
   "display_name": "Python 3",
   "language": "python",
   "name": "python3"
  },
  "language_info": {
   "codemirror_mode": {
    "name": "ipython",
    "version": 3
   },
   "file_extension": ".py",
   "mimetype": "text/x-python",
   "name": "python",
   "nbconvert_exporter": "python",
   "pygments_lexer": "ipython3",
   "version": "3.8.3"
  }
 },
 "nbformat": 4,
 "nbformat_minor": 4
}
